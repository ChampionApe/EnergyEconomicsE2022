{
 "cells": [
  {
   "cell_type": "code",
   "execution_count": 1,
   "id": "b632ec98-99d6-4cbb-8573-3724555e984c",
   "metadata": {},
   "outputs": [],
   "source": [
    "%run stdPackages.ipynb\n",
    "slides = False # print to slides format if True\n",
    "out_folder = os.path.join(d['curr'], 'Misc', 'Figs')\n",
    "d['data'] = os.path.join(d['curr'],'Misc','Data')\n",
    "read = {'variables': ['Fundamentals', 'LoadVariables', 'TransmissionLines', 'GeneratorsVariables'],\n",
    "        'maps': ['LoadMaps','GeneratorsMaps'],\n",
    "        'variable2D': ['LoadVariation_E','LoadVariation_H','HourlyVariation'],\n",
    "        'scalars': ['Scalars']}\n",
    "db = dbFromWB(os.path.join(d['data'],'mGF_PH.xlsx'), read)\n",
    "readSets(db)"
   ]
  },
  {
   "cell_type": "markdown",
   "id": "8dd0284a-820d-4a11-90f3-37c3eb43c9fd",
   "metadata": {},
   "source": [
    "# Greenfield experiments with Danish-looking aggregate data"
   ]
  },
  {
   "cell_type": "markdown",
   "id": "22f695a0-14f7-435e-82c7-b554f780e59e",
   "metadata": {
    "tags": []
   },
   "source": [
    "### 1. Descriptive"
   ]
  },
  {
   "cell_type": "markdown",
   "id": "3c1abc47-4201-4072-b823-84eea288537f",
   "metadata": {},
   "source": [
    "Let's start by plotting time series data. Collect all hourly variation in one dataframe:"
   ]
  },
  {
   "cell_type": "code",
   "execution_count": 2,
   "id": "c9801106-c9b2-4fa6-a1ba-2a154e2f9306",
   "metadata": {},
   "outputs": [],
   "source": [
    "load_E = db['LoadVariation_E'].rename_axis(index={'c_E':'hvt'})\n",
    "load_E.index = load_E.index.set_levels('Load E_'+load_E.index.levels[-1], level='hvt')\n",
    "load_H = db['LoadVariation_H'].rename_axis(index={'c_H':'hvt'})\n",
    "load_H.index = load_H.index.set_levels('Load H_'+load_H.index.levels[-1], level='hvt')\n",
    "df_H = pd.concat([db['CapVariation'].unstack('hvt'), load_E.unstack('hvt'), load_H.unstack('hvt')], axis=1).astype(float)"
   ]
  },
  {
   "cell_type": "markdown",
   "id": "c9d98866-3420-47b7-857a-0c6b64a9300f",
   "metadata": {},
   "source": [
    "Split the samples into DK1 and DK2 time series':"
   ]
  },
  {
   "cell_type": "code",
   "execution_count": 3,
   "id": "d801e174-b44d-49a4-ae59-46122266f579",
   "metadata": {},
   "outputs": [
    {
     "name": "stdout",
     "output_type": "stream",
     "text": [
      "\\begin{tabular}{lrrrrrrr}\n",
      "\\toprule\n",
      "hvt &    PV &  WNearShore &  WOffShore &  WOnShore &  Load E &  Load H &    SH \\\\\n",
      "hvt        &       &             &            &           &         &         &       \\\\\n",
      "\\midrule\n",
      "PV         &  1.00 &       -0.20 &      -0.21 &     -0.15 &    0.18 &   -0.27 &  0.49 \\\\\n",
      "WNearShore & -0.20 &        1.00 &       0.77 &      0.91 &    0.28 &    0.39 & -0.22 \\\\\n",
      "WOffShore  & -0.21 &        0.77 &       1.00 &      0.82 &    0.20 &    0.34 & -0.18 \\\\\n",
      "WOnShore   & -0.15 &        0.91 &       0.82 &      1.00 &    0.26 &    0.40 & -0.18 \\\\\n",
      "Load E     &  0.18 &        0.28 &       0.20 &      0.26 &    1.00 &    0.34 & -0.10 \\\\\n",
      "Load H     & -0.27 &        0.39 &       0.34 &      0.40 &    0.34 &    1.00 & -0.35 \\\\\n",
      "SH         &  0.49 &       -0.22 &      -0.18 &     -0.18 &   -0.10 &   -0.35 &  1.00 \\\\\n",
      "\\bottomrule\n",
      "\\end{tabular}\n",
      "\n"
     ]
    }
   ],
   "source": [
    "DK1 = df_H.columns[df_H.columns.str.contains('DK1')].union(['SH'])\n",
    "DK2 = df_H.columns[df_H.columns.str.contains('DK2')].union(['SH'])\n",
    "df_DK1 = df_H[DK1]\n",
    "df_DK2 = df_H[DK2]\n",
    "df_DK1.columns = df_DK1.columns.str.strip('_DK1')\n",
    "df_DK2.columns = df_DK1.columns.str.strip('_DK2')\n",
    "print(df_DK1.corr().round(2).to_latex())"
   ]
  },
  {
   "cell_type": "code",
   "execution_count": 4,
   "id": "c26a6ca0-4fac-419f-81f8-f8fc001fcf59",
   "metadata": {},
   "outputs": [
    {
     "name": "stdout",
     "output_type": "stream",
     "text": [
      "\\begin{tabular}{lrrrrrrr}\n",
      "\\toprule\n",
      "hvt &    PV &  WNearShore &  WOffShore &  WOnShore &  Load E &  Load H &    SH \\\\\n",
      "hvt        &       &             &            &           &         &         &       \\\\\n",
      "\\midrule\n",
      "PV         &  1.00 &       -0.21 &      -0.13 &     -0.13 &    0.16 &   -0.23 &  0.48 \\\\\n",
      "WNearShore & -0.21 &        1.00 &       0.87 &      0.82 &    0.20 &    0.29 & -0.21 \\\\\n",
      "WOffShore  & -0.13 &        0.87 &       1.00 &      0.76 &    0.17 &    0.24 & -0.16 \\\\\n",
      "WOnShore   & -0.13 &        0.82 &       0.76 &      1.00 &    0.28 &    0.36 & -0.20 \\\\\n",
      "Load E     &  0.16 &        0.20 &       0.17 &      0.28 &    1.00 &    0.40 & -0.12 \\\\\n",
      "Load H     & -0.23 &        0.29 &       0.24 &      0.36 &    0.40 &    1.00 & -0.34 \\\\\n",
      "SH         &  0.48 &       -0.21 &      -0.16 &     -0.20 &   -0.12 &   -0.34 &  1.00 \\\\\n",
      "\\bottomrule\n",
      "\\end{tabular}\n",
      "\n"
     ]
    }
   ],
   "source": [
    "print(df_DK2.corr().round(2).to_latex())"
   ]
  },
  {
   "cell_type": "markdown",
   "id": "f0eaa898-a376-4f13-8740-7ef646606dd8",
   "metadata": {},
   "source": [
    "The marginal costs:"
   ]
  },
  {
   "cell_type": "code",
   "execution_count": 5,
   "id": "700195f0-822a-453f-ac54-f99a53f7c335",
   "metadata": {},
   "outputs": [],
   "source": [
    "m = mGF_PH.mSimple(db)\n",
    "m.preSolve()"
   ]
  },
  {
   "cell_type": "markdown",
   "id": "28f42695-92ab-454f-9dd2-abe026ed3938",
   "metadata": {},
   "source": [
    "What are the average costs per GJ supply if utilization was 100 \\%? (the heat pumps are not included here; we can't assess them in the same way)\n",
    "* If we install 1 GJ/h capacity, the plants produce ```m.hourlyCapFactors``` GJ throughout a year, with a marginal cost of ```mc```.\n",
    "* The plant pays ```FOM``` and ```InvestCost_A``` for the 1 GJ/h capacity.\n",
    "* For back-pressure plants, installing 1 GJ/h capacity can yield both production of heat and electricity. So, we scale costs with the amount of GJ produced. "
   ]
  },
  {
   "cell_type": "code",
   "execution_count": 6,
   "id": "37154ad5-9f32-4477-a355-62597079357e",
   "metadata": {},
   "outputs": [],
   "source": [
    "E2H_BP = mGF_PH.subsetIdsTech(db['E2H'], 'BP',db)\n",
    "E2H_HP = mGF_PH.subsetIdsTech(db['E2H'], 'HP',db)\n",
    "src = m.db['mc'].copy() # marginal costs of producing at capacity throughout a year\n",
    "src.loc[E2H_BP.index] = src.loc[E2H_BP.index]/(1+1/E2H_BP) # scale SRC for back-pressure plants\n",
    "invcosts = applyMult(m.db['InvestCost_A'], m.db['id2tech']).droplevel('tech') * 1000 / pdSum(m.hourlyCapFactors,'h')\n",
    "invcosts.loc[E2H_BP.index] = invcosts.loc[E2H_BP.index]/(1+1/E2H_BP) # scale SRC for back-pressure plants\n",
    "tc = invcosts.add(src,fill_value=0)"
   ]
  },
  {
   "cell_type": "markdown",
   "id": "2dbb83b2-4ff7-4947-8493-a6fcf8d753ce",
   "metadata": {},
   "source": [
    "Map to technologies (cost structure of technologies is the same in DK1 and DK2)"
   ]
  },
  {
   "cell_type": "code",
   "execution_count": 7,
   "id": "557aea83-10c5-4601-9ce8-1f82fc1714f2",
   "metadata": {},
   "outputs": [],
   "source": [
    "src = applyMult(src, m.db['id2tech']).droplevel('id').groupby('tech').first()\n",
    "invcosts = applyMult(invcosts, m.db['id2tech']).droplevel('id').groupby('tech').first()\n",
    "tc = applyMult(tc, m.db['id2tech']).droplevel('id').groupby('tech').first()\n",
    "df_Costs = pd.DataFrame({'Short run costs/GJ': src, 'Investment and fixed costs/GJ': invcosts, 'Unit cost': tc}).sort_values(by='Unit cost')"
   ]
  },
  {
   "cell_type": "code",
   "execution_count": 8,
   "id": "ba19743c-513b-45b0-a515-5602a9801f76",
   "metadata": {},
   "outputs": [],
   "source": [
    "%%capture\n",
    "one_graph()\n",
    "fig, ax = plt.subplots(1,1,figsize = (14,8))\n",
    "df_Costs.iloc[:,0:2].plot.bar(stacked=True,ax=ax)\n",
    "ax.set_ylabel('$€/GJ$', labelpad=10);\n",
    "ax.set_xlabel('Technology', labelpad=10);\n",
    "fig.tight_layout();\n",
    "if slides:\n",
    "    fig.savefig(f\"{out_folder}\\\\mGF_PH_Costs_slides.pdf\",facecolor='#FAFAFA',edgecolor='k')\n",
    "else:\n",
    "    fig.savefig(f\"{out_folder}\\\\mGF_PH_Costs.pdf\",edgecolor='k')"
   ]
  },
  {
   "cell_type": "markdown",
   "id": "af18a556-7132-451d-9ecf-e9ca46125d18",
   "metadata": {},
   "source": [
    "### 2. Create *design days approach*-like input data from full yearly samples"
   ]
  },
  {
   "cell_type": "code",
   "execution_count": 9,
   "id": "cf8a9969-8484-44cb-ba31-2e76ae142144",
   "metadata": {},
   "outputs": [],
   "source": [
    "db_before = db.copy()"
   ]
  },
  {
   "cell_type": "markdown",
   "id": "1086ed22-1186-407f-8f42-d2ca4f4a8fcb",
   "metadata": {},
   "source": [
    "*Create representative days for each month instead:*"
   ]
  },
  {
   "cell_type": "code",
   "execution_count": 10,
   "id": "4b6a3901-85ef-401d-aa36-1d09e6fc5c02",
   "metadata": {},
   "outputs": [],
   "source": [
    "lm = [31,28,31,30,31,30,31,31,30,31,30,31] # number of days in the months\n",
    "months = [i for l in [[j+1]*24*lm[j] for j in range(len(lm))] for i in l]\n",
    "hours  = [j for l in [range(1,25)]*365 for j in l]\n",
    "map_ = pd.MultiIndex.from_arrays([db['h'], hours, months], names = ['h','h_new','month'])\n",
    "map2flat = pd.MultiIndex.from_arrays([pd.MultiIndex.from_arrays([months,hours]).to_flat_index(),months,hours], names = ['h','month','h_new']).unique()\n",
    "map_flat = pd.MultiIndex.from_arrays([db['h'], pd.MultiIndex.from_arrays([months,hours]).to_flat_index()], names = ['h','h_new'])"
   ]
  },
  {
   "cell_type": "markdown",
   "id": "9b2c5b12-6a3f-4363-b4b2-36a4c30fca54",
   "metadata": {},
   "source": [
    "*Use a version of aggregation that uses extreme values instead of averages (if a cluster group is below average --> use minimum observation, if a cluster group is above average --> use maximum observation):*"
   ]
  },
  {
   "cell_type": "code",
   "execution_count": 11,
   "id": "cf338d98-8bf1-43bd-8f2c-2254cf10dcb7",
   "metadata": {},
   "outputs": [],
   "source": [
    "def aggregateV1(v, map_, map2flat):\n",
    "    \"\"\" Map variable 'v' to hours and months. Flatten index to 1d\"\"\"\n",
    "    v_gb = applyMult(v,map_).groupby(list(set(v.index.names).union(['h_new','month'])-set('h')))\n",
    "    v_min,v_mean,v_max = v_gb.min()*v_gb.count(), v_gb.sum(), v_gb.max()*v_gb.count()\n",
    "    mean_ = v_mean.groupby(list(set(v.index.names).union(['month'])-set('h'))).mean()\n",
    "    v_new = pd.concat([v_min[(v_mean-mean_<=0).reorder_levels(v_mean.index.names)], v_max[(v_mean-mean_>0).reorder_levels(v_mean.index.names)]])\n",
    "    v_new = applyMult(v_new, map2flat).droplevel(['h_new','month']).reorder_levels(v.index.names)\n",
    "    return v_new * pdSum(v,'h') / pdSum(v_new,'h')\n",
    "def aggregateV2(v, map_flat):\n",
    "    \"\"\" Map variable 'v' to flat index of months/hours directly. \"\"\"\n",
    "    v_gb = applyMult(v,map_).groupby([k if k!='h' else 'h_new' for k in v.index.names])\n",
    "    v_min,v_mean,v_max = v_gb.min()*v_gb.count(), v_gb.sum(), v_gb.max()*v_gb.count()\n",
    "    mean_ = v_mean.groupby([k for k in v.index.names if k!='h']).mean()\n",
    "    v_new = pd.concat([v_min[v_mean-mean_<=0], v_max[v_mean-mean_>0]]).rename_axis(index={'h_new':'h'})\n",
    "    return v_new * pdSum(v,'h')/ pdSum(v_new,'h')"
   ]
  },
  {
   "cell_type": "markdown",
   "id": "c0e67202-c8e9-45bd-9340-3fd237d9a9b7",
   "metadata": {},
   "source": [
    "*Update symbols in database*"
   ]
  },
  {
   "cell_type": "code",
   "execution_count": 12,
   "id": "68689146-ffc5-4032-a7c3-76ffd1bfe898",
   "metadata": {},
   "outputs": [],
   "source": [
    "[db.__setitem__(k,aggregateV1(db[k], map_, map2flat)) for k in db.variableDomains('h')];\n",
    "# [db.__setitem__(k,aggregateV2(db[k], map_flat)) for k in db.variableDomains('h')];\n",
    "db['h'] = db['CapVariation'].index.levels[0] # update 'h' as well"
   ]
  },
  {
   "cell_type": "markdown",
   "id": "f9d067cc-a6d1-4a60-9c86-7f5696491deb",
   "metadata": {},
   "source": [
    "### 3. Baseline model without aggregate capacity constraints"
   ]
  },
  {
   "cell_type": "code",
   "execution_count": 13,
   "id": "ff220eb9-8017-4cc9-a649-8411508f4622",
   "metadata": {},
   "outputs": [
    {
     "name": "stdout",
     "output_type": "stream",
     "text": [
      "Solution status 0: Optimization terminated successfully. (HiGHS Status 7: Optimal)\n"
     ]
    }
   ],
   "source": [
    "m = mGF_PH.mSimple(db)\n",
    "m.solve()"
   ]
  },
  {
   "cell_type": "markdown",
   "id": "c5a50911-3a04-41ee-a82e-64ca799fd369",
   "metadata": {},
   "source": [
    "**Generation capacity:**"
   ]
  },
  {
   "cell_type": "code",
   "execution_count": 14,
   "id": "d7c340f1-7ad8-4cef-96cb-6856e2962ab8",
   "metadata": {},
   "outputs": [],
   "source": [
    "cap = applyMult(pd.concat([applyMult(m.db['GeneratingCap_E'], db['id2tech']), applyMult(m.db['GeneratingCap_H'], db['id2tech'])]), db['id2g']).droplevel('id')\n",
    "cap = cap.rename_axis(index={'g':None})\n",
    "cap = cap.unstack().reindex(df_Costs.index)"
   ]
  },
  {
   "cell_type": "code",
   "execution_count": 15,
   "id": "2f9e9f33-c38f-4cee-be6d-370e8e67efbc",
   "metadata": {},
   "outputs": [],
   "source": [
    "%%capture\n",
    "one_graph()\n",
    "fig, ax = plt.subplots(1,1,figsize = (14,8))\n",
    "cap.plot.bar(ax=ax);\n",
    "ax.set_ylabel('TJ/h capacity', labelpad=10);\n",
    "ax.set_xlabel('Technology', labelpad=10);\n",
    "fig.tight_layout();\n",
    "if slides:\n",
    "    fig.savefig(f\"{out_folder}\\\\mGF_PH_Baseline_GeneratingCap_slides.pdf\",facecolor='#FAFAFA',edgecolor='k')\n",
    "else:\n",
    "    fig.savefig(f\"{out_folder}\\\\mGF_PH_Baseline_GeneratingCap.pdf\",edgecolor='k')"
   ]
  },
  {
   "cell_type": "markdown",
   "id": "faf0cbd8-2283-4683-9f5b-af0b4ce8186b",
   "metadata": {},
   "source": [
    "*Plot **practical** capacity factors for active plants:*"
   ]
  },
  {
   "cell_type": "code",
   "execution_count": 16,
   "id": "738221dd-8d5d-4e20-8870-175acb144150",
   "metadata": {},
   "outputs": [],
   "source": [
    "capFactor_E = (pdSum(m.db['Generation_E'], 'h')/ pdNonZero(pdSum(m.hourlyGeneratingCap_E, 'h')) ).dropna() \n",
    "capFactor_H = (pdSum(m.db['Generation_H'], 'h')/ pdNonZero(pdSum(m.hourlyGeneratingCap_H, 'h')) ).dropna()\n",
    "capFactor = applyMult(pd.concat([capFactor_E, capFactor_H]), db['id2tech']).droplevel('id')\n",
    "capFactor = capFactor.rename_axis(index={'g':None})\n",
    "capFactor = capFactor.unstack(0).reindex(df_Costs.index).dropna()"
   ]
  },
  {
   "cell_type": "code",
   "execution_count": 17,
   "id": "207fc2d8-2806-4ba0-89f8-819c0fb15641",
   "metadata": {},
   "outputs": [],
   "source": [
    "%%capture\n",
    "one_graph()\n",
    "fig, ax = plt.subplots(1,1,figsize = (14,8))\n",
    "capFactor.plot.bar(ax=ax);\n",
    "ax.set_ylabel('Practical capacity factor', labelpad=10);\n",
    "ax.set_ylim([0,1]);\n",
    "ax.set_xlabel('Technology', labelpad=10);\n",
    "fig.tight_layout();\n",
    "if slides:\n",
    "    fig.savefig(f\"{out_folder}\\\\mGF_PH_Baseline_PCF_slides.pdf\",facecolor='#FAFAFA',edgecolor='k')\n",
    "else:\n",
    "    fig.savefig(f\"{out_folder}\\\\mGF_PH_Baseline_PCF.pdf\",edgecolor='k')"
   ]
  },
  {
   "cell_type": "markdown",
   "id": "2744caba-850d-4b12-b3ff-a01e4a007084",
   "metadata": {},
   "source": [
    "*Plot residual demand curves:*"
   ]
  },
  {
   "cell_type": "code",
   "execution_count": 18,
   "id": "c90bb428-c26c-4124-82f6-c3d95cea7592",
   "metadata": {},
   "outputs": [],
   "source": [
    "intermittent = mGF_PH.getTechs_i(['PV','WNearShore','WOffShore','WOnShore','SH'],m.db)\n",
    "residualDemand_E = pdSum(m.hourlyLoad_E-pdSum(applyMult(rc_pd(m.hourlyGeneratingCap_E, intermittent), m.db['id2g']), 'id'), 'g')\n",
    "residualDemand_H = pdSum(m.hourlyLoad_H-pdSum(applyMult(rc_pd(m.hourlyGeneratingCap_H, intermittent), m.db['id2g']), 'id'), 'g')"
   ]
  },
  {
   "cell_type": "code",
   "execution_count": 19,
   "id": "13187072-5d67-4dc3-930e-a223759f5a61",
   "metadata": {},
   "outputs": [],
   "source": [
    "residualDemand_E = residualDemand_E.sort_values(ascending=False).reset_index(drop=True)\n",
    "residualDemand_E.index = [i/(len(residualDemand_E)) for i in range(1, len(residualDemand_E)+1)]\n",
    "residualDemand_E.at[0] = residualDemand_E.iloc[0]\n",
    "residualDemand_H = residualDemand_H.sort_values(ascending=False).reset_index(drop=True)\n",
    "residualDemand_H.index = [i/(len(residualDemand_H)) for i in range(1, len(residualDemand_H)+1)]\n",
    "residualDemand_H.at[0] = residualDemand_H.iloc[0]"
   ]
  },
  {
   "cell_type": "code",
   "execution_count": 20,
   "id": "36279130-835d-48b0-b04d-8d33873116e0",
   "metadata": {},
   "outputs": [],
   "source": [
    "%%capture\n",
    "mult_graphs()\n",
    "nplots = 2\n",
    "nrows = math.ceil(nplots/2)\n",
    "fig, axes = plt.subplots(nrows, min(nplots, 2), figsize = (14, (6*nrows)));\n",
    "\n",
    "# plot 1: RDC\n",
    "ax = plt.subplot(nrows, min(nplots,2), 1)\n",
    "seaborn.lineplot(data=residualDemand_E, ax = ax, linewidth=3);\n",
    "ax.set_xlabel(r'Capacity Factor', labelpad = 5);\n",
    "ax.set_ylabel(r'$TJ$', labelpad = 5);\n",
    "ax.set_xlim([0, 1]);\n",
    "ax.hlines(0,0,1,colors='k',linewidth=1,alpha=0.5)\n",
    "ax.set_title('Residual Demand, E')\n",
    "\n",
    "# plot 1: RDC\n",
    "ax = plt.subplot(nrows, min(nplots,2), 2)\n",
    "seaborn.lineplot(data=residualDemand_H, ax = ax, linewidth=3);\n",
    "ax.set_xlabel(r'Capacity Factor', labelpad = 5);\n",
    "ax.set_ylabel(r'$TJ$', labelpad = 5);\n",
    "ax.set_xlim([0, 1]);\n",
    "ax.hlines(0,0,1,colors='k',linewidth=1,alpha=0.5)\n",
    "ax.set_title('Residual Demand, H')\n",
    "\n",
    "fig.tight_layout()\n",
    "if slides:\n",
    "    fig.savefig(f\"{out_folder}\\\\mGF_PH_Baseline_RDC_slides.pdf\",facecolor='#FAFAFA',edgecolor='k')\n",
    "else:\n",
    "    fig.savefig(f\"{out_folder}\\\\mGF_PH_Baseline_RDC.pdf\",edgecolor='k')"
   ]
  },
  {
   "cell_type": "markdown",
   "id": "66124e43-39a7-4111-87f0-e56b04a90869",
   "metadata": {},
   "source": [
    "Plot the variation in system marginal costs (sort each of them separately):"
   ]
  },
  {
   "cell_type": "code",
   "execution_count": 21,
   "id": "0ed1e8b5-a96f-416e-b4f6-407542bb168b",
   "metadata": {},
   "outputs": [],
   "source": [
    "msc_E = pd.DataFrame({k: m.db['marginalSystemCosts_E'].xs(k,level='g').sort_values(ascending=False).reset_index(drop=True) for k in m.db['marginalSystemCosts_E'].index.levels[0]})\n",
    "msc_H = pd.DataFrame({k: m.db['marginalSystemCosts_H'].xs(k,level='g').sort_values(ascending=False).reset_index(drop=True) for k in m.db['marginalSystemCosts_H'].index.levels[0]})\n",
    "msc_E.index = [i/(len(msc_E)) for i in range(1, len(msc_E)+1)]\n",
    "msc_E.at[0] = msc_E.iloc[0]\n",
    "msc_H.index = [i/(len(msc_H)) for i in range(1, len(msc_H)+1)]\n",
    "msc_H.at[0] = msc_H.iloc[0]"
   ]
  },
  {
   "cell_type": "code",
   "execution_count": 22,
   "id": "195cbb74-8f15-42c9-88bc-a2e9cab3c7f2",
   "metadata": {},
   "outputs": [],
   "source": [
    "%%capture\n",
    "mult_graphs()\n",
    "nplots = 2\n",
    "nrows = math.ceil(nplots/2)\n",
    "fig, axes = plt.subplots(nrows, min(nplots, 2), figsize = (14, (6*nrows)));\n",
    "\n",
    "# plot 1: RDC\n",
    "ax = plt.subplot(nrows, min(nplots,2), 1)\n",
    "seaborn.lineplot(data=msc_E, ax = ax, linewidth=3);\n",
    "ax.set_xlabel(r'Capacity Factor', labelpad = 5);\n",
    "ax.set_ylabel(r'€/GJ', labelpad = 5);\n",
    "ax.set_xlim([0, 1]);\n",
    "ax.hlines(0,0,1,colors='k',linewidth=1,alpha=0.5)\n",
    "ax.set_title('Marginal System Costs, E')\n",
    "\n",
    "# plot 1: RDC\n",
    "ax = plt.subplot(nrows, min(nplots,2), 2)\n",
    "seaborn.lineplot(data=msc_H, ax = ax, linewidth=3);\n",
    "ax.set_xlabel(r'Capacity Factor', labelpad = 5);\n",
    "ax.set_ylabel(r'$€/GJ$', labelpad = 5);\n",
    "ax.set_xlim([0, 1]);\n",
    "ax.hlines(0,0,1,colors='k',linewidth=1,alpha=0.5)\n",
    "ax.set_title('Marginal System Costs, H')\n",
    "\n",
    "fig.tight_layout()\n",
    "if slides:\n",
    "    fig.savefig(f\"{out_folder}\\\\mGF_PH_Baseline_MSC_slides.pdf\",facecolor='#FAFAFA',edgecolor='k')\n",
    "else:\n",
    "    fig.savefig(f\"{out_folder}\\\\mGF_PH_Baseline_MSC.pdf\",edgecolor='k')"
   ]
  },
  {
   "cell_type": "code",
   "execution_count": 23,
   "id": "4b405c79-620a-4d98-95d0-6b4eaf80df2f",
   "metadata": {},
   "outputs": [],
   "source": [
    "db_baseline = m.db.copy()"
   ]
  },
  {
   "cell_type": "markdown",
   "id": "3602bded-335d-44c5-b8a5-374e2c611a19",
   "metadata": {},
   "source": [
    "### 4. Remove heat pumps"
   ]
  },
  {
   "cell_type": "code",
   "execution_count": 24,
   "id": "a05a9a40-78a4-4eb5-8475-dc52e56f99ed",
   "metadata": {},
   "outputs": [
    {
     "name": "stdout",
     "output_type": "stream",
     "text": [
      "Solution status 0: Optimization terminated successfully. (HiGHS Status 7: Optimal)\n"
     ]
    }
   ],
   "source": [
    "m.db['TechCap_H'] = (rc_pd(m.db['TechCap_H'], pd.Index(['HP'],name='tech')) * 0).combine_first(m.db['TechCap_H'])\n",
    "m.solve()"
   ]
  },
  {
   "cell_type": "markdown",
   "id": "64fb51b9-d765-4661-a9dd-98509d0249e9",
   "metadata": {},
   "source": [
    "*Compare capacities:*"
   ]
  },
  {
   "cell_type": "code",
   "execution_count": 25,
   "id": "dc9945ce-0489-49ca-8a1a-fe9377902cf1",
   "metadata": {},
   "outputs": [],
   "source": [
    "cap_HP = applyMult(pd.concat([applyMult(m.db['GeneratingCap_E'], db['id2tech']), applyMult(m.db['GeneratingCap_H'], db['id2tech'])]), db['id2g']).droplevel('id')\n",
    "cap_HP = cap_HP.rename_axis(index={'g':None})\n",
    "cap_HP = cap_HP.unstack().reindex(df_Costs.index)\n",
    "cap_compare = pd.DataFrame({'Baseline': cap.sum(axis=1), 'Without HP': cap_HP.sum(axis=1)})"
   ]
  },
  {
   "cell_type": "code",
   "execution_count": 26,
   "id": "ddb26f66-8226-47ba-a6a0-30e06f53a2c0",
   "metadata": {},
   "outputs": [],
   "source": [
    "%%capture\n",
    "one_graph()\n",
    "fig, ax = plt.subplots(1,1,figsize = (14,8))\n",
    "cap_compare.plot.bar(ax=ax);\n",
    "ax.set_ylabel('TJ/h capacity', labelpad=10);\n",
    "ax.set_xlabel('Technology', labelpad=10);\n",
    "fig.tight_layout();\n",
    "if slides:\n",
    "    fig.savefig(f\"{out_folder}\\\\mGF_PH_HP_GeneratingCap_slides.pdf\",facecolor='#FAFAFA',edgecolor='k')\n",
    "else:\n",
    "    fig.savefig(f\"{out_folder}\\\\mGF_PH_HP_GeneratingCap.pdf\",edgecolor='k')"
   ]
  },
  {
   "cell_type": "markdown",
   "id": "41b63b59-4880-4363-bf49-38f2e37c029c",
   "metadata": {},
   "source": [
    "*Compare practical capacity factors for active plants:*"
   ]
  },
  {
   "cell_type": "code",
   "execution_count": 27,
   "id": "c887210c-12e0-478f-b3d3-0f6c0e0c7459",
   "metadata": {},
   "outputs": [],
   "source": [
    "capFactor_E_HP = (pdSum(m.db['Generation_E'], 'h')/ pdNonZero(pdSum(m.hourlyGeneratingCap_E, 'h')) ).dropna() \n",
    "capFactor_H_HP = (pdSum(m.db['Generation_H'], 'h')/ pdNonZero(pdSum(m.hourlyGeneratingCap_H, 'h')) ).dropna()\n",
    "capFactor_HP = applyMult(pd.concat([capFactor_E_HP, capFactor_H_HP]), db['id2tech']).droplevel('id')\n",
    "capFactor_HP = capFactor_HP.rename_axis(index={'g':None})\n",
    "capFactor_HP = capFactor_HP.unstack(0).reindex(df_Costs.index).dropna()\n",
    "capFactor_compare = pd.DataFrame({'Baseline': capFactor.mean(axis=1), 'Without HP': capFactor_HP.mean(axis=1)})"
   ]
  },
  {
   "cell_type": "code",
   "execution_count": 28,
   "id": "461c6c25-4e13-4788-83d3-d7c3624de158",
   "metadata": {},
   "outputs": [],
   "source": [
    "%%capture\n",
    "one_graph()\n",
    "fig, ax = plt.subplots(1,1,figsize = (14,8))\n",
    "capFactor_compare.plot.bar(ax=ax);\n",
    "ax.set_ylabel('Practical capacity factor', labelpad=10);\n",
    "ax.set_ylim([0,1]);\n",
    "ax.set_xlabel('Technology', labelpad=10);\n",
    "fig.tight_layout();\n",
    "if slides:\n",
    "    fig.savefig(f\"{out_folder}\\\\mGF_PH_HP_PCF_slides.pdf\",facecolor='#FAFAFA',edgecolor='k')\n",
    "else:\n",
    "    fig.savefig(f\"{out_folder}\\\\mGF_PH_HP_PCF.pdf\",edgecolor='k')"
   ]
  },
  {
   "cell_type": "markdown",
   "id": "176e3a5b-fdba-41d4-ba27-430bd84bc1d8",
   "metadata": {},
   "source": [
    "*System costs, mean price, and emissions:*"
   ]
  },
  {
   "cell_type": "code",
   "execution_count": 29,
   "id": "8a372e99-047f-47ec-a58b-4f5b8861f4b4",
   "metadata": {},
   "outputs": [],
   "source": [
    "costs_baseline = sum(m.hourlyLoad_H*m.db['MWP_LoadShedding_H'])+sum(m.hourlyLoad_E*m.db['MWP_LoadShedding_E'])-db_baseline['Welfare']\n",
    "costs_hp = sum(m.hourlyLoad_H*m.db['MWP_LoadShedding_H'])+sum(m.hourlyLoad_E*m.db['MWP_LoadShedding_E'])-m.db['Welfare']\n",
    "emissions_baseline = sum(db_baseline['Emissions'])\n",
    "emissions_hp = sum(m.db['Emissions'])\n",
    "mp_E_baseline = db_baseline['meanConsumerPrice_E'].mean()\n",
    "mp_E_HP = m.db['meanConsumerPrice_E'].mean()\n",
    "mp_H_baseline = db_baseline['meanConsumerPrice_H'].mean()\n",
    "mp_H_HP = m.db['meanConsumerPrice_H'].mean()"
   ]
  },
  {
   "cell_type": "code",
   "execution_count": 30,
   "id": "4f1ac68e-1d80-4cc8-9dff-27c19117b60a",
   "metadata": {},
   "outputs": [],
   "source": [
    "df_compare = pd.DataFrame({'Baseline':  pd.Series([costs_baseline, emissions_baseline, mp_E_baseline, mp_H_baseline], index = pd.Index(['System costs','Emissions','mean price, E', 'mean price, H'], name = 'variable')),\n",
    "                           'Without HP': pd.Series([costs_hp, emissions_hp, mp_E_HP, mp_H_HP], index = pd.Index(['System costs','Emissions','mean price, E', 'mean price, H'], name = 'variable'))})"
   ]
  },
  {
   "cell_type": "markdown",
   "id": "f7f156b9-d55f-4385-9344-c462c2b5a618",
   "metadata": {},
   "source": [
    "Make the 'without HP' index 100:"
   ]
  },
  {
   "cell_type": "code",
   "execution_count": 31,
   "id": "dae197f5-3440-4305-a53d-5f4e3c4c101b",
   "metadata": {},
   "outputs": [],
   "source": [
    "df_compare = (df_compare.stack()/df_compare['Without HP']).unstack() * 100"
   ]
  },
  {
   "cell_type": "code",
   "execution_count": 32,
   "id": "68dd2097-8cf9-4e90-9f95-985625692f7b",
   "metadata": {},
   "outputs": [],
   "source": [
    "%%capture\n",
    "one_graph()\n",
    "fig, ax = plt.subplots(1,1,figsize = (14,8))\n",
    "df_compare.plot.bar(ax=ax, legend=False);\n",
    "ax.set_ylabel(\"\"\"Index 100 = 'Without HP' \"\"\", labelpad=10);\n",
    "# ax.set_ylim([0,100]);\n",
    "ax.set_xlabel(None);\n",
    "fig.legend(df_compare.columns,loc=9,ncol=2,frameon=True)\n",
    "fig.tight_layout();\n",
    "fig.subplots_adjust(top=0.9);\n",
    "if slides:\n",
    "    fig.savefig(f\"{out_folder}\\\\mGF_PH_HP_overview_slides.pdf\",facecolor='#FAFAFA',edgecolor='k')\n",
    "else:\n",
    "    fig.savefig(f\"{out_folder}\\\\mGF_PH_HP_overview.pdf\",edgecolor='k')"
   ]
  },
  {
   "cell_type": "markdown",
   "id": "b0f37aba-c254-4aef-b990-342a2ece1b8b",
   "metadata": {},
   "source": [
    "### 5. NIMBY constraints"
   ]
  },
  {
   "cell_type": "markdown",
   "id": "17cc0f78-ad8d-4a1b-9d75-da9b8bc7654f",
   "metadata": {},
   "source": [
    "Re-introduce heat pumps, but lower capacity for ```PV, SH, and WOnShore```:"
   ]
  },
  {
   "cell_type": "code",
   "execution_count": 33,
   "id": "42678ee7-d0ef-4200-ba7c-f9093b32678f",
   "metadata": {},
   "outputs": [
    {
     "name": "stdout",
     "output_type": "stream",
     "text": [
      "Solution status 0: Optimization terminated successfully. (HiGHS Status 7: Optimal)\n"
     ]
    }
   ],
   "source": [
    "m.db['TechCap_H'] = db_baseline['TechCap_H'].copy()\n",
    "m.db['TechCap_E'] = pd.Series([2.5, 2.5, 8, 8], index = pd.MultiIndex.from_tuples([('DK1','PV'),('DK2','PV'), ('DK1','WOnShore'), ('DK2','WOnShore')], names = ['g','tech'])).combine_first(m.db['TechCap_E'])\n",
    "m.db['TechCap_H'] = pd.Series([2,2], index = pd.MultiIndex.from_tuples([('DK1','SH'), ('DK2','SH')], names = ['g','tech'])).combine_first(m.db['TechCap_H'])\n",
    "m.solve()"
   ]
  },
  {
   "cell_type": "markdown",
   "id": "76808f85-066e-4fee-886f-721f88ac9174",
   "metadata": {},
   "source": [
    "*Compare capacities:*"
   ]
  },
  {
   "cell_type": "code",
   "execution_count": 34,
   "id": "4b294f0f-2694-466e-837f-bd1cfd86560b",
   "metadata": {},
   "outputs": [],
   "source": [
    "cap_NIMBY = applyMult(pd.concat([applyMult(m.db['GeneratingCap_E'], db['id2tech']), applyMult(m.db['GeneratingCap_H'], db['id2tech'])]), db['id2g']).droplevel('id')\n",
    "cap_NIMBY = cap_NIMBY.rename_axis(index={'g':None})\n",
    "cap_NIMBY = cap_NIMBY.unstack().reindex(df_Costs.index)\n",
    "cap_compare = pd.DataFrame({'Baseline': cap.sum(axis=1), 'NIMBY': cap_NIMBY.sum(axis=1)})"
   ]
  },
  {
   "cell_type": "code",
   "execution_count": 35,
   "id": "861333ad-0f2b-469a-86de-8690966dba0a",
   "metadata": {},
   "outputs": [],
   "source": [
    "%%capture\n",
    "one_graph()\n",
    "fig, ax = plt.subplots(1,1,figsize = (14,8))\n",
    "cap_compare.plot.bar(ax=ax);\n",
    "ax.set_ylabel('TJ/h capacity', labelpad=10);\n",
    "ax.set_xlabel('Technology', labelpad=10);\n",
    "fig.tight_layout();\n",
    "if slides:\n",
    "    fig.savefig(f\"{out_folder}\\\\mGF_PH_NIMBY_GeneratingCap_slides.pdf\",facecolor='#FAFAFA',edgecolor='k')\n",
    "else:\n",
    "    fig.savefig(f\"{out_folder}\\\\mGF_PH_NIMBY_GeneratingCap.pdf\",edgecolor='k')"
   ]
  },
  {
   "cell_type": "markdown",
   "id": "3b15924e-8fe0-4a49-b7db-b6f5ed83dbe1",
   "metadata": {},
   "source": [
    "*Compare practical capacity factors for active plants:*"
   ]
  },
  {
   "cell_type": "code",
   "execution_count": 36,
   "id": "bd30cbd8-df8c-4e59-9c74-941bbc4a0f31",
   "metadata": {},
   "outputs": [],
   "source": [
    "capFactor_E_NIMBY = (pdSum(m.db['Generation_E'], 'h')/ pdNonZero(pdSum(m.hourlyGeneratingCap_E, 'h')) ).dropna() \n",
    "capFactor_H_NIMBY = (pdSum(m.db['Generation_H'], 'h')/ pdNonZero(pdSum(m.hourlyGeneratingCap_H, 'h')) ).dropna()\n",
    "capFactor_NIMBY = applyMult(pd.concat([capFactor_E_NIMBY, capFactor_H_NIMBY]), db['id2tech']).droplevel('id')\n",
    "capFactor_NIMBY = capFactor_NIMBY.rename_axis(index={'g':None})\n",
    "capFactor_NIMBY = capFactor_NIMBY.unstack(0).reindex(df_Costs.index).dropna()\n",
    "capFactor_compare = pd.DataFrame({'Baseline': capFactor.mean(axis=1), 'NIMBY': capFactor_NIMBY.mean(axis=1)})"
   ]
  },
  {
   "cell_type": "code",
   "execution_count": 37,
   "id": "0c4c0550-2634-4493-8b10-2e0d6035706a",
   "metadata": {},
   "outputs": [],
   "source": [
    "%%capture\n",
    "one_graph()\n",
    "fig, ax = plt.subplots(1,1,figsize = (14,8))\n",
    "capFactor_compare.plot.bar(ax=ax);\n",
    "ax.set_ylabel('Practical capacity factor', labelpad=10);\n",
    "ax.set_ylim([0,1]);\n",
    "ax.set_xlabel('Technology', labelpad=10);\n",
    "fig.tight_layout();\n",
    "if slides:\n",
    "    fig.savefig(f\"{out_folder}\\\\mGF_PH_NIMBY_PCF_slides.pdf\",facecolor='#FAFAFA',edgecolor='k')\n",
    "else:\n",
    "    fig.savefig(f\"{out_folder}\\\\mGF_PH_NIMBY_PCF.pdf\",edgecolor='k')"
   ]
  },
  {
   "cell_type": "markdown",
   "id": "fb56d6b9-4f8c-4a1e-b57b-1efbf3500032",
   "metadata": {},
   "source": [
    "*System costs, mean price, and emissions:*"
   ]
  },
  {
   "cell_type": "code",
   "execution_count": 38,
   "id": "37103766-640c-415d-a89d-3c126b5fb6c8",
   "metadata": {},
   "outputs": [],
   "source": [
    "costs_NIMBY = sum(m.hourlyLoad_H*m.db['MWP_LoadShedding_H'])+sum(m.hourlyLoad_E*m.db['MWP_LoadShedding_E'])-m.db['Welfare']\n",
    "emissions_NIMBY = sum(m.db['Emissions'])\n",
    "mp_E_NIMBY = m.db['meanConsumerPrice_E'].mean()\n",
    "mp_H_NIMBY = m.db['meanConsumerPrice_H'].mean()"
   ]
  },
  {
   "cell_type": "code",
   "execution_count": 39,
   "id": "c0a7a068-fb23-455c-bd2b-a6e9b9366eec",
   "metadata": {},
   "outputs": [],
   "source": [
    "df_compare = pd.DataFrame({'Baseline':  pd.Series([costs_baseline, emissions_baseline, mp_E_baseline, mp_H_baseline], index = pd.Index(['System costs','Emissions','mean price, E', 'mean price, H'], name = 'variable')),\n",
    "                           'NIMBY'   :  pd.Series([costs_NIMBY, emissions_NIMBY, mp_E_NIMBY, mp_H_NIMBY], index = pd.Index(['System costs','Emissions','mean price, E', 'mean price, H'], name = 'variable'))})"
   ]
  },
  {
   "cell_type": "markdown",
   "id": "0df942c8-4eb3-4193-8d19-06dc474413cc",
   "metadata": {},
   "source": [
    "Make the 'NIMBY' index 100:"
   ]
  },
  {
   "cell_type": "code",
   "execution_count": 40,
   "id": "11206f52-944b-49a2-9929-7cdfbfc60933",
   "metadata": {},
   "outputs": [],
   "source": [
    "df_compare = (df_compare.stack()/df_compare['NIMBY']).unstack() * 100"
   ]
  },
  {
   "cell_type": "code",
   "execution_count": 41,
   "id": "3c7174b6-5f27-48d3-8541-d6cf20dc4ebe",
   "metadata": {},
   "outputs": [],
   "source": [
    "%%capture\n",
    "one_graph()\n",
    "fig, ax = plt.subplots(1,1,figsize = (14,8))\n",
    "df_compare.plot.bar(ax=ax, legend=False);\n",
    "ax.set_ylabel(\"\"\"Index 100 = 'NIMBY' \"\"\", labelpad=10);\n",
    "# ax.set_ylim([0,100]);\n",
    "ax.set_xlabel(None);\n",
    "fig.legend(df_compare.columns,loc=9,ncol=2,frameon=True)\n",
    "fig.tight_layout();\n",
    "fig.subplots_adjust(top=0.9);\n",
    "if slides:\n",
    "    fig.savefig(f\"{out_folder}\\\\mGF_PH_NIMBY_overview_slides.pdf\",facecolor='#FAFAFA',edgecolor='k')\n",
    "else:\n",
    "    fig.savefig(f\"{out_folder}\\\\mGF_PH_NIMBY_overview.pdf\",edgecolor='k')"
   ]
  },
  {
   "cell_type": "markdown",
   "id": "a1f4e0fc-27f9-4002-b417-ee87c8394c3a",
   "metadata": {},
   "source": [
    "### 6. Marginal abatement costs"
   ]
  },
  {
   "cell_type": "code",
   "execution_count": 60,
   "id": "78564efa-6c91-4197-9b95-05d098779370",
   "metadata": {},
   "outputs": [
    {
     "name": "stdout",
     "output_type": "stream",
     "text": [
      "Solution status 0: Optimization terminated successfully. (HiGHS Status 7: Optimal)\n"
     ]
    }
   ],
   "source": [
    "mMAC = mGF_PH.mEmissionCap(db_baseline.copy())\n",
    "mMAC.db['CO2Cap'] = db_baseline['Emissions'].xs('CO2',level='EmissionType')\n",
    "mMAC.solve()"
   ]
  },
  {
   "cell_type": "markdown",
   "id": "06adac55-21f4-49cd-8868-07a7376e5957",
   "metadata": {},
   "source": [
    "Loop through reduction of the cap:"
   ]
  },
  {
   "cell_type": "code",
   "execution_count": 61,
   "id": "4627f924-c897-42c1-8b96-7df9200e0075",
   "metadata": {},
   "outputs": [],
   "source": [
    "loop = pd.Index(range(21), name = 'loop')\n",
    "v0 = mMAC.db['CO2Cap']\n",
    "vT = mMAC.db['CO2Cap'] * 0\n",
    "grid = addGrid(v0,vT,loop,'CO2Cap')\n",
    "extract = ['GeneratingCap_E','GeneratingCap_H','Generation_E','Generation_H','λ_emissionsCap']"
   ]
  },
  {
   "cell_type": "markdown",
   "id": "aa3470d9-d2d3-42f1-8ad2-fbf6a56a1c41",
   "metadata": {},
   "source": [
    "Simulate shock:"
   ]
  },
  {
   "cell_type": "code",
   "execution_count": 62,
   "id": "51710d44-cf15-4399-a439-1175f97c7b5f",
   "metadata": {},
   "outputs": [],
   "source": [
    "sol = mMAC.loopSolveExtract(loop, [grid], extract)"
   ]
  },
  {
   "cell_type": "code",
   "execution_count": 76,
   "id": "7004f527-a76d-4277-88ab-ff32ccedd9f4",
   "metadata": {},
   "outputs": [],
   "source": [
    "co2 = pdSum(grid,'g') # co2 emissions\n",
    "a = (1-co2/co2.iloc[0])*100 # reduction in percent"
   ]
  },
  {
   "cell_type": "markdown",
   "id": "019d8d1b-f3dc-4cc2-89bd-3e8ad05882ef",
   "metadata": {},
   "source": [
    "Plots:"
   ]
  },
  {
   "cell_type": "markdown",
   "id": "4859c18c-678a-49e5-8d6d-8d5fb9c60c81",
   "metadata": {},
   "source": [
    "*1. Marginal abatement costs:*"
   ]
  },
  {
   "cell_type": "code",
   "execution_count": 85,
   "id": "6ddcb235-cba1-4c3d-b9e3-0f065f897e53",
   "metadata": {},
   "outputs": [],
   "source": [
    "x = -sol['λ_emissionsCap'].droplevel('_type')\n",
    "x.index = pd.Index(a.values, name = '$CO_2$ abatement, % of baseline emissions')"
   ]
  },
  {
   "cell_type": "code",
   "execution_count": 89,
   "id": "4616257f-504a-45a8-a687-b12311d9764c",
   "metadata": {},
   "outputs": [],
   "source": [
    "%%capture\n",
    "one_graph()\n",
    "fig, ax = plt.subplots(1,1,figsize = (14,8))\n",
    "seaborn.lineplot(data=x, ax=ax, linewidth=3);\n",
    "ax.set_ylabel('Marginal abatement cost (€)', labelpad=10);\n",
    "ax.set_ylim([0,400]);\n",
    "ax.set_xlim([0,100]);\n",
    "fig.tight_layout();\n",
    "if slides:\n",
    "    fig.savefig(f\"{out_folder}\\\\mGF_PH_MAC_slides.pdf\",facecolor='#FAFAFA',edgecolor='k')\n",
    "else:\n",
    "    fig.savefig(f\"{out_folder}\\\\mGF_PH_MAC.pdf\",edgecolor='k')"
   ]
  },
  {
   "cell_type": "markdown",
   "id": "50e709f7-24dd-4f1b-bf8d-23ae2f35d595",
   "metadata": {},
   "source": [
    "*2. Capacity investments:*"
   ]
  },
  {
   "cell_type": "markdown",
   "id": "3cffcc22-498e-485e-940e-6876ed445448",
   "metadata": {},
   "source": [
    "*Compare capacities:*"
   ]
  },
  {
   "cell_type": "code",
   "execution_count": 151,
   "id": "bb39b7e7-cd21-4d61-ad2f-97fe607bc5f8",
   "metadata": {},
   "outputs": [],
   "source": [
    "cap_MAC = applyMult(pd.concat([applyMult(sol['GeneratingCap_E'], db['id2tech']), applyMult(sol['GeneratingCap_H'], db['id2tech'])]), db['id2g']).droplevel('id')\n",
    "cap_MAC = pdSum(cap_MAC,'g')\n",
    "cap_MAC.index = cap_MAC.index.set_levels(a.values, level= 0)\n",
    "cap_MAC = cap_MAC.rename_axis(index={'loop': '$CO_2$ abatement, % of baseline emissions'})"
   ]
  },
  {
   "cell_type": "markdown",
   "id": "8a75ed6f-f05d-4cec-bab0-2c009ecf499c",
   "metadata": {},
   "source": [
    "Plot for those that are active at some point:"
   ]
  },
  {
   "cell_type": "code",
   "execution_count": 181,
   "id": "3752676b-cfca-4cc4-935c-de7a3d503b2f",
   "metadata": {},
   "outputs": [],
   "source": [
    "cap_MAC_active = rc_pd(cap_MAC, cap_MAC.groupby('tech').max()[cap_MAC.groupby('tech').max()>0])\n",
    "capDiff = cap_MAC_active-cap_MAC_active.xs(0.0,level=0)"
   ]
  },
  {
   "cell_type": "code",
   "execution_count": 200,
   "id": "92749f1d-853a-436e-be8e-7cec9d0fc582",
   "metadata": {},
   "outputs": [],
   "source": [
    "%%capture\n",
    "mult_graphs()\n",
    "categories = cap_MAC_active.index.get_level_values('tech').unique()\n",
    "nplots = len(categories)\n",
    "nrows = math.ceil(nplots/2)\n",
    "if slides:\n",
    "    fig, axes = plt.subplots(nrows, min(nplots, 2), figsize = (14, 6));\n",
    "else:\n",
    "    fig, axes = plt.subplots(nrows, min(nplots, 2), figsize = (14, (5*nrows)));\n",
    "for i in range(len(categories)):\n",
    "    ax = plt.subplot(nrows, min(nplots,2),i+1)\n",
    "    seaborn.lineplot(data = capDiff.xs(categories[i],level='tech'), ax = ax, linewidth=3)\n",
    "    ax.set_xlim([0,100]);\n",
    "    ax.hlines(y=0, xmin=0, xmax=100, color = 'k', linewidth=1)\n",
    "    ax.set_ylabel('$\\Delta$ TJ/h capacity', labelpad=10);\n",
    "    ax.set_title(categories[i]);\n",
    "fig.tight_layout()\n",
    "if slides:\n",
    "    fig.savefig(f\"{out_folder}\\\\mGF_PH_MAC_cap_slides.pdf\",facecolor='#FAFAFA',edgecolor='k')\n",
    "else:\n",
    "    fig.savefig(f\"{out_folder}\\\\mGF_PH_MAC_cap.pdf\",edgecolor='k')"
   ]
  },
  {
   "cell_type": "markdown",
   "id": "654de65d-ab89-4960-9ea7-04bdc5b46de5",
   "metadata": {},
   "source": [
    "*3. Production*"
   ]
  },
  {
   "cell_type": "code",
   "execution_count": 242,
   "id": "5d6affae-c131-46ad-964f-5d9bd6195a7e",
   "metadata": {},
   "outputs": [],
   "source": [
    "prodMAC = applyMult(applyMult(pdSum(sol['Generation_E'], ['h','g']).add(pdSum(sol['Generation_H'], ['h','g']),fill_value=0), db['id2tech']), db['id2g']).droplevel('id')\n",
    "prodMAC = pdSum(prodMAC,'g') / 1000\n",
    "prodMAC.index = prodMAC.index.set_levels(a.values, level= 0)\n",
    "prodMAC = prodMAC.rename_axis(index={'loop': '$CO_2$ abatement, % of baseline emissions'}) "
   ]
  },
  {
   "cell_type": "markdown",
   "id": "5722ed16-e80d-4afe-b02a-9e1c33ba70d6",
   "metadata": {},
   "source": [
    "Plot for those that are active at some point:"
   ]
  },
  {
   "cell_type": "code",
   "execution_count": 243,
   "id": "28113df1-1f95-40a1-ab51-f7adcdfb9ce7",
   "metadata": {},
   "outputs": [],
   "source": [
    "prodMAC_active = rc_pd(prodMAC, prodMAC.groupby('tech').max()[prodMAC.groupby('tech').max()>0])\n",
    "prodDiff = prodMAC_active-prodMAC_active.xs(0.0,level=0)"
   ]
  },
  {
   "cell_type": "code",
   "execution_count": 244,
   "id": "85cc6402-0cfb-4671-8a66-7b8032bd2447",
   "metadata": {},
   "outputs": [],
   "source": [
    "%%capture\n",
    "mult_graphs()\n",
    "categories = prodDiff.index.get_level_values('tech').unique()\n",
    "nplots = len(categories)\n",
    "nrows = math.ceil(nplots/2)\n",
    "if slides:\n",
    "    fig, axes = plt.subplots(nrows, min(nplots, 2), figsize = (14, 6));\n",
    "else:\n",
    "    fig, axes = plt.subplots(nrows, min(nplots, 2), figsize = (14, (5*nrows)));\n",
    "for i in range(len(categories)):\n",
    "    ax = plt.subplot(nrows, min(nplots,2),i+1)\n",
    "    seaborn.lineplot(data = prodDiff.xs(categories[i],level='tech'), ax = ax, linewidth=3)\n",
    "    ax.set_xlim([0,100]);\n",
    "    ax.hlines(y=0, xmin=0, xmax=100, color = 'k', linewidth=1)\n",
    "    ax.set_ylabel('$\\Delta$ TJ generation', labelpad=10);\n",
    "    ax.set_title(categories[i]);\n",
    "fig.tight_layout()\n",
    "if slides:\n",
    "    fig.savefig(f\"{out_folder}\\\\mGF_PH_MAC_prod_slides.pdf\",facecolor='#FAFAFA',edgecolor='k')\n",
    "else:\n",
    "    fig.savefig(f\"{out_folder}\\\\mGF_PH_MAC_prod.pdf\",edgecolor='k')"
   ]
  },
  {
   "cell_type": "markdown",
   "id": "ce379950-7809-4e04-aade-15460bb13f71",
   "metadata": {},
   "source": [
    "*4. Area plots:*"
   ]
  },
  {
   "cell_type": "code",
   "execution_count": 259,
   "id": "98cff59b-cadf-4982-9be4-0926d990960c",
   "metadata": {},
   "outputs": [],
   "source": [
    "%%capture\n",
    "one_graph()\n",
    "fig, ax = plt.subplots(1,1, figsize=(14,8))\n",
    "cap_MAC_active.unstack('tech').plot.area(ax=ax,legend=False,linewidth=0, color = long_colors[0:len(cap_MAC_active.index.get_level_values('tech').unique())]);\n",
    "ax.set_ylim([0,225]);\n",
    "ax.set_xlim([0,100]);\n",
    "ax.set_ylabel('Capacity split, TJ/h',labelpad=10)\n",
    "handles, labels = ax.get_legend_handles_labels()\n",
    "leg = ax.legend(handles[::-1], labels[::-1], loc=7, bbox_to_anchor = (1.4,0.5))\n",
    "fig.tight_layout()\n",
    "if slides:\n",
    "    fig.savefig(f\"{out_folder}\\\\mGF_PH_MAC_capSplit_slides.pdf\",facecolor='#FAFAFA',edgecolor='k')\n",
    "else:\n",
    "    fig.savefig(f\"{out_folder}\\\\mGF_PH_MAC_capSplit.pdf\",edgecolor='k')"
   ]
  },
  {
   "cell_type": "code",
   "execution_count": 261,
   "id": "53765dd9-f32d-4fc4-8bb9-91babcd5f7e8",
   "metadata": {},
   "outputs": [],
   "source": [
    "%%capture\n",
    "one_graph()\n",
    "fig, ax = plt.subplots(1,1, figsize=(14,8))\n",
    "prodMAC_active.unstack('tech').plot.area(ax=ax,legend=False,linewidth=0, color = long_colors[0:len(prodMAC_active.index.get_level_values('tech').unique())]);\n",
    "# ax.set_ylim([0,225]);\n",
    "ax.set_xlim([0,100]);\n",
    "ax.set_ylabel('Generation mix, TJ/h',labelpad=10)\n",
    "handles, labels = ax.get_legend_handles_labels()\n",
    "leg = ax.legend(handles[::-1], labels[::-1], loc=7, bbox_to_anchor = (1.4,0.5))\n",
    "fig.tight_layout()\n",
    "if slides:\n",
    "    fig.savefig(f\"{out_folder}\\\\mGF_PH_MAC_prodSplit_slides.pdf\",facecolor='#FAFAFA',edgecolor='k')\n",
    "else:\n",
    "    fig.savefig(f\"{out_folder}\\\\mGF_PH_MAC_prodSplit.pdf\",edgecolor='k')"
   ]
  }
 ],
 "metadata": {
  "kernelspec": {
   "display_name": "Python 3 (ipykernel)",
   "language": "python",
   "name": "python3"
  },
  "language_info": {
   "codemirror_mode": {
    "name": "ipython",
    "version": 3
   },
   "file_extension": ".py",
   "mimetype": "text/x-python",
   "name": "python",
   "nbconvert_exporter": "python",
   "pygments_lexer": "ipython3",
   "version": "3.9.7"
  }
 },
 "nbformat": 4,
 "nbformat_minor": 5
}
