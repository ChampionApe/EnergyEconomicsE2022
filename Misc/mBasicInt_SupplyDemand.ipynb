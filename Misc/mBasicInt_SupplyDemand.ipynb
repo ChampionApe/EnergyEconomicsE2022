{
 "cells": [
  {
   "cell_type": "code",
   "execution_count": 1,
   "id": "2d4f3cb0-a4c2-4834-af85-c295aca40d6c",
   "metadata": {},
   "outputs": [],
   "source": [
    "%run stdPackages.ipynb\n",
    "slides = False # print to slides format if True\n",
    "out_folder = os.path.join(d['curr'], 'Misc', 'Figs')\n",
    "d['data'] = os.path.join(d['curr'],'Misc','Data')\n",
    "read = {'variables': ['Fundamentals', 'Load', 'Generators_Other'], \n",
    "        'variable2D': ['Generators_FuelMix','HourlyVariation'],\n",
    "        'scalars': ['Scalars'],\n",
    "        'maps': ['Generators_Categories']}\n",
    "db = dbFromWB(os.path.join(d['data'],'mBasicInt1.xlsx'), read)\n",
    "readSets(db)"
   ]
  },
  {
   "cell_type": "markdown",
   "id": "4a6fb72e-ea80-43c6-b64a-3e6b7a5a500c",
   "metadata": {},
   "source": [
    "Set up model:"
   ]
  },
  {
   "cell_type": "code",
   "execution_count": 2,
   "id": "bad286db-7fd9-4185-bc20-268fc0c61521",
   "metadata": {},
   "outputs": [
    {
     "name": "stdout",
     "output_type": "stream",
     "text": [
      "Solution status 0: Optimization terminated successfully.\n"
     ]
    }
   ],
   "source": [
    "m = mBasicInt.mSimple(db)\n",
    "m.solve()"
   ]
  },
  {
   "cell_type": "markdown",
   "id": "b111fccd-6194-466c-a40f-aaf246ddd5d0",
   "metadata": {},
   "source": [
    "Load duration curve (LDC) and residual demand curve (RDC):"
   ]
  },
  {
   "cell_type": "code",
   "execution_count": 3,
   "id": "8e4b3f3b-2b84-40ec-86e8-ba5b052f51fe",
   "metadata": {},
   "outputs": [],
   "source": [
    "LDC = m.hourlyLoad.sort_values(ascending=False)\n",
    "LDC.index = [i/(len(LDC)) for i in range(1, len(LDC)+1)]\n",
    "LDC.at[0] = LDC.iloc[0]\n",
    "RDC = (m.hourlyLoad-m.hourlyGeneratingCapacity.xs('id4')).sort_values(ascending = False)\n",
    "RDC.index = [i/(len(RDC)) for i in range(1, len(RDC)+1)]\n",
    "RDC.at[0] = RDC.iloc[0]"
   ]
  },
  {
   "cell_type": "markdown",
   "id": "fbc1bfd4-50bb-4f28-929e-3f61755cbd83",
   "metadata": {
    "tags": []
   },
   "source": [
    "## Simple plots:"
   ]
  },
  {
   "cell_type": "markdown",
   "id": "b6e37d8c-e4d9-4114-9ce3-0d226148e9f5",
   "metadata": {},
   "source": [
    "### LDC and RDC:"
   ]
  },
  {
   "cell_type": "code",
   "execution_count": 4,
   "id": "04de26f0-a49b-4177-bbc0-110e04a98f2b",
   "metadata": {},
   "outputs": [],
   "source": [
    "%%capture\n",
    "mult_graphs()\n",
    "nplots = 4\n",
    "nrows = math.ceil(nplots/2)\n",
    "fig, axes = plt.subplots(nrows, min(nplots, 2), figsize = (14, (4*nrows)));\n",
    "plt.subplots_adjust(hspace=0.35)\n",
    "# Plot 1: Hourly load\n",
    "ax = plt.subplot(nrows, min(nplots,2), 1)\n",
    "m.hourlyLoad.plot.bar(ax = ax, legend = False);\n",
    "ax.set_xlabel(r'$h$', labelpad=10);\n",
    "ax.set_ylabel(r\"Load, GJ\", labelpad=10);\n",
    "ax.set_title('Hourly load');\n",
    "\n",
    "# Plot 2: Load duration curve\n",
    "ax = plt.subplot(nrows, min(nplots,2), 2)\n",
    "seaborn.lineplot(data=LDC, ax = ax, linewidth = 3, legend = False);\n",
    "ax.set_xlim([0,1]);\n",
    "ax.set_xlabel(r'Capacity factor', labelpad=10);\n",
    "ax.set_ylabel(r\"Load, GJ\",labelpad=10);\n",
    "ax.set_title('Load duration curve');\n",
    "\n",
    "# Plot 3: Hourly Variation in Generation:\n",
    "ax = plt.subplot(nrows, min(nplots,2), 3)\n",
    "m.hourlyGeneratingCapacity.xs('id4').plot.bar(ax = ax, legend = False);\n",
    "ax.set_xlabel(r'$h$', labelpad=10);\n",
    "ax.set_ylabel(r\"Generating capacity, GJ\", labelpad=10);\n",
    "ax.set_title('Generating capacity, wind');\n",
    "\n",
    "# Plot 4: Residual demand curve\n",
    "ax = plt.subplot(nrows, min(nplots,2), 4)\n",
    "seaborn.lineplot(data=RDC, ax = ax, linewidth = 3, legend = False);\n",
    "ax.set_xlim([0,1]);\n",
    "ax.set_xlabel(r'Capacity factor', labelpad=10);\n",
    "ax.set_ylabel(r\"Demand net of wind, GJ\",labelpad=10);\n",
    "ax.set_title('Residual demand curve');\n",
    "\n",
    "fig.tight_layout()\n",
    "if slides:\n",
    "    fig.savefig(f\"{out_folder}\\\\mBasicInt_hvt_slides.pdf\",facecolor='#FAFAFA',edgecolor='k')\n",
    "else:\n",
    "    fig.savefig(f\"{out_folder}\\\\mBasicInt_hvt.pdf\",edgecolor='k')"
   ]
  },
  {
   "cell_type": "markdown",
   "id": "063acba4-324c-452b-92bb-2c69a4ad4c95",
   "metadata": {},
   "source": [
    "### Plot merit order curve for each hour:"
   ]
  },
  {
   "cell_type": "code",
   "execution_count": 5,
   "id": "8653c4e5-272f-49c5-84f2-0174451a3a1c",
   "metadata": {},
   "outputs": [],
   "source": [
    "def demand_h(m,h):\n",
    "    return standardPlots.demandLinear_df(m.db['MWP_LoadShedding'], m.hourlyLoad.xs(h))\n",
    "def supply_h(m,h,maxY=30):\n",
    "    return standardPlots.meritOrderCurve_df(m.db['mc'], m.hourlyGeneratingCapacity.xs(h,level='h'),maxY=maxY)"
   ]
  },
  {
   "cell_type": "code",
   "execution_count": 6,
   "id": "f5aa9fe3-5ea8-4b61-90a1-61d3bdd39d34",
   "metadata": {},
   "outputs": [],
   "source": [
    "%%capture\n",
    "mult_graphs()\n",
    "nplots = len(m.db['h'])\n",
    "nrows = math.ceil(nplots/2)\n",
    "fig,axes = plt.subplots(nrows,min(nplots,2),figsize=(14,(4*nrows)));\n",
    "plt.subplots_adjust(hspace=0.35)\n",
    "offset_N, offset_Arrow, offset_q = 1, 1, 3\n",
    "for j in range(nplots):\n",
    "    ax = plt.subplot(nrows,min(nplots,2),j+1)\n",
    "    h = j+1\n",
    "    df = supply_h(m,h)\n",
    "    dh = demand_h(m,h)\n",
    "    \n",
    "    df.plot(linewidth=3,ax=ax,legend=False);\n",
    "    dh.plot(linewidth=3,ax=ax,legend=False);\n",
    "    ax.set_xlabel(r'$GJ$', labelpad = 5);\n",
    "    ax.set_ylabel(r'$€/$GJ', labelpad = 5);\n",
    "    ax.set_xlim([0, max([dh.index.max(), df.index.max()])+5]);\n",
    "    ax.set_ylim([0, math.ceil(max([df.max()[0], dh.max()[0]]))]);\n",
    "    ax.set_title(f\"\"\"$h={h}$\"\"\")\n",
    "    \n",
    "    plt.text(df.index[2]/2-8, df.iloc[2]+offset_N, f'Wind');\n",
    "    plt.text(df.index[2]/2-5, df.iloc[2]-offset_q, f'$q_W$');\n",
    "    plt.annotate(\"\",xy=(1, df.iloc[2]-offset_Arrow), xytext=(df.index[2]-1, df.iloc[2]-offset_Arrow), arrowprops=dict(width=1, color='k', headwidth=5, headlength=15));\n",
    "    plt.annotate(\"\",xy=(df.index[2]-1, df.iloc[2]-offset_Arrow), xytext=(1, df.iloc[2]-offset_Arrow), arrowprops=dict(width=1, color='k', headwidth=5, headlength=15));\n",
    "    \n",
    "    plt.text((df.index[4]+df.index[2])/2-8, df.iloc[4]+offset_N, f'Coal')\n",
    "    plt.text((df.index[4]+df.index[2])/2-5, df.iloc[4]-offset_q, f'$q_C$');\n",
    "    plt.annotate(\"\",xy=(df.index[2]+1, df.iloc[4]-offset_Arrow), xytext=(df.index[4]-1,df.iloc[4]-offset_Arrow), arrowprops=dict(width=1, color='k', headwidth=5, headlength=15));\n",
    "    plt.annotate(\"\",xy=(df.index[4]-1, df.iloc[4]-offset_Arrow), xytext=(df.index[2]+1, df.iloc[4]-offset_Arrow), arrowprops=dict(width=1, color='k', headwidth=5, headlength=15));\n",
    "    \n",
    "    plt.text((df.index[6]+df.index[4])/2-6, df.iloc[6]+offset_N, f'Gas')\n",
    "    plt.text((df.index[6]+df.index[4])/2-5, df.iloc[6]-offset_q, f'$q_G$');\n",
    "    plt.annotate(\"\",xy=(df.index[4]+1, df.iloc[6]-offset_Arrow), xytext=(df.index[6]-1,df.iloc[6]-offset_Arrow), arrowprops=dict(width=1, color='k', headwidth=5, headlength=15));\n",
    "    plt.annotate(\"\",xy=(df.index[6]-1, df.iloc[6]-offset_Arrow), xytext=(df.index[4]+1, df.iloc[6]-offset_Arrow), arrowprops=dict(width=1, color='k', headwidth=5, headlength=15));\n",
    "    \n",
    "    plt.text((df.index[8]+df.index[6])/2-6, df.iloc[8]+offset_N, f'Bio')\n",
    "    plt.text((df.index[8]+df.index[6])/2-5, df.iloc[8]-offset_q, f'$q_B$');\n",
    "    plt.annotate(\"\",xy=(df.index[6]+1, df.iloc[8]-offset_Arrow), xytext=(df.index[8]-1,df.iloc[8]-offset_Arrow), arrowprops=dict(width=1, color='k', headwidth=5, headlength=15));\n",
    "    plt.annotate(\"\",xy=(df.index[8]-1, df.iloc[8]-offset_Arrow), xytext=(df.index[6]+1, df.iloc[8]-offset_Arrow), arrowprops=dict(width=1, color='k', headwidth=5, headlength=15));\n",
    "\n",
    "fig.legend(['Generation', 'Load'],loc=9,ncol=2,frameon=True)\n",
    "fig.tight_layout();\n",
    "fig.subplots_adjust(top=0.9);\n",
    "if slides:\n",
    "    fig.savefig(f\"{out_folder}\\\\mBasicInt_MeritOrder_slides.pdf\",facecolor='#FAFAFA',edgecolor='k')\n",
    "else:\n",
    "    fig.savefig(f\"{out_folder}\\\\mBasicInt_MeritOrder.pdf\",edgecolor='k')"
   ]
  }
 ],
 "metadata": {
  "kernelspec": {
   "display_name": "Python 3 (ipykernel)",
   "language": "python",
   "name": "python3"
  },
  "language_info": {
   "codemirror_mode": {
    "name": "ipython",
    "version": 3
   },
   "file_extension": ".py",
   "mimetype": "text/x-python",
   "name": "python",
   "nbconvert_exporter": "python",
   "pygments_lexer": "ipython3",
   "version": "3.9.13"
  }
 },
 "nbformat": 4,
 "nbformat_minor": 5
}
