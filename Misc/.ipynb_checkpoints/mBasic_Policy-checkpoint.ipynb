{
 "cells": [
  {
   "cell_type": "markdown",
   "id": "40e8ba0a-7b7a-4565-bc25-8b8259af2a64",
   "metadata": {},
   "source": [
    "*Load packages and data:*"
   ]
  },
  {
   "cell_type": "code",
   "execution_count": 1,
   "id": "1663805f-75cd-44bc-9d86-027cd96dc643",
   "metadata": {},
   "outputs": [],
   "source": [
    "%run stdPackages.ipynb\n",
    "slides = True # print to slides format if True\n",
    "out_folder = os.path.join(d['curr'], 'Misc', 'Figs')\n",
    "d['data'] = os.path.join(d['curr'],'Misc','Data')\n",
    "read = {'variables': ['Fundamentals', 'Load', 'Generators_Other'], \n",
    "        'variable2D': ['Generators_FuelMix'],\n",
    "        'scalars': ['CO2Cap'],\n",
    "        'maps': ['Generators_Categories']}\n",
    "db = dbFromWB(os.path.join(d['data'],'mBasic2.xlsx'), read)\n",
    "readSets(db)"
   ]
  },
  {
   "cell_type": "markdown",
   "id": "4b8fea27-68fd-4807-806d-b8247cb37cf3",
   "metadata": {
    "tags": []
   },
   "source": [
    "# 1: Capping emissions:"
   ]
  },
  {
   "cell_type": "markdown",
   "id": "984c86f4-a4d4-4fc0-8f8f-79e4a55726fa",
   "metadata": {},
   "source": [
    "Set up and solve model:"
   ]
  },
  {
   "cell_type": "code",
   "execution_count": 2,
   "id": "8fd34a3d-d35a-4b30-a24f-97e6cbf3f4f4",
   "metadata": {},
   "outputs": [
    {
     "name": "stdout",
     "output_type": "stream",
     "text": [
      "Solution status 0: Optimization terminated successfully. (HiGHS Status 7: Optimal)\n"
     ]
    }
   ],
   "source": [
    "m = mBasic.mEmissionCap(db)\n",
    "m.solve()"
   ]
  },
  {
   "cell_type": "code",
   "execution_count": 3,
   "id": "bce625e5-5519-4917-a760-f0b93e38a872",
   "metadata": {},
   "outputs": [],
   "source": [
    "baselineEmissions = m.db['Emissions'][0]"
   ]
  },
  {
   "cell_type": "markdown",
   "id": "56627c82-ebce-45f2-b94f-e33b0b960dd6",
   "metadata": {},
   "source": [
    "System costs as a function of cap:"
   ]
  },
  {
   "cell_type": "code",
   "execution_count": 4,
   "id": "df6087bc-7f17-4dd4-9d7a-a44482b3528b",
   "metadata": {},
   "outputs": [],
   "source": [
    "loop = pd.Index(range(51), name = 'loop')\n",
    "v0, vT = m.db['CO2Cap'], 1\n",
    "capGrid = addGrid(v0,vT,loop,'CO2Cap')\n",
    "extract = ['FuelConsumption','Emissions','SystemCosts','Generation']"
   ]
  },
  {
   "cell_type": "markdown",
   "id": "f932028a-47c8-407b-a413-cc78b75f6fca",
   "metadata": {},
   "source": [
    "We run the experiment using the ```loopSolvExtract``` method:"
   ]
  },
  {
   "cell_type": "code",
   "execution_count": 5,
   "id": "1f7315bf-55bd-4511-b35a-22b65033c0b3",
   "metadata": {
    "tags": []
   },
   "outputs": [],
   "source": [
    "solution = m.loopSolveExtract(loop,[capGrid],extract)"
   ]
  },
  {
   "cell_type": "markdown",
   "id": "a4341e62-0a78-48ad-8dbd-27409425d1cd",
   "metadata": {},
   "source": [
    "Add wind to fuel consumption:"
   ]
  },
  {
   "cell_type": "code",
   "execution_count": 6,
   "id": "12d0574e-7c6d-4638-8e86-7ea66d019bbe",
   "metadata": {},
   "outputs": [],
   "source": [
    "wind = pd.Series(solution['Generation'].xs('id4').values, pd.MultiIndex.from_product([pd.Index(['Wind'], name = 'BFt'), solution['Generation'].xs('id4').index]))\n",
    "solution['FuelConsumption'] = solution['FuelConsumption'].combine_first(wind)"
   ]
  },
  {
   "cell_type": "markdown",
   "id": "695575f5-1471-4494-b3b3-a50f6fdf43b9",
   "metadata": {},
   "source": [
    "*Plot system costs next to the fuel consumption split:*"
   ]
  },
  {
   "cell_type": "code",
   "execution_count": 7,
   "id": "360c11de-c54c-4db3-8718-4462ede45632",
   "metadata": {},
   "outputs": [],
   "source": [
    "SC = pd.Series(solution['SystemCosts'].values, index = capGrid.values)\n",
    "FC = pd.Series(solution['FuelConsumption'].values, index = solution['FuelConsumption'].index.set_levels(capGrid.values, level = 1))\n",
    "FC_df = FC.unstack('BFt').reindex(columns = ['Wind']+[k for k in FC.index.levels[0] if k != 'Wind'])"
   ]
  },
  {
   "cell_type": "markdown",
   "id": "b8c16f79-731f-489b-9080-10ac8aa846e4",
   "metadata": {},
   "source": [
    "*Plot alone:*"
   ]
  },
  {
   "cell_type": "code",
   "execution_count": 8,
   "id": "1ebe2f6b-1a0c-47d8-8a9b-eeea1f84305f",
   "metadata": {},
   "outputs": [],
   "source": [
    "%%capture\n",
    "one_graph()\n",
    "if slides:\n",
    "    fig, ax = plt.subplots(1,1,figsize = (14,10))\n",
    "else:\n",
    "    fig, ax = plt.subplots(1,1,figsize = (14,8)) \n",
    "seaborn.lineplot(data = SC, linewidth = 3, ax = ax);\n",
    "ax.set_xlabel(r'$\\overline{CO2}$', labelpad = 10);\n",
    "ax.set_ylabel(r'System Costs', labelpad=10);\n",
    "fig.tight_layout()\n",
    "if slides:\n",
    "    fig.savefig(f\"{out_folder}\\\\mBasic_Cap_SC_slides.pdf\",facecolor='#FAFAFA',edgecolor='k')\n",
    "else:\n",
    "    fig.savefig(f\"{out_folder}\\\\mBasic_Cap_SC.pdf\",edgecolor='k')"
   ]
  },
  {
   "cell_type": "markdown",
   "id": "ecfe6a73-6e8f-4b47-82df-87ba5c39a1f6",
   "metadata": {},
   "source": [
    "*PLot with fuel consumption:*"
   ]
  },
  {
   "cell_type": "code",
   "execution_count": 9,
   "id": "48a6542c-61d1-4a4e-a7fc-21af3ca441ae",
   "metadata": {},
   "outputs": [],
   "source": [
    "%%capture\n",
    "mult_graphs()\n",
    "nplots = 2\n",
    "nrows = math.ceil(nplots/2)\n",
    "if slides:\n",
    "    fig, axes = plt.subplots(nrows, min(nplots, 2), figsize = (14, 6));\n",
    "else:\n",
    "    fig, axes = plt.subplots(nrows, min(nplots, 2), figsize = (14, (5*nrows)));\n",
    "plt.subplots_adjust(hspace=0.35)\n",
    "# Plot 1:\n",
    "ax = plt.subplot(nrows, min(nplots,2), 1)\n",
    "seaborn.lineplot(data = SC, linewidth = 3, ax = ax, legend=False);\n",
    "ax.set_xlim([1, baselineEmissions]);\n",
    "ax.set_xlabel(r'$\\overline{CO2}$', labelpad=10);\n",
    "ax.set_ylabel(r\"System costs\", labelpad=10);\n",
    "\n",
    "# Plot 2: Zooming in\n",
    "ax = plt.subplot(nrows, min(nplots,2), 2)\n",
    "FC_df.plot.area(ax = ax, legend=False, linewidth=0);\n",
    "ax.set_xlim([1,baselineEmissions]);\n",
    "ax.set_xlabel(r'$\\overline{CO2}$', labelpad=10);\n",
    "ax.set_ylabel(r\"GJ fuel\",labelpad=10);\n",
    "handles, labels = ax.get_legend_handles_labels()\n",
    "leg = ax.legend(handles[::-1], labels[::-1], loc=7, bbox_to_anchor = (1.4,0.5))\n",
    "fig.tight_layout()\n",
    "if slides:\n",
    "    fig.savefig(f\"{out_folder}\\\\mBasic_Cap_SCFC_slides.pdf\",facecolor='#FAFAFA',edgecolor='k')\n",
    "else:\n",
    "    fig.savefig(f\"{out_folder}\\\\mBasic_Cap_SCFC.pdf\",edgecolor='k')"
   ]
  },
  {
   "cell_type": "markdown",
   "id": "8391662c-51e1-4584-9094-94661087ee6c",
   "metadata": {},
   "source": [
    "# 2. Renewable energy share:"
   ]
  },
  {
   "cell_type": "markdown",
   "id": "a4beab6f-fb48-485e-b153-c8a707e663fa",
   "metadata": {},
   "source": [
    "Add variable 'RESCap' to database:"
   ]
  },
  {
   "cell_type": "code",
   "execution_count": 10,
   "id": "b7d4f139-44df-4c0e-9104-7d198a3a7f3f",
   "metadata": {},
   "outputs": [],
   "source": [
    "db_RES = db.copy()\n",
    "db_RES['RESCap'] = 0"
   ]
  },
  {
   "cell_type": "markdown",
   "id": "99c2613d-8846-496c-9c2a-a7ba1d1c104e",
   "metadata": {},
   "source": [
    "Set up and solve model:"
   ]
  },
  {
   "cell_type": "code",
   "execution_count": 11,
   "id": "6575ea43-8992-4d83-b372-03d80c332737",
   "metadata": {},
   "outputs": [
    {
     "name": "stdout",
     "output_type": "stream",
     "text": [
      "Solution status 0: Optimization terminated successfully.\n"
     ]
    }
   ],
   "source": [
    "m_RES = mBasic.mRES(db_RES)\n",
    "m_RES.solve()"
   ]
  },
  {
   "cell_type": "markdown",
   "id": "ffe87fdc-6a66-4da4-a711-da77ae5fd5d4",
   "metadata": {},
   "source": [
    "System costs as a function of RESCap:"
   ]
  },
  {
   "cell_type": "code",
   "execution_count": 12,
   "id": "108e5e1b-dad4-4fdd-9797-8671c9691050",
   "metadata": {},
   "outputs": [],
   "source": [
    "loop = pd.Index(range(51), name = 'loop')\n",
    "v0, vT = 0, 0.95\n",
    "capGrid = addGrid(v0,vT,loop,'RESCap')\n",
    "extract = ['FuelConsumption','Emissions','SystemCosts','Generation']"
   ]
  },
  {
   "cell_type": "markdown",
   "id": "d53155a5-2a3b-4a7f-bae4-0fb65f7e04a3",
   "metadata": {},
   "source": [
    "We run the experiment using the ```loopSolvExtract``` method:"
   ]
  },
  {
   "cell_type": "code",
   "execution_count": 13,
   "id": "c30ff057-c165-4c31-8dc9-0b53f14b50da",
   "metadata": {
    "tags": []
   },
   "outputs": [],
   "source": [
    "solution_RES = m_RES.loopSolveExtract(loop,[capGrid],extract)"
   ]
  },
  {
   "cell_type": "markdown",
   "id": "c56c9d5c-e716-4fa1-8737-367774acfa94",
   "metadata": {},
   "source": [
    "Add wind to fuel consumption:"
   ]
  },
  {
   "cell_type": "code",
   "execution_count": 14,
   "id": "ae325af3-c163-48bd-81af-3c6116689987",
   "metadata": {},
   "outputs": [],
   "source": [
    "wind = pd.Series(solution_RES['Generation'].xs('id4').values, pd.MultiIndex.from_product([pd.Index(['Wind'], name = 'BFt'), solution_RES['Generation'].xs('id4').index]))\n",
    "solution_RES['FuelConsumption'] = solution_RES['FuelConsumption'].combine_first(wind)"
   ]
  },
  {
   "cell_type": "markdown",
   "id": "451229c4-53ad-4d82-b1c8-95cc69d1cbfd",
   "metadata": {},
   "source": [
    "Swap the grid of RESCap out with resulting emissions:"
   ]
  },
  {
   "cell_type": "code",
   "execution_count": 15,
   "id": "ec27f49a-66b1-4631-9faf-ae9df01f694d",
   "metadata": {},
   "outputs": [],
   "source": [
    "capGrid = solution_RES['Emissions'].xs('CO2')"
   ]
  },
  {
   "cell_type": "markdown",
   "id": "d911d25c-93ed-401f-8f27-c1fc2ce87f7b",
   "metadata": {},
   "source": [
    "*Plot system costs next to the fuel consumption split; add system costs of emission cap scenario as well:*"
   ]
  },
  {
   "cell_type": "code",
   "execution_count": 16,
   "id": "6a48ab29-c5aa-48fc-9fb6-4a463dd91301",
   "metadata": {},
   "outputs": [],
   "source": [
    "SC_RES = pd.Series(solution_RES['SystemCosts'].values, index = capGrid.values)\n",
    "FC_RES = pd.Series(solution_RES['FuelConsumption'].values, index = solution_RES['FuelConsumption'].index.set_levels(capGrid.values, level = 1,verify_integrity = False))\n",
    "FC_RES_df = FC_RES.unstack('BFt').reindex(columns = ['Wind']+[k for k in FC_RES.index.levels[0] if k != 'Wind'])"
   ]
  },
  {
   "cell_type": "markdown",
   "id": "d6d8d64e-3062-43c2-9772-da96d294ed67",
   "metadata": {},
   "source": [
    "*PLot with fuel consumption:*"
   ]
  },
  {
   "cell_type": "code",
   "execution_count": 17,
   "id": "70ccf657-c196-496f-a642-3e1815ff44d4",
   "metadata": {},
   "outputs": [],
   "source": [
    "%%capture\n",
    "mult_graphs()\n",
    "nplots = 2\n",
    "nrows = math.ceil(nplots/2)\n",
    "if slides:\n",
    "    fig, axes = plt.subplots(nrows, min(nplots, 2), figsize = (14, 6));\n",
    "else:\n",
    "    fig, axes = plt.subplots(nrows, min(nplots, 2), figsize = (14, (5*nrows)));\n",
    "plt.subplots_adjust(hspace=0.35)\n",
    "# Plot 1:\n",
    "ax = plt.subplot(nrows, min(nplots,2), 1)\n",
    "seaborn.lineplot(data = SC, linewidth = 3, ax = ax, legend=False);\n",
    "seaborn.lineplot(data = SC_RES, linewidth = 3, ax = ax, legend=False);\n",
    "ax.set_xlim([1, baselineEmissions]);\n",
    "ax.set_xlabel(r'$\\overline{CO2}$', labelpad=10);\n",
    "ax.set_ylabel(r\"System costs\", labelpad=10);\n",
    "ax.legend(['$\\overline{CO2}$', '$\\overline{RES}$']);\n",
    "\n",
    "# Plot 2: Zooming in\n",
    "ax = plt.subplot(nrows, min(nplots,2), 2)\n",
    "FC_RES_df.plot.area(ax = ax, legend=False, linewidth=0);\n",
    "ax.set_xlim([1,baselineEmissions]);\n",
    "ax.set_xlabel(r'$\\overline{CO2}$', labelpad=10);\n",
    "ax.set_ylabel(r\"GJ fuel\",labelpad=10);\n",
    "handles, labels = ax.get_legend_handles_labels()\n",
    "leg = ax.legend(handles[::-1], labels[::-1], loc=7, bbox_to_anchor = (1.4,0.5))\n",
    "for line in leg.get_lines():\n",
    "    line.set_linewidth(2)\n",
    "fig.tight_layout()\n",
    "if slides:\n",
    "    fig.savefig(f\"{out_folder}\\\\mBasic_RESCap_SCFC_slides.pdf\",facecolor='#FAFAFA',edgecolor='k')\n",
    "else:\n",
    "    fig.savefig(f\"{out_folder}\\\\mBasic_RESCap_SCFC.pdf\",edgecolor='k')"
   ]
  }
 ],
 "metadata": {
  "kernelspec": {
   "display_name": "Python 3 (ipykernel)",
   "language": "python",
   "name": "python3"
  },
  "language_info": {
   "codemirror_mode": {
    "name": "ipython",
    "version": 3
   },
   "file_extension": ".py",
   "mimetype": "text/x-python",
   "name": "python",
   "nbconvert_exporter": "python",
   "pygments_lexer": "ipython3",
   "version": "3.9.7"
  }
 },
 "nbformat": 4,
 "nbformat_minor": 5
}
