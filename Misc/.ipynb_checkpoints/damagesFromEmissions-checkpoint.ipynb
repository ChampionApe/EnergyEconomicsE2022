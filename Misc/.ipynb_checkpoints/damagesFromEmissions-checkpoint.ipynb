{
 "cells": [
  {
   "cell_type": "code",
   "execution_count": 1,
   "id": "4464dd8c-aecc-4003-b61e-a73edc8021a5",
   "metadata": {},
   "outputs": [],
   "source": [
    "%run stdPackages.ipynb\n",
    "slides = True # print to slides format if True\n",
    "out_folder = os.path.join(d['curr'], 'Misc', 'Figs')\n",
    "d['data'] = os.path.join(d['curr'],'Misc','Data')\n",
    "read = {'variables': ['Fundamentals', 'Load', 'Generators_Other'], \n",
    "        'variable2D': ['Generators_FuelMix','HourlyVariation'],\n",
    "        'scalars': ['Scalars'],\n",
    "        'maps': ['Generators_Categories']}\n",
    "db = dbFromWB(os.path.join(d['data'],'mBasicInt1.xlsx'), read)\n",
    "readSets(db)\n",
    "from databaseAux import appIndexWithCopySeries"
   ]
  },
  {
   "cell_type": "code",
   "execution_count": 2,
   "id": "28c922bb-80b2-4599-b9ea-134151f2b55e",
   "metadata": {},
   "outputs": [],
   "source": [
    "m = mBasicInt.mSimple(db)\n",
    "rng = np.random.default_rng(seed=103)"
   ]
  },
  {
   "cell_type": "markdown",
   "id": "1b7ae8a7-cb61-4f22-b5b9-9fcf01c66f4e",
   "metadata": {},
   "source": [
    "## An energy system model with damages from emissions"
   ]
  },
  {
   "cell_type": "markdown",
   "id": "a771eb31-181b-47a0-93cd-23066e80fe56",
   "metadata": {},
   "source": [
    "Consider an optimization problem on the form:\n",
    "$$\\begin{align}\n",
    "    \\max\\mbox{ } W &= \\sum_{h} \\left( \\sum_l u\\cdot D_{l,h}-\\sum_{i} c_i E_{i,h} \\right) - \\sum_l \\gamma\\cdot I_l^{-\\eta}\\cdot\\text{CO}_2 \\\\ \n",
    "    \\text{s.t. }\\sum_l D_{l,h} &= \\sum_i E_{i,h} \\\\\n",
    "    \\text{CO}_2&\\equiv \\sum_j \\phi_j \\sum_i \\mu_i^j \\sum_h E_{i,h}\\\\\n",
    "    E_{i,h}&\\in[0,q_{i,h}] \\\\ \n",
    "    D_{l,h}&\\in[0, L_{l,h}] \n",
    "\\end{align}$$"
   ]
  },
  {
   "cell_type": "markdown",
   "id": "cee6f598-73af-44d1-b3c6-b5c7b369109d",
   "metadata": {},
   "source": [
    "where\n",
    "* $h$ indicates hours,\n",
    "* $l$ indicates different individuals,\n",
    "* $i$ indicates different electricity technologies,\n",
    "* $j$ indicates fuel types (oil, coal, gas etc.),\n",
    "* $D_{l,h}$ is the consumption of energy of agent $l$ in hour $h$,\n",
    "* $E_{i,h}$ is the production of energy by plant $i$ in hour $h$,\n",
    "* $c_i$ is the marginal cost of energy production by plant $i$,\n",
    "* $q_{i,h}$ is the hourly production capacity for plant $i$ in hour $h$,\n",
    "* $L_{l,h}$ is the hourly constraint on the load for consumer $l$ in hour $h$,\n",
    "* $\\phi_j$ is the emission intensity of fuel type $j$, \n",
    "* $\\mu_i^j$ is the fuel intensity of type $j$ for plant $i$,\n",
    "* $I_l$ is the income level for agent $l$,\n",
    "* $\\eta,\\gamma$."
   ]
  },
  {
   "cell_type": "markdown",
   "id": "274cc529-92e9-40a3-8fbd-449600c28409",
   "metadata": {},
   "source": [
    "Define the auxiliary function:\n",
    "$$\\begin{align}\n",
    "    \\Gamma_{i} = \\sum_l \\gamma I_l^{-\\eta} \\sum_{j} \\phi_j\\cdot \\mu_i^j,\n",
    "\\end{align}$$\n",
    "such that the welfare function can be written as:\n",
    "$$\\begin{align}\n",
    "    W = \\sum_h\\left(\\sum_l u \\cdot D_{l,h} - \\sum_i\\left(c_i+\\Gamma_{i}\\right)E_{i,h}\\right)\n",
    "\\end{align}$$"
   ]
  },
  {
   "cell_type": "markdown",
   "id": "e750e143-d533-4737-bd24-238e8fbf5cc9",
   "metadata": {},
   "source": [
    "*Draw income distribution and compute $\\Gamma$:*"
   ]
  },
  {
   "cell_type": "code",
   "execution_count": 3,
   "id": "b8be2b32-4e35-4673-a5cb-86f20c8967e2",
   "metadata": {},
   "outputs": [],
   "source": [
    "N = 1000 # number of draws\n",
    "γ = .1  # scale in damages\n",
    "η = 2  # curvature, damages in income\n",
    "μ, σ =0, 1 # parameters in distribution\n",
    "def draw(μ, σ, N):\n",
    "    return rng.lognormal(μ,σ,size=N)\n",
    "def damage(γ, η, μ, σ, N, I = None, newSample = True):\n",
    "    return γ * np.power(draw(μ, σ, N), -η) if newSample is True else γ * np.power(I, -η)\n",
    "def Γ(γ, η, μ, σ, N, db, I = None, newSample = True):\n",
    "    return sum(damage(γ, η, μ, σ, N, I = I, newSample = newSample)) * mBasicInt.plantEmissionIntensity(db).xs('CO2',level='EmissionType')"
   ]
  },
  {
   "cell_type": "markdown",
   "id": "79ac2200-d290-4714-9c93-ec38420f04f4",
   "metadata": {},
   "source": [
    "*Draw damages once, and then re-use the same sample:*"
   ]
  },
  {
   "cell_type": "code",
   "execution_count": 4,
   "id": "d943340b-f603-48a3-99af-310f52438655",
   "metadata": {},
   "outputs": [],
   "source": [
    "I = draw(μ,σ,N)"
   ]
  },
  {
   "cell_type": "markdown",
   "id": "f871901e-3a39-4374-8ada-23f960297949",
   "metadata": {},
   "source": [
    "*This keeps returning the same result:*"
   ]
  },
  {
   "cell_type": "code",
   "execution_count": 5,
   "id": "bd779baf-3ab8-4deb-8439-8a0289ec1d9a",
   "metadata": {},
   "outputs": [
    {
     "data": {
      "text/plain": [
       "id\n",
       "id1    78.386758\n",
       "id2    45.592477\n",
       "id3          0.0\n",
       "id4          0.0\n",
       "dtype: object"
      ]
     },
     "execution_count": 5,
     "metadata": {},
     "output_type": "execute_result"
    }
   ],
   "source": [
    "Γ(γ, η, μ, σ, N, db, I = I, newSample = False) "
   ]
  },
  {
   "cell_type": "markdown",
   "id": "4bf81558-17ad-451b-912d-46a33c64feaa",
   "metadata": {},
   "source": [
    "*Change a parameter and re-run:*"
   ]
  },
  {
   "cell_type": "code",
   "execution_count": 6,
   "id": "85677f1a-7919-4fc4-98d7-96f51caa38dc",
   "metadata": {},
   "outputs": [
    {
     "data": {
      "text/plain": [
       "id\n",
       "id1    658.870768\n",
       "id2    383.222257\n",
       "id3           0.0\n",
       "id4           0.0\n",
       "dtype: object"
      ]
     },
     "execution_count": 6,
     "metadata": {},
     "output_type": "execute_result"
    }
   ],
   "source": [
    "Γ(γ, 3, μ, σ, N, db, I = I, newSample = False)"
   ]
  },
  {
   "cell_type": "markdown",
   "id": "0f5d00e5-1096-4d79-b76e-ce239af40adb",
   "metadata": {},
   "source": [
    "Add this to the cost structure:"
   ]
  },
  {
   "cell_type": "code",
   "execution_count": 8,
   "id": "5e74ab9a-02bd-45d7-8046-35f287c69782",
   "metadata": {},
   "outputs": [],
   "source": [
    "from databaseAux import appIndexWithCopySeries\n",
    "kwargs = {'c': [{'variableName': 'Generation', 'parameter': lpCompiler.broadcast(Γ(γ, η, μ, σ, N, m.db, I=I, newSample=False), m.db['h'])}]}"
   ]
  },
  {
   "cell_type": "markdown",
   "id": "987bf514-39d0-413c-9427-7cc149013b8f",
   "metadata": {},
   "source": [
    "Add this as *initBlocks* to include it in the solve:*"
   ]
  },
  {
   "cell_type": "code",
   "execution_count": 9,
   "id": "f47168ca-cde4-413f-a340-c520203853fb",
   "metadata": {},
   "outputs": [
    {
     "name": "stdout",
     "output_type": "stream",
     "text": [
      "Solution status 0: Optimization terminated successfully. (HiGHS Status 7: Optimal)\n"
     ]
    }
   ],
   "source": [
    "m.solve(initBlocks=kwargs)"
   ]
  },
  {
   "cell_type": "code",
   "execution_count": 10,
   "id": "31cc4898-e046-4afe-977d-a2744bfbf0ff",
   "metadata": {},
   "outputs": [
    {
     "data": {
      "text/plain": [
       "h  id \n",
       "1  id1     0.00\n",
       "   id2     0.00\n",
       "   id3     5.00\n",
       "   id4    35.00\n",
       "2  id1     0.00\n",
       "   id2     0.00\n",
       "   id3    60.00\n",
       "   id4    17.50\n",
       "3  id1     0.00\n",
       "   id2     0.00\n",
       "   id3    60.00\n",
       "   id4     8.75\n",
       "4  id1     0.00\n",
       "   id2     0.00\n",
       "   id3    12.00\n",
       "   id4    28.00\n",
       "dtype: float64"
      ]
     },
     "execution_count": 10,
     "metadata": {},
     "output_type": "execute_result"
    }
   ],
   "source": [
    "m.db['Generation']"
   ]
  }
 ],
 "metadata": {
  "kernelspec": {
   "display_name": "Python 3 (ipykernel)",
   "language": "python",
   "name": "python3"
  },
  "language_info": {
   "codemirror_mode": {
    "name": "ipython",
    "version": 3
   },
   "file_extension": ".py",
   "mimetype": "text/x-python",
   "name": "python",
   "nbconvert_exporter": "python",
   "pygments_lexer": "ipython3",
   "version": "3.9.7"
  }
 },
 "nbformat": 4,
 "nbformat_minor": 5
}
