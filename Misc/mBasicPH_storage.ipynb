{
 "cells": [
  {
   "cell_type": "code",
   "execution_count": 1,
   "id": "74801d1e-dea0-4fb9-815b-a4042a2c6a53",
   "metadata": {},
   "outputs": [],
   "source": [
    "%run stdPackages.ipynb\n",
    "slides = False # print to slides format if True\n",
    "out_folder = os.path.join(d['curr'], 'Misc', 'Figs')\n",
    "d['data'] = os.path.join(d['curr'],'Misc','Data')\n",
    "read = {'variables': ['Fundamentals', 'LoadVariables', 'TransmissionLines', 'GeneratorsVariables','StorageVariables'],\n",
    "        'maps': ['LoadMaps','GeneratorsMaps','StorageMaps'],\n",
    "        'scalars': ['Scalars']}\n",
    "db = dbFromWB(os.path.join(d['data'],'mBasicPH_storage.xlsx'), read)"
   ]
  },
  {
   "cell_type": "markdown",
   "id": "e0ec7b45-1882-4eff-88eb-50645a28c296",
   "metadata": {},
   "source": [
    "# The effect of coupled markets on intermittency"
   ]
  },
  {
   "cell_type": "code",
   "execution_count": 2,
   "id": "b4e9bc22-dd3a-4c85-b42c-29d8fab74a44",
   "metadata": {},
   "outputs": [],
   "source": [
    "H = 1000\n",
    "rng = np.random.default_rng(seed=103)"
   ]
  },
  {
   "cell_type": "markdown",
   "id": "e9824633-b454-4eae-887d-05643ac0fd12",
   "metadata": {},
   "source": [
    "## Create correlated samples"
   ]
  },
  {
   "cell_type": "markdown",
   "id": "77f4872d-942b-47fa-b55f-778e1a3e60eb",
   "metadata": {},
   "source": [
    "This helps us to create variation in demand and intermittent productivity based on correlations:"
   ]
  },
  {
   "cell_type": "code",
   "execution_count": 3,
   "id": "e7731913-6e28-4313-8e33-f92c821c68da",
   "metadata": {},
   "outputs": [],
   "source": [
    "def createCorrMatrix(lH_lE, lH_WS, lH_SH, lE_WS, lE_SH, WS_SH):\n",
    "    return np.array([[1, lH_lE, lH_WS, lH_SH],\n",
    "                     [lH_lE, 1, lE_WS, lE_SH],\n",
    "                     [lH_WS, lE_WS, 1, WS_SH],\n",
    "                     [lH_SH, lE_SH, WS_SH, 1]])\n",
    "def correlatedSample(covMatrix, capFactors = [0.5, 0.14]):\n",
    "    means = np.array([5] * 4)\n",
    "    dim_bounds = np.array([[0, 20],\n",
    "                           [0, 50],\n",
    "                           [0, 20],\n",
    "                           [3, 7]])\n",
    "    sample = sampling.BoundedMultivariateNormalDist(means, cov_matrix = createCorrMatrix(*covMatrix), dim_bounds = dim_bounds, size = H, rng = rng)\n",
    "    return {'LoadVariation_E': loadVariation_E(sample),\n",
    "            'LoadVariation_H': loadVariation_H(sample),\n",
    "            'CapVariation': mapSample2CapVariation(sample, capFactors)}\n",
    "def loadVariation_E(sample):\n",
    "    return pd.DataFrame(sample[:,1]/sample[:,1].sum(axis=0),\n",
    "                        index  = pd.Index(range(1,H+1), name = 'h'),\n",
    "                        columns= pd.Index(['c1'], name = f'c_E')\n",
    "                       ).stack()\n",
    "def loadVariation_H(sample):\n",
    "    return pd.DataFrame(sample[:,0]/sample[:,0].sum(axis=0),\n",
    "                        index  = pd.Index(range(1,H+1), name = 'h'),\n",
    "                        columns= pd.Index(['c1'], name = f'c_H')\n",
    "                       ).stack()\n",
    "\n",
    "def mapSample2CapVariation(sample, capFactors):\n",
    "    return pd.DataFrame(sample[:,2:]/sample[:,2:].sum(axis=0) * H * np.array(capFactors), \n",
    "                        index = pd.Index(range(1,H+1), name = 'h'), \n",
    "                        columns = pd.Index(['g1_WS','g1_SH'], name = 'hvt')\n",
    "                       ).assign(Standard = 1).stack()"
   ]
  },
  {
   "cell_type": "markdown",
   "id": "71e3db01-614e-4a52-9458-7f3cabfb614b",
   "metadata": {},
   "source": [
    "Create correlated sample by providing list of correlations (see ```createCorrMatrix``` for the order of correlations) and add to the database:"
   ]
  },
  {
   "cell_type": "code",
   "execution_count": 4,
   "id": "68008e4b-ef27-4d46-9a05-9f66168d4339",
   "metadata": {},
   "outputs": [],
   "source": [
    "db['Load_E'] = db['Load_E'] * H\n",
    "db['Load_H'] = db['Load_H'] * H\n",
    "db.symbols.update(correlatedSample([0.32,0.34,-0.27, 0.14,-0.09,-0.18]))\n",
    "readSets(db, types = ['variable','set'])"
   ]
  },
  {
   "cell_type": "markdown",
   "id": "c64f6294-5855-4138-b40c-58034387d1af",
   "metadata": {},
   "source": [
    "Set up and solve:"
   ]
  },
  {
   "cell_type": "code",
   "execution_count": 5,
   "id": "0577b7f4-a413-45c0-b88c-cf1e0be6f210",
   "metadata": {},
   "outputs": [
    {
     "name": "stdout",
     "output_type": "stream",
     "text": [
      "Solution status 0: Optimization terminated successfully. (HiGHS Status 7: Optimal)\n"
     ]
    }
   ],
   "source": [
    "m = mBasicPH_storage.mSimple(db)\n",
    "m.solve()"
   ]
  },
  {
   "cell_type": "code",
   "execution_count": 6,
   "id": "851a9d1f-e0b9-4ae5-b827-6d919019a81a",
   "metadata": {},
   "outputs": [
    {
     "data": {
      "text/html": [
       "<div>\n",
       "<style scoped>\n",
       "    .dataframe tbody tr th:only-of-type {\n",
       "        vertical-align: middle;\n",
       "    }\n",
       "\n",
       "    .dataframe tbody tr th {\n",
       "        vertical-align: top;\n",
       "    }\n",
       "\n",
       "    .dataframe thead th {\n",
       "        text-align: right;\n",
       "    }\n",
       "</style>\n",
       "<table border=\"1\" class=\"dataframe\">\n",
       "  <thead>\n",
       "    <tr style=\"text-align: right;\">\n",
       "      <th></th>\n",
       "      <th>Demand, H</th>\n",
       "      <th>Demand, E</th>\n",
       "      <th>Wind</th>\n",
       "      <th>Solar heat</th>\n",
       "    </tr>\n",
       "  </thead>\n",
       "  <tbody>\n",
       "    <tr>\n",
       "      <th>Demand, H</th>\n",
       "      <td>1.00</td>\n",
       "      <td>0.27</td>\n",
       "      <td>0.32</td>\n",
       "      <td>-0.19</td>\n",
       "    </tr>\n",
       "    <tr>\n",
       "      <th>Demand, E</th>\n",
       "      <td>0.27</td>\n",
       "      <td>1.00</td>\n",
       "      <td>0.16</td>\n",
       "      <td>-0.03</td>\n",
       "    </tr>\n",
       "    <tr>\n",
       "      <th>Wind</th>\n",
       "      <td>0.32</td>\n",
       "      <td>0.16</td>\n",
       "      <td>1.00</td>\n",
       "      <td>-0.13</td>\n",
       "    </tr>\n",
       "    <tr>\n",
       "      <th>Solar heat</th>\n",
       "      <td>-0.19</td>\n",
       "      <td>-0.03</td>\n",
       "      <td>-0.13</td>\n",
       "      <td>1.00</td>\n",
       "    </tr>\n",
       "  </tbody>\n",
       "</table>\n",
       "</div>"
      ],
      "text/plain": [
       "            Demand, H  Demand, E  Wind  Solar heat\n",
       "Demand, H        1.00       0.27  0.32       -0.19\n",
       "Demand, E        0.27       1.00  0.16       -0.03\n",
       "Wind             0.32       0.16  1.00       -0.13\n",
       "Solar heat      -0.19      -0.03 -0.13        1.00"
      ]
     },
     "execution_count": 6,
     "metadata": {},
     "output_type": "execute_result"
    }
   ],
   "source": [
    "corr =pd.DataFrame({'Demand, H': m.db['LoadVariation_H'].xs('c1',level='c_H'),\n",
    "                    'Demand, E': m.db['LoadVariation_E'].xs('c1',level='c_E'),\n",
    "                    'Wind': m.db['CapVariation'].xs('g1_WS',level='hvt'),\n",
    "                    'Solar heat': m.db['CapVariation'].xs('g1_SH',level='hvt')}).corr().round(2)\n",
    "corr"
   ]
  },
  {
   "cell_type": "code",
   "execution_count": 7,
   "id": "4dd6ea3d-5437-4159-bb6e-d66b9c6851e6",
   "metadata": {},
   "outputs": [
    {
     "name": "stdout",
     "output_type": "stream",
     "text": [
      "\\begin{tabular}{lrrrr}\n",
      "\\toprule\n",
      "{} &  Demand, H &  Demand, E &  Wind &  Solar heat \\\\\n",
      "\\midrule\n",
      "Demand, H  &       1.00 &       0.27 &  0.32 &       -0.19 \\\\\n",
      "Demand, E  &       0.27 &       1.00 &  0.16 &       -0.03 \\\\\n",
      "Wind       &       0.32 &       0.16 &  1.00 &       -0.13 \\\\\n",
      "Solar heat &      -0.19 &      -0.03 & -0.13 &        1.00 \\\\\n",
      "\\bottomrule\n",
      "\\end{tabular}\n",
      "\n"
     ]
    }
   ],
   "source": [
    "print(corr.to_latex())"
   ]
  },
  {
   "cell_type": "markdown",
   "id": "95cead06-1edb-4848-984f-c575cbb1f906",
   "metadata": {},
   "source": [
    "### Plot baseline solution:"
   ]
  },
  {
   "cell_type": "markdown",
   "id": "d02e4323-5902-484c-8d3d-06cb571e5524",
   "metadata": {},
   "source": [
    "To get an idea of the solution in the baseline scenario, we plot:\n",
    "* The residual demand curve for heat and electricity,\n",
    "* the sorted variation in marginal costs for $E$ and $H$, "
   ]
  },
  {
   "cell_type": "markdown",
   "id": "9ad1e6f7-33e7-4480-84ec-9fb02aee87f7",
   "metadata": {},
   "source": [
    "*1. The residual demand curve*"
   ]
  },
  {
   "cell_type": "code",
   "execution_count": 8,
   "id": "89a17c67-4299-43ab-b07c-275fc638d6be",
   "metadata": {},
   "outputs": [],
   "source": [
    "RDC = pd.DataFrame({'E': (m.hourlyLoad_E.xs('g1',level='g')-pdSum(mBasicPH_storage.subsetIdsTech_i(m.hourlyGeneratingCap_E, ['PV','WS'], m.db), 'id')).sort_values(ascending=False).reset_index(drop=True),\n",
    "                    'H': (m.hourlyLoad_H.xs('g1',level='g')-pdSum(mBasicPH_storage.subsetIdsTech_i(m.hourlyGeneratingCap_H, 'SH',m.db), 'id')).sort_values(ascending=False).reset_index(drop=True)})\n",
    "RDC.index = [i/(len(RDC)) for i in range(1, len(RDC)+1)]\n",
    "RDC.at[0] = RDC.iloc[0]"
   ]
  },
  {
   "cell_type": "markdown",
   "id": "b8ae8a32-e83f-4695-820e-13576ef7842d",
   "metadata": {},
   "source": [
    "*2. The sorted marginal costs:*"
   ]
  },
  {
   "cell_type": "code",
   "execution_count": 9,
   "id": "f31211bb-6cc2-4fc2-b41a-26a07ce96d2e",
   "metadata": {},
   "outputs": [],
   "source": [
    "sortedPrices = pd.DataFrame({'$p_E$': m.db['marginalSystemCosts_E'].sort_values().reset_index(drop=True),\n",
    "                             '$p_H$': m.db['marginalSystemCosts_H'].sort_values().reset_index(drop=True)})\n",
    "sortedPrices.index = [i/(len(sortedPrices)) for i in range(1, len(sortedPrices)+1)]\n",
    "sortedPrices.at[0] = sortedPrices.iloc[0]"
   ]
  },
  {
   "cell_type": "code",
   "execution_count": 10,
   "id": "6f277189-33b0-4968-b22f-5f8f40ade4d8",
   "metadata": {},
   "outputs": [],
   "source": [
    "%%capture\n",
    "mult_graphs()\n",
    "nplots = 2\n",
    "nrows = math.ceil(nplots/2)\n",
    "fig, axes = plt.subplots(nrows, min(nplots, 2), figsize = (14, (6*nrows)));\n",
    "plt.subplots_adjust(hspace=0.35)\n",
    "\n",
    "# plot 1: RDC\n",
    "ax = plt.subplot(nrows, min(nplots,2), 1)\n",
    "seaborn.lineplot(data=RDC, ax = ax, linewidth=3);\n",
    "ax.set_xlabel(r'Capacity Factor', labelpad = 5);\n",
    "ax.set_ylabel(r'$GJ$', labelpad = 5);\n",
    "ax.set_xlim([0, 1]);\n",
    "ax.hlines(0,0,1,colors='k',linewidth=1,alpha=0.5)\n",
    "ax.set_title('Residual Demand Curve')\n",
    "\n",
    "# Plot 2:\n",
    "ax = plt.subplot(nrows, min(nplots,2),2)\n",
    "seaborn.lineplot(data=sortedPrices, ax = ax, linewidth= 3);\n",
    "ax.set_xlabel(r'Capacity Factor', labelpad = 5);\n",
    "ax.set_ylabel(r'$€/GJ$', labelpad = 5);\n",
    "ax.set_xlim([0, 1]);\n",
    "ax.hlines(0,0,1,colors='k',linewidth=1,alpha=0.5)\n",
    "ax.set_title('Sorted prices');\n",
    "\n",
    "fig.tight_layout()\n",
    "if slides:\n",
    "    fig.savefig(f\"{out_folder}\\\\mBasicPH_Storage_baseline_slides.pdf\",facecolor='#FAFAFA',edgecolor='k')\n",
    "else:\n",
    "    fig.savefig(f\"{out_folder}\\\\mBasicPH_Storage_baseline.pdf\",edgecolor='k')"
   ]
  },
  {
   "cell_type": "markdown",
   "id": "b754414f-d097-4453-a6c9-2ee8dbe870be",
   "metadata": {},
   "source": [
    "### Simulation 1: Increase BP generating capacity"
   ]
  },
  {
   "cell_type": "code",
   "execution_count": 11,
   "id": "8b54415a-24be-4b1f-a7ab-bcabf44b2573",
   "metadata": {},
   "outputs": [],
   "source": [
    "db_before = m.db.copy()"
   ]
  },
  {
   "cell_type": "code",
   "execution_count": 12,
   "id": "d947daf0-9595-477e-b715-1edcb482385c",
   "metadata": {},
   "outputs": [],
   "source": [
    "loop = pd.Index(range(11), name = 'loop')\n",
    "v0 = mBasicPH_storage.subsetIdsTech(m.db['GeneratingCap_E'], 'BP', m.db)\n",
    "vT = mBasicPH_storage.subsetIdsTech(m.db['GeneratingCap_E'], 'BP', m.db)+25\n",
    "grid = addGrid(v0,vT,loop,'GeneratingCap_E')\n",
    "extract = ['marginalSystemCosts_E','marginalSystemCosts_H','meanConsumerPrice_E','meanConsumerPrice_H','marginalEconomicValue','FuelConsumption', 'Emissions']"
   ]
  },
  {
   "cell_type": "code",
   "execution_count": null,
   "id": "a58519b9-b007-44a0-a834-325e10e632e4",
   "metadata": {},
   "outputs": [],
   "source": [
    "solution_BP = m.loopSolveExtract(loop,[grid],extract)"
   ]
  },
  {
   "cell_type": "markdown",
   "id": "753d9960-7577-4091-a9a7-9e81d24f4d85",
   "metadata": {},
   "source": [
    "Let's plot:\n",
    "* The correlation between hourly electricity and heat prices for each loop.\n",
    "* The change in average prices.\n",
    "* The change in fuel consumption.\n",
    "* The marginal economic value for intermittent technologies"
   ]
  },
  {
   "cell_type": "code",
   "execution_count": null,
   "id": "0379b0b7-90b3-4d9f-a64a-5fbdbb60793a",
   "metadata": {},
   "outputs": [],
   "source": [
    "correlation = pd.Series([pd.Series.corr(solution_BP['marginalSystemCosts_E'].xs('g1').xs(l,level='loop'), solution_BP['marginalSystemCosts_H'].xs('g1').xs(l,level='loop')) for l in loop])\n",
    "meanPrices = pd.DataFrame({'$p_E$': solution_BP['meanConsumerPrice_E'].xs('g1'), '$p_H$': solution_BP['meanConsumerPrice_H'].xs('g1')})\n",
    "fCon = (solution_BP['FuelConsumption'].xs('g1',level='g')/1000).unstack('BFt')\n",
    "MEV = mBasicPH_storage.subsetIdsTech_i(solution_BP['marginalEconomicValue'], ['WS','SH'], m.db).unstack('id')\n",
    "MEV.columns = MEV.columns.map({'g1_SH':'SH','g1_WS': 'WS'})"
   ]
  },
  {
   "cell_type": "code",
   "execution_count": null,
   "id": "e2a19f04-65bd-4ada-9343-eab2fcd5016f",
   "metadata": {},
   "outputs": [],
   "source": [
    "%%capture\n",
    "nplots = 4\n",
    "nrows = math.ceil(nplots/2)\n",
    "fig,axes = plt.subplots(nrows, min(nplots,2), figsize = (14, (4*nrows)));\n",
    "plt.subplots_adjust(hspace=0.35) # create a bit of extra space between subplots\n",
    "\n",
    "# plot 1: Mean prices:\n",
    "ax = plt.subplot(nrows, min(nplots,2), 1) # access subplot 1\n",
    "seaborn.lineplot(data = meanPrices, ax=ax, linewidth=3);\n",
    "ax.set_ylabel('€/GJ');\n",
    "ax.set_xlabel('loop');\n",
    "ax.set_xlim([0,max(loop)]);\n",
    "ax.set_title('Average prices');\n",
    "\n",
    "\n",
    "# plot 2: Correlation:\n",
    "ax = plt.subplot(nrows, min(nplots,2), 2) # access subplot 2\n",
    "seaborn.lineplot(data = correlation, ax=ax, linewidth=3, legend=False);\n",
    "ax.hlines(0,0,max(loop),colors='k',linewidth=1,alpha=0.5)\n",
    "ax.set_xlabel('loop');\n",
    "ax.set_xlim([0,max(loop)]);\n",
    "ax.set_title('Correlation $p_E,p_H$');\n",
    "\n",
    "\n",
    "# plot 3: \n",
    "ax = plt.subplot(nrows, min(nplots,2), 3) # access subplot 3\n",
    "seaborn.lineplot(data = fCon, ax=ax, linewidth=3);\n",
    "ax.set_ylabel('1000 GJ');\n",
    "ax.set_xlim([0,max(loop)]);\n",
    "ax.set_title('Fuel consumption');\n",
    "\n",
    "# plot 4: MEV \n",
    "ax = plt.subplot(nrows, min(nplots,2), 4) # access subplot 4\n",
    "seaborn.lineplot(data = MEV, ax=ax, linewidth=3);\n",
    "ax.set_ylabel('€/(GJ/h)');\n",
    "ax.set_xlim([0,max(loop)]);\n",
    "ax.set_title('Marginal economic value');\n",
    "fig.tight_layout()\n",
    "if slides:\n",
    "    fig.savefig(f\"{out_folder}\\\\mBasicPH_storage_CHP_slides.pdf\",facecolor='#FAFAFA',edgecolor='k')\n",
    "else:\n",
    "    fig.savefig(f\"{out_folder}\\\\mBasicPH_storage_CHP.pdf\",edgecolor='k')"
   ]
  },
  {
   "cell_type": "markdown",
   "id": "98234e1b-15a9-4427-9521-59fb02e4cabe",
   "metadata": {},
   "source": [
    "### Simulation 2: Increase HP generating capacity"
   ]
  },
  {
   "cell_type": "code",
   "execution_count": null,
   "id": "6b58d0c9-26ff-43b5-849a-ee2497008d9d",
   "metadata": {},
   "outputs": [],
   "source": [
    "m.db = db_before.copy()"
   ]
  },
  {
   "cell_type": "code",
   "execution_count": null,
   "id": "d5fb148e-e83a-4cda-b4bd-d9d2e6646ae7",
   "metadata": {},
   "outputs": [],
   "source": [
    "loop = pd.Index(range(11), name = 'loop')\n",
    "v0 = mBasicPH_storage.subsetIdsTech(m.db['GeneratingCap_H'], 'HP', m.db)\n",
    "vT = mBasicPH_storage.subsetIdsTech(m.db['GeneratingCap_H'], 'HP', m.db)+50\n",
    "gridHP = addGrid(v0,vT,loop,'GeneratingCap_H')"
   ]
  },
  {
   "cell_type": "code",
   "execution_count": null,
   "id": "299b2445-84a2-41ee-b45c-45c72f4a842d",
   "metadata": {},
   "outputs": [],
   "source": [
    "solution_HP = m.loopSolveExtract(loop,[gridHP],extract)"
   ]
  },
  {
   "cell_type": "code",
   "execution_count": null,
   "id": "14906824-62bc-4949-b876-486c3c5672e7",
   "metadata": {},
   "outputs": [],
   "source": [
    "correlation = pd.Series([pd.Series.corr(solution_HP['marginalSystemCosts_E'].xs('g1').xs(l,level='loop'), solution_HP['marginalSystemCosts_H'].xs('g1').xs(l,level='loop')) for l in loop])\n",
    "meanPrices = pd.DataFrame({'$p_E$': solution_HP['meanConsumerPrice_E'].xs('g1'), '$p_H$': solution_HP['meanConsumerPrice_H'].xs('g1')})\n",
    "fCon = (solution_HP['FuelConsumption'].xs('g1',level='g')/1000).unstack('BFt')\n",
    "MEV = mBasicPH_storage.subsetIdsTech_i(solution_HP['marginalEconomicValue'], ['WS','SH'], m.db).unstack('id')\n",
    "MEV.columns = MEV.columns.map({'g1_SH':'SH','g1_WS': 'WS'})"
   ]
  },
  {
   "cell_type": "code",
   "execution_count": null,
   "id": "d34d7e51-e1f0-4939-a62d-fffbbc1533d9",
   "metadata": {},
   "outputs": [],
   "source": [
    "%%capture\n",
    "nplots = 4\n",
    "nrows = math.ceil(nplots/2)\n",
    "fig,axes = plt.subplots(nrows, min(nplots,2), figsize = (14, (4*nrows)));\n",
    "plt.subplots_adjust(hspace=0.35) # create a bit of extra space between subplots\n",
    "\n",
    "# plot 1: Mean prices:\n",
    "ax = plt.subplot(nrows, min(nplots,2), 1) # access subplot 1\n",
    "seaborn.lineplot(data = meanPrices, ax=ax, linewidth=3);\n",
    "ax.set_ylabel('€/GJ');\n",
    "ax.set_xlabel('loop');\n",
    "ax.set_xlim([0,max(loop)]);\n",
    "ax.set_title('Average prices');\n",
    "\n",
    "\n",
    "# plot 2: Correlation:\n",
    "ax = plt.subplot(nrows, min(nplots,2), 2) # access subplot 2\n",
    "seaborn.lineplot(data = correlation, ax=ax, linewidth=3, legend=False);\n",
    "ax.hlines(0,0,max(loop),colors='k',linewidth=1,alpha=0.5)\n",
    "ax.set_xlabel('loop');\n",
    "ax.set_xlim([0,max(loop)]);\n",
    "ax.set_title('Correlation $p_E,p_H$');\n",
    "\n",
    "\n",
    "# plot 3: \n",
    "ax = plt.subplot(nrows, min(nplots,2), 3) # access subplot 3\n",
    "seaborn.lineplot(data = fCon, ax=ax, linewidth=3);\n",
    "ax.set_ylabel('1000 GJ');\n",
    "ax.set_xlim([0,max(loop)]);\n",
    "ax.set_title('Fuel consumption');\n",
    "\n",
    "# plot 4: MEV \n",
    "ax = plt.subplot(nrows, min(nplots,2), 4) # access subplot 4\n",
    "seaborn.lineplot(data = MEV, ax=ax, linewidth=3);\n",
    "ax.set_ylabel('€/(GJ/h)');\n",
    "ax.set_xlim([0,max(loop)]);\n",
    "ax.set_title('Marginal economic value');\n",
    "fig.tight_layout()\n",
    "if slides:\n",
    "    fig.savefig(f\"{out_folder}\\\\mBasicPH_storage_HP_slides.pdf\",facecolor='#FAFAFA',edgecolor='k')\n",
    "else:\n",
    "    fig.savefig(f\"{out_folder}\\\\mBasicPH_storage_HP.pdf\",edgecolor='k')"
   ]
  },
  {
   "cell_type": "markdown",
   "id": "2e42f382-d50a-4e2c-b350-5a1e2e964e22",
   "metadata": {},
   "source": [
    "### Simulation 3: Increase HP generating capacity with more heat storage"
   ]
  },
  {
   "cell_type": "code",
   "execution_count": null,
   "id": "d4d6d72d-941c-4a72-ad07-5294bc409465",
   "metadata": {},
   "outputs": [],
   "source": [
    "m.db = db_before.copy()"
   ]
  },
  {
   "cell_type": "code",
   "execution_count": null,
   "id": "d4cd922c-4a47-4b8f-88c1-f00a9af4de18",
   "metadata": {},
   "outputs": [],
   "source": [
    "for v in ('GeneratingCap_H','chargeCap_H','sCap'):\n",
    "    m.db[v] = (mBasicPH_storage.subsetIdsTech(m.db[v], 'HS', m.db)*50).combine_first(m.db[v])"
   ]
  },
  {
   "cell_type": "code",
   "execution_count": null,
   "id": "a2c99fdf-f0f8-4282-b987-4e2ea07fb338",
   "metadata": {},
   "outputs": [],
   "source": [
    "solution_HP_HS = m.loopSolveExtract(loop,[gridHP],extract)"
   ]
  },
  {
   "cell_type": "code",
   "execution_count": null,
   "id": "cf20dcb1-07a2-4ec8-9d35-ffde79f04153",
   "metadata": {},
   "outputs": [],
   "source": [
    "correlation_HS = pd.Series([pd.Series.corr(solution_HP_HS['marginalSystemCosts_E'].xs('g1').xs(l,level='loop'), solution_HP_HS['marginalSystemCosts_H'].xs('g1').xs(l,level='loop')) for l in loop])\n",
    "meanPrices_HS = pd.DataFrame({'$p_E$': solution_HP_HS['meanConsumerPrice_E'].xs('g1'), '$p_H$': solution_HP_HS['meanConsumerPrice_H'].xs('g1')})\n",
    "fCon_HS = (solution_HP_HS['FuelConsumption'].xs('g1',level='g')/1000).unstack('BFt')\n",
    "MEV_HS = mBasicPH_storage.subsetIdsTech_i(solution_HP_HS['marginalEconomicValue'], ['WS','SH'], m.db).unstack('id')\n",
    "MEV_HS.columns = MEV_HS.columns.map({'g1_SH':'SH','g1_WS': 'WS'})"
   ]
  },
  {
   "cell_type": "code",
   "execution_count": null,
   "id": "f13d5fb6-e80b-4893-8d26-425496484206",
   "metadata": {},
   "outputs": [],
   "source": [
    "(meanPrices-meanPrices_HS).plot()"
   ]
  },
  {
   "cell_type": "code",
   "execution_count": null,
   "id": "c2636cb8-cdab-4b6e-84b9-b20fc9356b4a",
   "metadata": {},
   "outputs": [],
   "source": [
    "meanPrices_HS.plot()"
   ]
  }
 ],
 "metadata": {
  "kernelspec": {
   "display_name": "Python 3 (ipykernel)",
   "language": "python",
   "name": "python3"
  },
  "language_info": {
   "codemirror_mode": {
    "name": "ipython",
    "version": 3
   },
   "file_extension": ".py",
   "mimetype": "text/x-python",
   "name": "python",
   "nbconvert_exporter": "python",
   "pygments_lexer": "ipython3",
   "version": "3.9.13"
  }
 },
 "nbformat": 4,
 "nbformat_minor": 5
}
