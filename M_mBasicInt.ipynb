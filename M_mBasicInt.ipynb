{
 "cells": [
  {
   "cell_type": "markdown",
   "id": "d45850db-6058-4263-8607-cf7db46df89c",
   "metadata": {},
   "source": [
    "*Load packages and data:*"
   ]
  },
  {
   "cell_type": "code",
   "execution_count": 1,
   "id": "45609399-e883-48dc-8f7c-1430b4869f28",
   "metadata": {},
   "outputs": [
    {
     "name": "stderr",
     "output_type": "stream",
     "text": [
      "C:\\Users\\xnh825\\Anaconda3\\envs\\EEotGT\\lib\\site-packages\\pandas\\core\\algorithms.py:798: FutureWarning: In a future version, the Index constructor will not infer numeric dtypes when passed object-dtype sequences (matching Series behavior)\n",
      "  uniques = Index(uniques)\n",
      "C:\\Users\\xnh825\\Documents\\GitHub\\EnergyEconomicsE2022\\py\\readDatabase.py:63: FutureWarning: In a future version, the Index constructor will not infer numeric dtypes when passed object-dtype sequences (matching Series behavior)\n",
      "  var = pd.DataFrame(pd_sheet.iloc[1:,1:].values, index = pd.Index(pd_sheet.iloc[1:,0],name=domains[1]), columns = pd.Index(pd_sheet.iloc[0,1:], name = domains[2])).stack()\n"
     ]
    }
   ],
   "source": [
    "%run stdPackages.ipynb\n",
    "read = {'variables': ['Fundamentals', 'Load', 'Generators_Other'], \n",
    "        'variable2D': ['Generators_FuelMix','HourlyVariation'],\n",
    "        'scalars': ['Scalars'],\n",
    "        'maps': ['Generators_Categories']}\n",
    "db = dbFromWB(os.path.join(d['data'],'0_GlobalData.xlsx'), read)\n",
    "readSets(db)"
   ]
  },
  {
   "cell_type": "markdown",
   "id": "005e6169-d0a1-4389-a965-629a00d6bd94",
   "metadata": {
    "tags": []
   },
   "source": [
    "# The ```mBasicInt``` model"
   ]
  },
  {
   "cell_type": "markdown",
   "id": "8942162f-6ec9-47bb-9b60-d2f875d44ada",
   "metadata": {},
   "source": [
    "### **The model**"
   ]
  },
  {
   "cell_type": "markdown",
   "id": "213d3246-863c-478a-9d1c-3d5c26ee5522",
   "metadata": {},
   "source": [
    "The class specifies the relatively simple linear electricity system model specified as:\n",
    "<a id='simplemodel'>\n",
    "$$\\begin{align} \\tag{1}\n",
    "    \\max \\text{Welfare} &= \\sum_h\\left(u\\cdot D_h-\\sum_{id}mc_{id}\\cdot E_{id,h}\\right) \\\\ \n",
    "               D_h &= \\sum_{id} E_{id,h} \\\\ \n",
    "               D_h &\\in [0, z_h\\cdot \\text{Load}], \\\\\n",
    "               E_{id,h}&\\in[0,q_{id,h}].\n",
    "\\end{align}$$\n",
    "\n",
    "* $u$ is the consumers' marginal willingness to pay for not having the load shedded. \n",
    "* $D_h$ is the actual served load in hour $h$ whereas (Load$\\cdot z_h$) is the planned level of demand/load in hour $h$; \n",
    "* $z_h$ is a measure of the hourly variation in demand. If we make sure that $\\sum_h z_h =1$ the 'Load' parameter is a measure of 'yearly'/long run demand. \n",
    "* ($z_h\\cdot \\text{Load} - D_h$) measures the shedded load in a given hour. \n",
    "* The boundary constraint $D_h\\in[0, z_h\\cdot \\text{Load}]$ states that demand cannot be negative and that load shedding cannot be negative (we return to some more advanced demand modelling in topic of flexible demand systems).\n",
    "* The boundary constraint $E_{id,h}\\in[0,q_{id,h}]$ states the generation cannot be negative and not exceed a plant-and-hourly specific generation capacity. This generation capacity is generally constant for 'standard' plants, but varies with hours for solar and wind type of plants."
   ]
  },
  {
   "cell_type": "markdown",
   "id": "1b5b3588-95ca-4ded-a8ac-136aea282841",
   "metadata": {},
   "source": [
    "### 1. **Augmented form LP**"
   ]
  },
  {
   "cell_type": "markdown",
   "id": "aec040aa-03b0-4933-91df-404e71790a18",
   "metadata": {},
   "source": [
    "To solve the model, the algorithm in ```scipy.optimize.linprog``` requires that we specify the problem in the 'augmented' form that specifically looks as follows:\n",
    "$$\\begin{align} \\tag{2}\n",
    "    &\\min_{x}\\mbox{ }c^T\\cdot x \\\\ \n",
    "    &A_{ub}\\times x \\leq b_{ub} \\\\ \n",
    "    &A_{eq}\\times x  = b_{eq} \\\\ \n",
    "    &l\\leq x\\leq u,\n",
    "\\end{align}$$\n",
    "where \n",
    "* $c,x,l,u$ are all vectors of the same length $N$, \n",
    "* $b_{eq},b_{ub}$ are vectors of lengths $N_{eq},N_{ub}$ respectively,\n",
    "** and $A_{eq}, A_{ub}$ are coefficient matrices of sizes $(N_{eq}\\times N)$ and $(N_{ub} \\times N)$ respectively."
   ]
  },
  {
   "cell_type": "markdown",
   "id": "b982990d-52bf-4702-8a37-5676af644b38",
   "metadata": {},
   "source": [
    "You can confirm that to go from the specific model to the augmented form we have the following:\n",
    "<b id='standardform'> \n",
    "\n",
    "#### 1.1. The vector of decision variables $x$:\n",
    "Consists of a vector of stacked generation choices $E_{id,h}$ for all $id,h$, and the vector of demand levels $D_h$ for each $h$:\n",
    "\n",
    "$$\\begin{align}\n",
    "x = \\begin{pmatrix} E_{id1,1} \\\\ \\vdots \\\\ E_{idN,H} \\\\ D_1 \\\\ \\vdots \\\\ D_H\\end{pmatrix}\n",
    "\\end{align}$$"
   ]
  },
  {
   "cell_type": "markdown",
   "id": "1982ecd6-25bc-4ea3-979a-05a46ab4f18c",
   "metadata": {},
   "source": [
    "#### 1.2. The vector of cost coefficients $c$:\n",
    "Note that the model in equations [(1)](#simplemodel) *maximizes* a welfare function, whereas the augmented form model *minimizes* a linear objective function. Thus, to arrive at a augmented form, we need to use the objective:\n",
    "$$\\begin{align}\n",
    "    \\min -\\text{Welfare} = \\sum_h\\left(\\sum_{id}\\left[mc_{id}\\cdot E_{id,h}\\right]-u\\cdot D_h\\right)\n",
    "\\end{align}$$\n",
    "Consists of (i) a vector of stacked marginal costs components for each $id,h$ that is multiplied on the $E_{id,h}$ variables, and (ii) a vector of $-u$ for each $D_h$ variable:\n",
    "\n",
    "$$\\begin{align}\n",
    "    c = \\begin{pmatrix} \\text{repeat}_h\\begin{pmatrix} mc_{id1} \\\\ \\vdots \\\\ mc_{idN} \\\\ \\end{pmatrix} \\\\ \n",
    "    \\text{repeat}_h\\begin{pmatrix} -u \\end{pmatrix} \\end{pmatrix},\n",
    "\\end{align}$$\n",
    "where we use $\\text{repeat}_h$ to indicate that a vector is repeated for all $h$ hours."
   ]
  },
  {
   "cell_type": "markdown",
   "id": "4238ecc4-b8cf-4751-96ed-1404ac97506a",
   "metadata": {},
   "source": [
    "#### 1.3. The vector of lower bounds $l$:\n",
    "The lower bounds on all decision variables $(E_{id,h}, D_h)$ is zero. Thus, the $l$ vector is simply a $0$-vector of the same length as $x$ and $c$:\n",
    "$$\\begin{align}\n",
    "    l = \\begin{pmatrix} 0 \\\\ \\vdots \\\\ 0 \\end{pmatrix} \n",
    "\\end{align}$$"
   ]
  },
  {
   "cell_type": "markdown",
   "id": "6d6603da-2eeb-426e-a1c5-6653cf3498c1",
   "metadata": {},
   "source": [
    "#### 1.4. The vector of upper bounds $u$:\n",
    "Consists of (i) hourly generating capacity constraint $q_{id,h}$ and (ii) hourly load 'capacity' constraints: \n",
    "$$\\begin{align}\n",
    "    u = \\begin{pmatrix} q_{id1,1} \\\\ \\vdots \\\\ q_{idN,H} \\\\ \\text{Load}\\cdot z_1 \\\\ \\vdots \\\\ \\text{Load}\\cdot z_H \\end{pmatrix} \n",
    "\\end{align}$$"
   ]
  },
  {
   "cell_type": "markdown",
   "id": "72750f5e-aa24-4b14-ac5c-dfb36c76a4de",
   "metadata": {},
   "source": [
    "#### 1.5. Constants in equality constraints $b_{eq}$:\n",
    "Consists of zeros for each equilibrium constraint (defined for each $h$):\n",
    "$$\\begin{align}\n",
    "    b_{eq} = \\begin{pmatrix} 0 \\\\ \\vdots \\\\ 0 \\end{pmatrix} \n",
    "\\end{align}$$"
   ]
  },
  {
   "cell_type": "markdown",
   "id": "2477066b-1f9e-499e-b5e6-16a020b3cc3c",
   "metadata": {
    "jp-MarkdownHeadingCollapsed": true,
    "tags": []
   },
   "source": [
    "#### 1.6. Coefficients in equality constraints $A_{eq}$:\n",
    "For each equilibrium constraint (in hour $h$), the matrix $A_{eq}$ consists of a rows of ones for each $id$ in $E_{id,h}$ and $-1$ for the relevant demand variable $D_h$. Thus, the matrix $A_{eq}$ looks something like this:\n",
    "\n",
    "$$\\begin{align}\n",
    "    A_{eq} = \\begin{pmatrix} 1 & \\cdots & 1, & 0 & \\cdots & 0, & 0 & \\cdots & 0, & -1 & \\cdots & 0 \\\\ \n",
    "    \\vdots & \\vdots & \\vdots, & \\vdots & \\vdots & \\vdots, & \\vdots & \\vdots & \\vdots, & \\vdots & \\vdots & \\vdots \\\\\n",
    "                             0 & \\cdots & 0, & 0 & \\cdots & 0, & 1 & \\cdots & 1, & 0 & \\cdots & -1 \n",
    "    \\end{pmatrix} \n",
    "\\end{align}$$\n",
    "Note that each row identifies an *hourly* equilibrium constraint. The last columns indicate the coefficients on demand components $D_h$; this is a diagonal matrix with $-1$. The first many columns indicate coefficients on $E_{id,h}$; these consists of blocks of ones for all $id$'s in the relevant hour, $h$."
   ]
  },
  {
   "cell_type": "markdown",
   "id": "5a76963f-d2ea-4e9b-a5ac-1509aa7980ea",
   "metadata": {
    "tags": []
   },
   "source": [
    "## 2. Initialize and solve model"
   ]
  },
  {
   "cell_type": "markdown",
   "id": "089b730e-410a-43e6-9cba-313042e7a130",
   "metadata": {},
   "source": [
    "The model is initialized with the database as input using: "
   ]
  },
  {
   "cell_type": "code",
   "execution_count": 2,
   "id": "dea1310d-de30-4239-bbcb-3a8bd3b86d35",
   "metadata": {},
   "outputs": [],
   "source": [
    "m = mBasicInt.mSimple(db)"
   ]
  },
  {
   "cell_type": "markdown",
   "id": "427f1398-e30a-4789-8c3f-ffec337d2a67",
   "metadata": {},
   "source": [
    "All models are provided with three main methods: ```self.preSolve```, ```self.initBlocks```, and ```self.postSolve```. The ```preSolve``` and ```postSolve``` methods are used to carry out computations before and after the model is solved, respectively. The ```self.preSolve``` and ```self.postSolve``` are similar to the ones in the [mBasic model](M_mBasic.ipynb). We focus on the ```self.initBlocks``` here. We note that the following statement carries out all three steps:"
   ]
  },
  {
   "cell_type": "code",
   "execution_count": 3,
   "id": "88c1d838-d254-4112-833e-e11dd0179e5e",
   "metadata": {},
   "outputs": [
    {
     "name": "stdout",
     "output_type": "stream",
     "text": [
      "Solution status 0: Optimization terminated successfully. (HiGHS Status 7: Optimal)\n"
     ]
    },
    {
     "name": "stderr",
     "output_type": "stream",
     "text": [
      "C:\\Users\\xnh825\\Anaconda3\\envs\\EEotGT\\lib\\site-packages\\pandas\\core\\algorithms.py:798: FutureWarning: In a future version, the Index constructor will not infer numeric dtypes when passed object-dtype sequences (matching Series behavior)\n",
      "  uniques = Index(uniques)\n",
      "C:\\Users\\xnh825\\Anaconda3\\envs\\EEotGT\\lib\\site-packages\\pandas\\core\\algorithms.py:798: FutureWarning: In a future version, the Index constructor will not infer numeric dtypes when passed object-dtype sequences (matching Series behavior)\n",
      "  uniques = Index(uniques)\n"
     ]
    }
   ],
   "source": [
    "m.solve()"
   ]
  },
  {
   "cell_type": "markdown",
   "id": "46e2d7ff-7077-4ca2-8802-02a8f4bd7e1e",
   "metadata": {},
   "source": [
    "### ```initBlocks:```"
   ]
  },
  {
   "cell_type": "markdown",
   "id": "7e4f9316-87d2-4160-b060-df259ec216ed",
   "metadata": {},
   "source": [
    "The method adds information that translates the model to an augmented form LP problem. We use the ```lpBlock``` class to help us specify these (see [_Class_lpBlock.ipynb](_Class_lpBlock.ipynb) for help on syntax etc.) "
   ]
  },
  {
   "cell_type": "markdown",
   "id": "0ab815b5-49da-4233-8260-b15791d48fd3",
   "metadata": {},
   "source": [
    "#### 2.1. The vector of cost coefficients $c$:"
   ]
  },
  {
   "cell_type": "markdown",
   "id": "284c7a0c-be8a-4fa3-bc44-8c61bcff941c",
   "metadata": {},
   "source": [
    "As outlined earlier, this consists of two components: Marginal costs $mc_{id}$ repeated for all hours $h$ and minus marginal willing to pay (MWP, $-u$) repeated for all hours $h$."
   ]
  },
  {
   "cell_type": "markdown",
   "id": "8d208ec6-8191-4e22-99fb-6eeadd34c3f9",
   "metadata": {},
   "source": [
    "<img src=\"snippets/mBasicInt_snippet.png\" width=\"1000\" height=\"400\">"
   ]
  },
  {
   "cell_type": "markdown",
   "id": "41d0b20b-6aad-4f78-92ab-9fe763ac4a4c",
   "metadata": {},
   "source": [
    "We use the ```broadcast``` method to repeat the marginal cost vector for all hours with the resulting coefficient:"
   ]
  },
  {
   "cell_type": "code",
   "execution_count": 4,
   "id": "5ad0d927-db7c-4d84-88b5-d9fb5fb141c9",
   "metadata": {
    "scrolled": true,
    "tags": []
   },
   "outputs": [
    {
     "data": {
      "text/plain": [
       "id   h\n",
       "id1  1    11.872521\n",
       "     2    11.872521\n",
       "     3    11.872521\n",
       "     4    11.872521\n",
       "id2  1    12.346414\n",
       "     2    12.346414\n",
       "     3    12.346414\n",
       "     4    12.346414\n",
       "id3  1    12.193476\n",
       "     2    12.193476\n",
       "     3    12.193476\n",
       "     4    12.193476\n",
       "id4  1     8.393216\n",
       "     2     8.393216\n",
       "     3     8.393216\n",
       "     4     8.393216\n",
       "id5  1     5.031068\n",
       "     2     5.031068\n",
       "     3     5.031068\n",
       "     4     5.031068\n",
       "id6  1    23.443656\n",
       "     2    23.443656\n",
       "     3    23.443656\n",
       "     4    23.443656\n",
       "id7  1          3.0\n",
       "     2          3.0\n",
       "     3          3.0\n",
       "     4          3.0\n",
       "id8  1          3.0\n",
       "     2          3.0\n",
       "     3          3.0\n",
       "     4          3.0\n",
       "dtype: object"
      ]
     },
     "execution_count": 4,
     "metadata": {},
     "output_type": "execute_result"
    }
   ],
   "source": [
    "lpCompiler.broadcast(m.db['mc'], m.db['h'])"
   ]
  },
  {
   "cell_type": "markdown",
   "id": "7cda2db1-f4e3-4774-8940-ad837bf5df26",
   "metadata": {},
   "source": [
    "For the coefficients on 'HourlyDemand', note that we simply add the scalar parameter ```MWP_LoadShedding```:"
   ]
  },
  {
   "cell_type": "code",
   "execution_count": 5,
   "id": "1f083b08-38eb-4654-8cbe-31020011a9e8",
   "metadata": {},
   "outputs": [
    {
     "data": {
      "text/plain": [
       "25"
      ]
     },
     "execution_count": 5,
     "metadata": {},
     "output_type": "execute_result"
    }
   ],
   "source": [
    "m.db['MWP_LoadShedding']"
   ]
  },
  {
   "cell_type": "markdown",
   "id": "bf1dd3ba-5648-4075-a363-49a6de0e0c28",
   "metadata": {},
   "source": [
    "Recall, though, that we needed to repeat this for all hours. The way we remedy this, is to specify the ```self.globalDomains``` for the model:"
   ]
  },
  {
   "cell_type": "markdown",
   "id": "04cdebaa-9ccb-4fd5-b8c9-e2429caec87f",
   "metadata": {},
   "source": [
    "<img src=\"snippets/mBasicInt_globalDomains.png\" width=\"800\" height=\"400\">"
   ]
  },
  {
   "cell_type": "markdown",
   "id": "77615d09-2baa-4f3c-ba6c-abb96bb6bc6d",
   "metadata": {},
   "source": [
    "When we specify a parameter as ```None``` or as a scalar, the program will automatically check for ```self.globalDomains```; we have specified the global domains for ```HourlyDemand```, the scalar parameter will be broadcasted to this domain. In other words, the following will be added to the model:"
   ]
  },
  {
   "cell_type": "code",
   "execution_count": 6,
   "id": "23f44114-c4e8-40f1-b196-96902f84bc8a",
   "metadata": {},
   "outputs": [
    {
     "data": {
      "text/plain": [
       "h\n",
       "1   -25\n",
       "2   -25\n",
       "3   -25\n",
       "4   -25\n",
       "dtype: int64"
      ]
     },
     "execution_count": 6,
     "metadata": {},
     "output_type": "execute_result"
    }
   ],
   "source": [
    "lpCompiler.broadcast(-m.db['MWP_LoadShedding'], m.db['h'])"
   ]
  },
  {
   "cell_type": "markdown",
   "id": "018980ac-25ed-41d4-9d33-ed38b05fa1e1",
   "metadata": {
    "tags": []
   },
   "source": [
    "#### 2.2. The vector of upper bounds $u$:"
   ]
  },
  {
   "cell_type": "markdown",
   "id": "a92fa7a2-e72a-46d1-a740-47fdd08ecddc",
   "metadata": {},
   "source": [
    "The upper bounds consists of hourly generation and demand constraints:"
   ]
  },
  {
   "cell_type": "markdown",
   "id": "33cdfe96-d2b2-4483-b6e8-15c234542501",
   "metadata": {},
   "source": [
    "<img src=\"snippets/mBasicInt_snippet2.png\" width=\"1000\" height=\"400\">"
   ]
  },
  {
   "cell_type": "markdown",
   "id": "4ead5889-fcaf-4135-9a6f-0c65a27096df",
   "metadata": {},
   "source": [
    "The two methods ```self.hourlyGeneratingCapacity``` and ```self.hourlyLoad``` are specified elsewhere in the class and returns the symbols:"
   ]
  },
  {
   "cell_type": "markdown",
   "id": "a7e4d349-8939-4597-b8f6-30e9b1ab6ebe",
   "metadata": {},
   "source": [
    "*Generating capacity:*"
   ]
  },
  {
   "cell_type": "code",
   "execution_count": 7,
   "id": "cd3bdadd-b237-477c-bb74-83bf0c8c362c",
   "metadata": {
    "scrolled": true,
    "tags": []
   },
   "outputs": [
    {
     "data": {
      "text/plain": [
       "id   h\n",
       "id8  1       0\n",
       "     2     5.0\n",
       "     3      10\n",
       "     4     1.0\n",
       "id1  1      10\n",
       "     2      10\n",
       "     3      10\n",
       "     4      10\n",
       "id2  1      15\n",
       "     2      15\n",
       "     3      15\n",
       "     4      15\n",
       "id3  1      10\n",
       "     2      10\n",
       "     3      10\n",
       "     4      10\n",
       "id4  1      30\n",
       "     2      30\n",
       "     3      30\n",
       "     4      30\n",
       "id5  1       5\n",
       "     2       5\n",
       "     3       5\n",
       "     4       5\n",
       "id6  1       8\n",
       "     2       8\n",
       "     3       8\n",
       "     4       8\n",
       "id7  1      35\n",
       "     2    17.5\n",
       "     3    8.75\n",
       "     4    28.0\n",
       "dtype: object"
      ]
     },
     "execution_count": 7,
     "metadata": {},
     "output_type": "execute_result"
    }
   ],
   "source": [
    "m.hourlyGeneratingCapacity"
   ]
  },
  {
   "cell_type": "markdown",
   "id": "f6bbad63-c743-4603-a2db-6a6fea38cafd",
   "metadata": {},
   "source": [
    "*Hourly load constraint:*"
   ]
  },
  {
   "cell_type": "code",
   "execution_count": 8,
   "id": "fd577ad9-dc4e-41b6-b159-ae57391fc910",
   "metadata": {
    "scrolled": true,
    "tags": []
   },
   "outputs": [
    {
     "data": {
      "text/plain": [
       "h\n",
       "1    10.0\n",
       "2    30.0\n",
       "3    50.0\n",
       "4    10.0\n",
       "dtype: object"
      ]
     },
     "execution_count": 8,
     "metadata": {},
     "output_type": "execute_result"
    }
   ],
   "source": [
    "m.hourlyLoad"
   ]
  },
  {
   "cell_type": "markdown",
   "id": "58bed710-5028-4691-9b7c-e33a9a633a4c",
   "metadata": {
    "tags": []
   },
   "source": [
    "#### 2.3. Constants in equality constraints $b_{eq}$:\n",
    "Consists of zeros for each equilibrium constraint (defined for each $h$)"
   ]
  },
  {
   "cell_type": "markdown",
   "id": "2c74e7a3-088f-4e97-9896-77a885de66b9",
   "metadata": {},
   "source": [
    "<img src=\"snippets/mBasicInt_snippet3.png\" width=\"1000\" height=\"400\">"
   ]
  },
  {
   "cell_type": "markdown",
   "id": "bd15e61c-0a2c-4861-bd6b-7b58028ac8c0",
   "metadata": {},
   "source": [
    "Note that we use the same trick here as we did with the $c$ coefficient: In ```self.globalDomains``` we have specified that the ```equilibrium``` constraint is defined over the set ```h_alias``` which is an alias of $h$ (a copy with a separate identifier). Thus, when we add a parameter with ```None``` as here, we automatically broadcast this as a vector of zeros."
   ]
  },
  {
   "cell_type": "markdown",
   "id": "e493ca18-1c02-4baf-b0d4-4dfab4b5b907",
   "metadata": {
    "tags": []
   },
   "source": [
    "#### 2.4. Coefficients in equality constraints $A_{eq}$:"
   ]
  },
  {
   "cell_type": "markdown",
   "id": "b25ef637-342d-4e59-bda0-aad244e2ba7f",
   "metadata": {
    "tags": []
   },
   "source": [
    "As shown in the previous section, the matrix consists of blocks of ones and zeros for the appropriate $E_{id,h}$ and a diagonal matrix of $-1$ for the $D_h$:"
   ]
  },
  {
   "cell_type": "markdown",
   "id": "663fe69a-eced-4319-a0a7-e4aa05b5568a",
   "metadata": {},
   "source": [
    "<img src=\"snippets/mBasicInt_snippet4.png\" width=\"1200\" height=\"400\">"
   ]
  },
  {
   "cell_type": "markdown",
   "id": "69ce35a2-d919-4e78-9564-4040aac4fa0a",
   "metadata": {},
   "source": [
    "Note that the parameter on ```Generation``` is defined as in the ```globalDomains```, but with an added index level called ```h_alias```. The resulting variable is:"
   ]
  },
  {
   "cell_type": "code",
   "execution_count": 9,
   "id": "3be312c8-102d-4450-b763-33fe1be125aa",
   "metadata": {
    "scrolled": true,
    "tags": []
   },
   "outputs": [
    {
     "data": {
      "text/plain": [
       "h  id   h_alias\n",
       "1  id1  1          1\n",
       "   id2  1          1\n",
       "   id3  1          1\n",
       "   id4  1          1\n",
       "   id5  1          1\n",
       "   id6  1          1\n",
       "   id7  1          1\n",
       "   id8  1          1\n",
       "2  id1  2          1\n",
       "   id2  2          1\n",
       "   id3  2          1\n",
       "   id4  2          1\n",
       "   id5  2          1\n",
       "   id6  2          1\n",
       "   id7  2          1\n",
       "   id8  2          1\n",
       "3  id1  3          1\n",
       "   id2  3          1\n",
       "   id3  3          1\n",
       "   id4  3          1\n",
       "   id5  3          1\n",
       "   id6  3          1\n",
       "   id7  3          1\n",
       "   id8  3          1\n",
       "4  id1  4          1\n",
       "   id2  4          1\n",
       "   id3  4          1\n",
       "   id4  4          1\n",
       "   id5  4          1\n",
       "   id6  4          1\n",
       "   id7  4          1\n",
       "   id8  4          1\n",
       "dtype: int64"
      ]
     },
     "execution_count": 9,
     "metadata": {},
     "output_type": "execute_result"
    }
   ],
   "source": [
    "lpModels.appIndexWithCopySeries(pd.Series(1, index = m.globalDomains['Generation']), 'h', 'h_alias')"
   ]
  },
  {
   "cell_type": "markdown",
   "id": "23a095c6-f32b-46f4-97a4-bd4e7a5a5282",
   "metadata": {},
   "source": [
    "The method ```appIndexWithCopySeries``` copies the index ```h``` with the alias ```h_alias```. Recall that the ```self.globalDomains``` defines the equilibrium constraint over ```h_alias```:"
   ]
  },
  {
   "cell_type": "markdown",
   "id": "fbd3f140-9baa-402c-96b4-e376d9edef48",
   "metadata": {},
   "source": [
    "<img src=\"snippets/mBasicInt_globalDomains.png\" width=\"800\" height=\"400\">"
   ]
  },
  {
   "cell_type": "markdown",
   "id": "8be52755-cf76-4d45-a7c0-95de4b320872",
   "metadata": {},
   "source": [
    "Thus, the matrix $A$ above adds $1$'s defined for all  ```h=h_alias```. Note that we do not have to specify all the combinations where the coefficients are zero (when ```h```$\\neq$```h_alias```). A similar logic applies to the coefficient on ```HourlyDemand```: The parameter we add is $-1$ for all the combinations where ```h=h_alias```."
   ]
  },
  {
   "cell_type": "code",
   "execution_count": 10,
   "id": "8932bf36-94e8-464b-911a-5f169df2dbe1",
   "metadata": {
    "scrolled": true,
    "tags": []
   },
   "outputs": [
    {
     "data": {
      "text/plain": [
       "h  h_alias\n",
       "1  1         -1\n",
       "2  2         -1\n",
       "3  3         -1\n",
       "4  4         -1\n",
       "dtype: int64"
      ]
     },
     "execution_count": 10,
     "metadata": {},
     "output_type": "execute_result"
    }
   ],
   "source": [
    "lpModels.appIndexWithCopySeries(pd.Series(-1, index = m.globalDomains['HourlyDemand']), 'h', 'h_alias')"
   ]
  },
  {
   "cell_type": "markdown",
   "id": "85de0097-3d40-4e39-a60b-a006277cd224",
   "metadata": {},
   "source": [
    "You can confirm that the final compiled model looks as we discussed in the previous section by printing:"
   ]
  },
  {
   "cell_type": "code",
   "execution_count": 11,
   "id": "675273f0-8291-440a-a535-c2a789afc01b",
   "metadata": {},
   "outputs": [
    {
     "data": {
      "text/plain": [
       "array([[ 1.,  1.,  1.,  1.,  1.,  1.,  1.,  1.,  0.,  0.,  0.,  0.,  0.,\n",
       "         0.,  0.,  0.,  0.,  0.,  0.,  0.,  0.,  0.,  0.,  0.,  0.,  0.,\n",
       "         0.,  0.,  0.,  0.,  0.,  0., -1.,  0.,  0.,  0.],\n",
       "       [ 0.,  0.,  0.,  0.,  0.,  0.,  0.,  0.,  1.,  1.,  1.,  1.,  1.,\n",
       "         1.,  1.,  1.,  0.,  0.,  0.,  0.,  0.,  0.,  0.,  0.,  0.,  0.,\n",
       "         0.,  0.,  0.,  0.,  0.,  0.,  0., -1.,  0.,  0.],\n",
       "       [ 0.,  0.,  0.,  0.,  0.,  0.,  0.,  0.,  0.,  0.,  0.,  0.,  0.,\n",
       "         0.,  0.,  0.,  1.,  1.,  1.,  1.,  1.,  1.,  1.,  1.,  0.,  0.,\n",
       "         0.,  0.,  0.,  0.,  0.,  0.,  0.,  0., -1.,  0.],\n",
       "       [ 0.,  0.,  0.,  0.,  0.,  0.,  0.,  0.,  0.,  0.,  0.,  0.,  0.,\n",
       "         0.,  0.,  0.,  0.,  0.,  0.,  0.,  0.,  0.,  0.,  0.,  1.,  1.,\n",
       "         1.,  1.,  1.,  1.,  1.,  1.,  0.,  0.,  0., -1.]])"
      ]
     },
     "execution_count": 11,
     "metadata": {},
     "output_type": "execute_result"
    }
   ],
   "source": [
    "m.blocks.lp_A_eq"
   ]
  },
  {
   "cell_type": "code",
   "execution_count": null,
   "id": "722637db-6b62-44db-99f4-583459dd6da3",
   "metadata": {},
   "outputs": [],
   "source": []
  }
 ],
 "metadata": {
  "kernelspec": {
   "display_name": "Python 3 (ipykernel)",
   "language": "python",
   "name": "python3"
  },
  "language_info": {
   "codemirror_mode": {
    "name": "ipython",
    "version": 3
   },
   "file_extension": ".py",
   "mimetype": "text/x-python",
   "name": "python",
   "nbconvert_exporter": "python",
   "pygments_lexer": "ipython3",
   "version": "3.9.13"
  }
 },
 "nbformat": 4,
 "nbformat_minor": 5
}
