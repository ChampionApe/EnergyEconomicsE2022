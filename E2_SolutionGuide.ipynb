{
 "cells": [
  {
   "cell_type": "markdown",
   "id": "82db4bda-a58b-40e1-b2a0-e37ebd0cf7ce",
   "metadata": {},
   "source": [
    "*Load packages and data:*"
   ]
  },
  {
   "cell_type": "code",
   "execution_count": 1,
   "id": "8936c7d7-1e5b-4902-ac5b-f6505ad17b6f",
   "metadata": {},
   "outputs": [],
   "source": [
    "%run stdPackages.ipynb\n",
    "read = {'variables': ['Fundamentals', 'Load', 'Generators_Other'], \n",
    "        'variable2D': ['Generators_FuelMix','HourlyVariation'],\n",
    "        'scalars': ['MWP'],\n",
    "        'maps': ['Generators_Categories']}\n",
    "db = dbFromWB(os.path.join(d['data'],'E2.xlsx'), read)\n",
    "readSets(db)"
   ]
  },
  {
   "cell_type": "markdown",
   "id": "f9c66e20-0a84-4bc3-89e4-d41bee52cb53",
   "metadata": {
    "tags": []
   },
   "source": [
    "# Exercise 2: Capacity factors"
   ]
  },
  {
   "cell_type": "markdown",
   "id": "82aa2c7d-aad5-456d-b1fd-38068b86a801",
   "metadata": {},
   "source": [
    "*NB: add an example of assiging new values to existing symbols*"
   ]
  },
  {
   "cell_type": "code",
   "execution_count": 9,
   "id": "2f5ded55-acdf-4963-9fb3-313ef732ccbe",
   "metadata": {},
   "outputs": [],
   "source": [
    "# this changes the parameter for the natural gas plant to 10 \n",
    "db['OtherMC'].loc['id3'] = 10"
   ]
  },
  {
   "cell_type": "markdown",
   "id": "f7e6a019-ef1a-4c84-b9ac-dcc8c7fb2d2a",
   "metadata": {
    "tags": []
   },
   "source": [
    "### Problem 1: Utilization of generation capacities"
   ]
  },
  {
   "cell_type": "markdown",
   "id": "f1767346-6575-4e46-97c8-df60b0c343f9",
   "metadata": {},
   "source": [
    "First, we set up and solve the model using the 'usual' syntax:"
   ]
  },
  {
   "cell_type": "code",
   "execution_count": 2,
   "id": "b914e3ec-a5c5-4261-b3cf-a8bf65e207b2",
   "metadata": {},
   "outputs": [
    {
     "name": "stdout",
     "output_type": "stream",
     "text": [
      "Solution status 0: Optimization terminated successfully.\n"
     ]
    }
   ],
   "source": [
    "m = mBasicInt.mSimple(db) # initialize using the database 'db' from above.\n",
    "m.solve() # solve model"
   ]
  },
  {
   "cell_type": "markdown",
   "id": "dd136ac8-1dbb-4db3-8ba9-e9d6804f0d6f",
   "metadata": {},
   "source": [
    "Next, compute the theoretical and practical generating capacity:"
   ]
  },
  {
   "cell_type": "code",
   "execution_count": 3,
   "id": "f983762d-0be8-40db-b74e-77bdde9f0185",
   "metadata": {},
   "outputs": [],
   "source": [
    "qDay_T = m.db['GeneratingCapacity'] * len(m.db['h']) # daily, theoretical capacity\n",
    "qDay_P = m.hourlyGeneratingCapacity.groupby('id').sum() # daily, practical capacity"
   ]
  },
  {
   "cell_type": "markdown",
   "id": "59140e2c-43e5-43eb-bf2d-e43dbadb548b",
   "metadata": {},
   "source": [
    "Define the daily generation by summing over $h$ (or ```groupby``` ```id``` in pandas):"
   ]
  },
  {
   "cell_type": "code",
   "execution_count": 4,
   "id": "bd4ba4ba-453d-4c82-8f59-f5c25ef3c891",
   "metadata": {},
   "outputs": [],
   "source": [
    "dailyGeneration = m.db['Generation'].groupby('id').sum()"
   ]
  },
  {
   "cell_type": "markdown",
   "id": "795b67a2-20af-4d34-8d1b-d2e97da4cd30",
   "metadata": {},
   "source": [
    "Now, we can compute capacity factors:"
   ]
  },
  {
   "cell_type": "code",
   "execution_count": 5,
   "id": "2239a658-df3a-4ca7-9021-c8051769fcc1",
   "metadata": {},
   "outputs": [],
   "source": [
    "TCF = dailyGeneration/qDay_T\n",
    "PCF = dailyGeneration/qDay_P"
   ]
  },
  {
   "cell_type": "code",
   "execution_count": 6,
   "id": "9487da8b-6d8d-4aca-b328-51a5cd204add",
   "metadata": {},
   "outputs": [
    {
     "data": {
      "text/html": [
       "<div>\n",
       "<style scoped>\n",
       "    .dataframe tbody tr th:only-of-type {\n",
       "        vertical-align: middle;\n",
       "    }\n",
       "\n",
       "    .dataframe tbody tr th {\n",
       "        vertical-align: top;\n",
       "    }\n",
       "\n",
       "    .dataframe thead th {\n",
       "        text-align: right;\n",
       "    }\n",
       "</style>\n",
       "<table border=\"1\" class=\"dataframe\">\n",
       "  <thead>\n",
       "    <tr style=\"text-align: right;\">\n",
       "      <th></th>\n",
       "      <th>TCF</th>\n",
       "      <th>PCF</th>\n",
       "      <th>MC</th>\n",
       "    </tr>\n",
       "    <tr>\n",
       "      <th>id</th>\n",
       "      <th></th>\n",
       "      <th></th>\n",
       "      <th></th>\n",
       "    </tr>\n",
       "  </thead>\n",
       "  <tbody>\n",
       "    <tr>\n",
       "      <th>id4</th>\n",
       "      <td>0.6375</td>\n",
       "      <td>1.0</td>\n",
       "      <td>3.0</td>\n",
       "    </tr>\n",
       "    <tr>\n",
       "      <th>id1</th>\n",
       "      <td>0.585</td>\n",
       "      <td>0.585</td>\n",
       "      <td>6.189324</td>\n",
       "    </tr>\n",
       "    <tr>\n",
       "      <th>id2</th>\n",
       "      <td>0.5</td>\n",
       "      <td>0.5</td>\n",
       "      <td>9.560114</td>\n",
       "    </tr>\n",
       "    <tr>\n",
       "      <th>id3</th>\n",
       "      <td>0.34375</td>\n",
       "      <td>0.34375</td>\n",
       "      <td>15.402685</td>\n",
       "    </tr>\n",
       "  </tbody>\n",
       "</table>\n",
       "</div>"
      ],
      "text/plain": [
       "         TCF      PCF         MC\n",
       "id                              \n",
       "id4   0.6375      1.0        3.0\n",
       "id1    0.585    0.585   6.189324\n",
       "id2      0.5      0.5   9.560114\n",
       "id3  0.34375  0.34375  15.402685"
      ]
     },
     "execution_count": 6,
     "metadata": {},
     "output_type": "execute_result"
    }
   ],
   "source": [
    "df = pd.DataFrame({'TCF': TCF, 'PCF': PCF, 'MC': m.db['mc']}).sort_values(by='MC')\n",
    "df"
   ]
  },
  {
   "cell_type": "markdown",
   "id": "3c66957e-9d9b-4df1-aac9-7e6ce6727b67",
   "metadata": {},
   "source": [
    "Inspecting the two, we see that for *dispatchable plants* (id1-id3), the TCF is equal the PCF per construction. For the wind turbine, however, we have that $PCF\\geq TCF$ by construction. More specifically, we note the following:\n",
    "* *All three dispatchable plants have a TCF<1*: As we can see from inspecting the merit order curves below, the three dispathable plants are all active in hours $2, 3$, but only the coal plant (id1) is active in hours $1, 4$.\n",
    "* *Wind turbine PCF and TCF*: The TCF is $0.6375$ for the wind turbine. Note, however, that this is only due to variation in natural conditions: The wind turbine produces at much as it can for each hour (see the merit order curves). This is confirmed by the PCF that is exactly $1$."
   ]
  },
  {
   "cell_type": "markdown",
   "id": "556561e8-4c89-424c-a055-8db6d7924556",
   "metadata": {},
   "source": [
    "*EXTRA: This plots the relation between the three variables with marginal costs plotted against a second y-axis:*"
   ]
  },
  {
   "cell_type": "code",
   "execution_count": 7,
   "id": "28315617-c829-4107-9827-6674e6d9c329",
   "metadata": {},
   "outputs": [
    {
     "data": {
      "image/png": "[encoded data removed]",
      "text/plain": [
       "<Figure size 432x288 with 2 Axes>"
      ]
     },
     "metadata": {},
     "output_type": "display_data"
    }
   ],
   "source": [
    "fig, ax1 = plt.subplots(1,1,figsize = (6,4)) # create plot, specify number of subplots and size \n",
    "ax2 = ax1.twinx() # create a second y-axis\n",
    "df[['TCF','PCF']].plot.bar(ax=ax1, legend=False, linewidth=0) # plot the TCF and PCF in as bars on the first axis. Remove lines and legends.\n",
    "ax1.set_yticks(np.linspace(0, 1, 5)) # Set ticks in specific places.\n",
    "ax1.set_ylim([0, 1]); # specify scale on y-axis.\n",
    "ax1.set_ylabel('$CF_{id}$', labelpad=10); \n",
    "ax1.set_xlabel('Plant type', labelpad=10);\n",
    "\n",
    "df['MC'].plot(ax=ax2, legend=False, linewidth=3, color = colors[2]); # plot the MC on the second axis. Remove legend and set color.\n",
    "ax2.set_yticks(np.linspace(0, 16, 5)) # Set ticks in specific places.\n",
    "ax2.set_ylim([0, 16]); # Set limit to y axis\n",
    "ax2.set_ylabel('$MC_{id}$', labelpad=10); \n",
    "ax2.grid(None); # remove grid-lines; we have made sure that gridlines coincide with the grid from ax1.\n",
    "\n",
    "fig.legend(['TCF', 'PCF', 'MC'],loc=9,ncol=3,frameon=True) # create legend and place outside the box.\n",
    "fig.tight_layout();\n",
    "fig.subplots_adjust(top=0.9); # adjust the plot downwards to allow for room for the legend to be plotted outside the figure"
   ]
  },
  {
   "cell_type": "markdown",
   "id": "872ba6a7-b1ed-4c30-bea0-0a02c761ba1d",
   "metadata": {
    "tags": []
   },
   "source": [
    "### Problem 2: Average costs of capacity and average costs of energy"
   ]
  },
  {
   "cell_type": "markdown",
   "id": "bba5db9d-971c-4ce3-8d61-8ec41e8ddbef",
   "metadata": {},
   "source": [
    "Let's start by setting up the total costs (TC) of a plant. These are given by:\n",
    "$$\\begin{align}\n",
    "    TC_{id} = \\text{FOM}_{id}\\cdot \\text{GeneratingCapacity}_{id}\\cdot \\dfrac{4}{8760} + \\text{mc}_{id}\\cdot \\sum_h E_{i,h} / 1000.\n",
    "\\end{align}$$\n",
    "* We adjust the fixed costs by $4/8760$ as the current model only uses 4 hours and $FOM$ is a measure of costs for 8760 hours (a year). \n",
    "* We divide the generating costs (second term) by 1000 to take into account that fixed costs are naturally measured in \"1000€\" whereas variable, generation costs are measured in \"€\".\n",
    "\n",
    "$TC_{id}$ is thus the plants total costs measured in 1000€."
   ]
  },
  {
   "cell_type": "code",
   "execution_count": 8,
   "id": "2fcd7bb6-1fb9-48dd-99e2-4ad4012f906d",
   "metadata": {},
   "outputs": [
    {
     "data": {
      "text/plain": [
       "id\n",
       "id1    0.920752\n",
       "id2    0.685098\n",
       "id3      1.4899\n",
       "id4    0.489719\n",
       "dtype: object"
      ]
     },
     "execution_count": 8,
     "metadata": {},
     "output_type": "execute_result"
    }
   ],
   "source": [
    "TC = m.db['FOM'] * m.db['GeneratingCapacity'] * len(m.db['h'])/8760 + m.db['mc'] * pdSum(m.db['Generation'], 'h') / 1000 \n",
    "TC"
   ]
  },
  {
   "cell_type": "markdown",
   "id": "ec0e0ba4-9891-4a33-8e79-fbe63d506b85",
   "metadata": {},
   "source": [
    "With this in mind, we define the average capacity costs and average energy costs by dividing by the appropriate variables (here we multiply by 1000 again to measure it in € instead):"
   ]
  },
  {
   "cell_type": "code",
   "execution_count": 9,
   "id": "16dfecc6-e7cb-4e67-b0bb-a5ded9b80e84",
   "metadata": {},
   "outputs": [
    {
     "data": {
      "text/html": [
       "<div>\n",
       "<style scoped>\n",
       "    .dataframe tbody tr th:only-of-type {\n",
       "        vertical-align: middle;\n",
       "    }\n",
       "\n",
       "    .dataframe tbody tr th {\n",
       "        vertical-align: top;\n",
       "    }\n",
       "\n",
       "    .dataframe thead th {\n",
       "        text-align: right;\n",
       "    }\n",
       "</style>\n",
       "<table border=\"1\" class=\"dataframe\">\n",
       "  <thead>\n",
       "    <tr style=\"text-align: right;\">\n",
       "      <th></th>\n",
       "      <th>ACC</th>\n",
       "      <th>AEC</th>\n",
       "      <th>MC</th>\n",
       "    </tr>\n",
       "    <tr>\n",
       "      <th>id</th>\n",
       "      <th></th>\n",
       "      <th></th>\n",
       "      <th></th>\n",
       "    </tr>\n",
       "  </thead>\n",
       "  <tbody>\n",
       "    <tr>\n",
       "      <th>id4</th>\n",
       "      <td>13.991958</td>\n",
       "      <td>5.487043</td>\n",
       "      <td>3.0</td>\n",
       "    </tr>\n",
       "    <tr>\n",
       "      <th>id1</th>\n",
       "      <td>18.415032</td>\n",
       "      <td>7.869672</td>\n",
       "      <td>6.189324</td>\n",
       "    </tr>\n",
       "    <tr>\n",
       "      <th>id2</th>\n",
       "      <td>22.836616</td>\n",
       "      <td>11.418308</td>\n",
       "      <td>9.560114</td>\n",
       "    </tr>\n",
       "    <tr>\n",
       "      <th>id3</th>\n",
       "      <td>24.831659</td>\n",
       "      <td>18.059389</td>\n",
       "      <td>15.402685</td>\n",
       "    </tr>\n",
       "  </tbody>\n",
       "</table>\n",
       "</div>"
      ],
      "text/plain": [
       "           ACC        AEC         MC\n",
       "id                                  \n",
       "id4  13.991958   5.487043        3.0\n",
       "id1  18.415032   7.869672   6.189324\n",
       "id2  22.836616  11.418308   9.560114\n",
       "id3  24.831659  18.059389  15.402685"
      ]
     },
     "execution_count": 9,
     "metadata": {},
     "output_type": "execute_result"
    }
   ],
   "source": [
    "DF = pd.DataFrame(dict(ACC = 1000 * TC / m.db['GeneratingCapacity'], \n",
    "                       AEC = 1000 * TC / pdSum(m.db['Generation'], 'h'),\n",
    "                       MC  = m.db['mc']\n",
    "                      )).sort_values(by='MC')\n",
    "DF"
   ]
  },
  {
   "cell_type": "markdown",
   "id": "634d64bc-6366-4c2e-919d-a96fdca40c4c",
   "metadata": {},
   "source": [
    "We can also plot it directly using pandas feature:"
   ]
  },
  {
   "cell_type": "code",
   "execution_count": 10,
   "id": "4c308dd5-2aea-4198-ba6e-70906abdc2a8",
   "metadata": {},
   "outputs": [
    {
     "data": {
      "image/png": "[encoded data removed]",
      "text/plain": [
       "<Figure size 576x396 with 1 Axes>"
      ]
     },
     "metadata": {},
     "output_type": "display_data"
    }
   ],
   "source": [
    "DF.plot.bar();"
   ]
  },
  {
   "cell_type": "markdown",
   "id": "6a54af0c-0988-4bed-9d38-02da5992c089",
   "metadata": {},
   "source": [
    "Comments on the solution:\n",
    "* The three variables follows the same ordering: wind (id4), coal (id1), gas (id2), bio (id3). This suggests that wind is generally the most cost-effective technology available.\n",
    "* The fixed costs are very similar for id2-id4 and somewhat higher for the wind plant (id4).\n",
    "* Recall that we have not yet included investment costs in this comparison."
   ]
  },
  {
   "cell_type": "markdown",
   "id": "4edf9eaa-2fd0-44e9-b101-3d39cc28f9b6",
   "metadata": {
    "tags": []
   },
   "source": [
    "### Problem 3: Economic value of capacity"
   ]
  },
  {
   "cell_type": "markdown",
   "id": "fc000e9f-46db-40c9-b7b1-68ee3d988efb",
   "metadata": {},
   "source": [
    "#### 3.1. *Compute the weighted average marginal system costs across the $h$ hours (use 'HourlyDemand' as weights)*\n"
   ]
  },
  {
   "cell_type": "markdown",
   "id": "1225a9fe-a35c-4e3c-bb65-78ddff3fbfe6",
   "metadata": {},
   "source": [
    "Get marginal system costs $(\\lambda)$ and hourly consumption levels $(d)$:"
   ]
  },
  {
   "cell_type": "code",
   "execution_count": 11,
   "id": "a955a47d-c12a-4ff5-98b0-533fbfe05a39",
   "metadata": {},
   "outputs": [],
   "source": [
    "λ = mBasicInt.marginalSystemCosts(m.db)\n",
    "d = m.db['HourlyDemand']"
   ]
  },
  {
   "cell_type": "markdown",
   "id": "7a7ce6a4-4cae-4da1-afd1-182dfa650c5b",
   "metadata": {},
   "source": [
    "The weighted average is defined as *(the function ```pdSum(x,i)``` sums the variable ```x``` over the index ```i``` when $x$ is a ```pd.Series``` or ```pd.DataFrame```)*:"
   ]
  },
  {
   "cell_type": "code",
   "execution_count": 12,
   "id": "efd6c80a-41a9-4494-b817-0b5790da7ccf",
   "metadata": {},
   "outputs": [
    {
     "data": {
      "text/plain": [
       "17.382704133107744"
      ]
     },
     "execution_count": 12,
     "metadata": {},
     "output_type": "execute_result"
    }
   ],
   "source": [
    "λ_average = pdSum( d * λ / pdSum(d, 'h'), 'h')\n",
    "λ_average"
   ]
  },
  {
   "cell_type": "markdown",
   "id": "e155fb58-06d9-4e61-b051-f3c7f10e4eb9",
   "metadata": {},
   "source": [
    "#### 3.2. *Define and compute the weighted average marginal system costs for all ids*"
   ]
  },
  {
   "cell_type": "markdown",
   "id": "98b24a37-6294-4b07-8e79-d83d8cb2231e",
   "metadata": {},
   "source": [
    "The weighted average marginal system costs for ids is defined as above, but using ```Generation``` as weights:"
   ]
  },
  {
   "cell_type": "code",
   "execution_count": 13,
   "id": "6a78c2f1-7792-40c5-801c-3847d8d38cfa",
   "metadata": {},
   "outputs": [
    {
     "data": {
      "text/plain": [
       "id\n",
       "id1    18.165408\n",
       "id2    20.201342\n",
       "id3    22.382550\n",
       "id4     9.840049\n",
       "dtype: float64"
      ]
     },
     "execution_count": 13,
     "metadata": {},
     "output_type": "execute_result"
    }
   ],
   "source": [
    "w = m.db['Generation']\n",
    "λ_ids = pdSum( w * λ / pdSum(w, 'h'), 'h')\n",
    "λ_ids"
   ]
  },
  {
   "cell_type": "markdown",
   "id": "de6ec8fa-2ad7-4af5-848d-61049aeaf6a9",
   "metadata": {},
   "source": [
    "#### 3.3. *Compute the marginal economic value of generating capacity for all plants.*"
   ]
  },
  {
   "cell_type": "markdown",
   "id": "d013fb69-b963-4d95-8e4a-9346202ddd00",
   "metadata": {},
   "source": [
    "From the note \"*Models for Energy Economics*\" we know that the marginal economic value of generating capacity can be defined as:\n",
    "$$\\begin{align}\n",
    "    \\dfrac{\\partial \\mathcal{L}}{\\partial q_i} = \\sum_h \\overline{\\vartheta}_{i,h} \\gamma_{i,h},\n",
    "\\end{align}$$\n",
    "where $\\mathcal{L}$ is the Lagrangian, $q_i$ is generating capacity, $\\overline{\\vartheta}_{i,h}$ is the shadow value on the generating capacity constraint, and $\\gamma_{i,h}$ is the hourly variation in generating capacity."
   ]
  },
  {
   "cell_type": "markdown",
   "id": "0d3c4352-7c6d-4351-b3ee-04316aefd79b",
   "metadata": {},
   "source": [
    "Recall that the objective in the note is to maximize a welfare function with Lagrangian $\\mathcal{L}$. The augmented linear programming format, however, requires us to specify the problem as a minimization problem; thus, we need to look at the negative value of the shadow value on the generation constraint to get $\\overline{\\vartheta}$:"
   ]
  },
  {
   "cell_type": "code",
   "execution_count": 14,
   "id": "9ff1a04d-3cc9-451e-915d-ffaec7a87819",
   "metadata": {},
   "outputs": [],
   "source": [
    "ϑ_upper = - m.db['λ_Generation'].xs('u',level='_type') # this looks in the database 'm.db'"
   ]
  },
  {
   "cell_type": "markdown",
   "id": "9caadc6b-ece5-45d6-b2bf-abe559bdbd5f",
   "metadata": {},
   "source": [
    "The hourly variation $\\gamma$ can be accessed by:"
   ]
  },
  {
   "cell_type": "code",
   "execution_count": 15,
   "id": "9e75c4cb-c68c-4cea-a01f-be573e686519",
   "metadata": {},
   "outputs": [],
   "source": [
    "γ = m.hourlyCapFactors"
   ]
  },
  {
   "cell_type": "markdown",
   "id": "090b8495-2cda-401b-ba72-4f7779b45a6f",
   "metadata": {},
   "source": [
    "The marginal economic value can then be found by:"
   ]
  },
  {
   "cell_type": "code",
   "execution_count": 16,
   "id": "6376c7a4-53d1-4167-bf23-fa8a42d27be2",
   "metadata": {},
   "outputs": [
    {
     "data": {
      "text/plain": [
       "id\n",
       "id1    28.024037\n",
       "id2    21.282456\n",
       "id3     9.597315\n",
       "id4    17.442125\n",
       "dtype: object"
      ]
     },
     "execution_count": 16,
     "metadata": {},
     "output_type": "execute_result"
    }
   ],
   "source": [
    "marginalEconomicValue = pdSum(θ_upper * γ, 'h')\n",
    "marginalEconomicValue"
   ]
  },
  {
   "cell_type": "markdown",
   "id": "3834c9c7-fcf1-4717-8205-ebcb2f917176",
   "metadata": {},
   "source": [
    "Note: This is automically added to the database as well when the model is solved; thus, it can also simply be accessed from:"
   ]
  },
  {
   "cell_type": "code",
   "execution_count": 17,
   "id": "cb3526e7-c41d-4e29-acb9-ebd40728d2db",
   "metadata": {},
   "outputs": [
    {
     "data": {
      "text/plain": [
       "id\n",
       "id1    24.092022\n",
       "id2    17.566069\n",
       "id3     5.944347\n",
       "id4    11.100167\n",
       "dtype: object"
      ]
     },
     "execution_count": 17,
     "metadata": {},
     "output_type": "execute_result"
    }
   ],
   "source": [
    "m.db['marginalEconomicValue']"
   ]
  },
  {
   "cell_type": "markdown",
   "id": "5ed6aa1a-283e-45e9-afa4-06a9af3ff1e0",
   "metadata": {},
   "source": [
    "#### 3.4. *Comment on the results; relate to results in problems 1-2.*"
   ]
  },
  {
   "cell_type": "markdown",
   "id": "2e98897b-3182-4282-bfed-e0c893abde7d",
   "metadata": {},
   "source": [
    "The results emphasize an important lesson: When there is hourly variation in demand and/or supply, assessing a technology's *cost-effectiveness* can be drastically different from its *economic value*. A few additional comments may be:\n",
    "* The average $\\lambda_h$ is roughly half for the wind generator ($\\approx10€$) compared to the other three plants ($\\approx20€$): Thus, when the wind generator is active, the system costs are generally low.\n",
    "* Even though the wind generator (```id4```) is by far the cheapest in terms of marginal costs (and most cost-effective cf. problems 1-2), the 'revenue' effect measured by the plant-specific average $\\lambda_h$ makes the marginal economic value of investing in coal-fired plants higher than wind.\n",
    "* Specifically, while wind is by far most cost-effective, the effect of hourly variation in demand/generating capacity makes the marginal economic value of investing in coal roughly $28€$ per capacity (GJ/h) and only $17.4€$ per capacity for wind."
   ]
  },
  {
   "cell_type": "markdown",
   "id": "76488235-8ab1-44d4-987a-881f1f704e58",
   "metadata": {
    "tags": []
   },
   "source": [
    "### Problem 4: The effect of wind generation and marginal economic value"
   ]
  },
  {
   "cell_type": "markdown",
   "id": "275e95de-672c-4f65-9430-ddbc04da68a4",
   "metadata": {
    "tags": []
   },
   "source": [
    "1. *Simulate an experiment where you gradually change wind generation capacity from 0 to 100.*\n",
    "2. *Display the effect on (i) The capacity factor (theoretical) and (ii) the marginal economic value of wind.*\n",
    "3. *Explain.*"
   ]
  },
  {
   "cell_type": "markdown",
   "id": "e26c8a1c-838b-441d-b2cd-651516c171d1",
   "metadata": {},
   "source": [
    "#### 4.1. *Simulate experiment:*\n",
    "\n",
    "To create the simulation, we use the ```loopSolveExtract``` method that we also used in [Exercise 1](E1_SolutionGuide.ipynb):"
   ]
  },
  {
   "cell_type": "markdown",
   "id": "90118760-fe4f-414e-9f46-ec849d219c64",
   "metadata": {},
   "source": [
    "i) Create loop (with 51 gridpoints here):"
   ]
  },
  {
   "cell_type": "code",
   "execution_count": 18,
   "id": "8d0e1187-9507-47a2-b8de-2ba71b29462e",
   "metadata": {},
   "outputs": [],
   "source": [
    "loop = pd.Index(range(51), name = 'loop')"
   ]
  },
  {
   "cell_type": "markdown",
   "id": "12035fff-aa0a-4742-8865-bdca07c1839b",
   "metadata": {},
   "source": [
    "ii) Create grid of values to update throughout the loop by specifying first (```v0```) and final value in the loop (```vT```):"
   ]
  },
  {
   "cell_type": "code",
   "execution_count": 19,
   "id": "aa8d0321-0110-4af7-9a5b-b65e33beb548",
   "metadata": {},
   "outputs": [],
   "source": [
    "v0 = pd.Series(0, index = pd.Index(['id4'], name = 'id')) # 'id4' is the wind plant\n",
    "vT = pd.Series(100, index = pd.Index(['id4'], name = 'id'))\n",
    "windGrid = addGrid(v0, vT, loop, 'GeneratingCapacity') # inputs are (1) first value in grid, (2) final value, (3) loop, (4) name of symbol"
   ]
  },
  {
   "cell_type": "markdown",
   "id": "a0117820-5cec-4ef9-8a12-377c42dae853",
   "metadata": {},
   "source": [
    "iii) Specify which symbols to save in the simulations:"
   ]
  },
  {
   "cell_type": "code",
   "execution_count": 20,
   "id": "39a7fae7-5c0b-426c-9250-322bb5fb02c3",
   "metadata": {},
   "outputs": [],
   "source": [
    "extract = ['capacityFactor','marginalEconomicValue']"
   ]
  },
  {
   "cell_type": "markdown",
   "id": "1bff592f-af62-4244-aa9b-74708a7f3b1c",
   "metadata": {},
   "source": [
    "iv) Run simulation:"
   ]
  },
  {
   "cell_type": "code",
   "execution_count": 21,
   "id": "736108da-561e-4a41-bf63-dc42057464ba",
   "metadata": {},
   "outputs": [],
   "source": [
    "solution = m.loopSolveExtract(loop,[windGrid],extract)"
   ]
  },
  {
   "cell_type": "markdown",
   "id": "d13a2d89-a0aa-4c91-a6da-875329b06e41",
   "metadata": {
    "tags": []
   },
   "source": [
    "#### 4.2. *Display effects:*"
   ]
  },
  {
   "cell_type": "markdown",
   "id": "597f03bd-a9e1-4d8c-80b2-5f3cb6582ed2",
   "metadata": {},
   "source": [
    "This can be done \"quick and dirty\" by using the build-in features of the ```pandas``` package that we rely on. We start by showing this. Below, we give a little guidance to how to adjust your plot a bit more."
   ]
  },
  {
   "cell_type": "markdown",
   "id": "ed0c137c-37eb-4cc9-86ad-bbd5445be0eb",
   "metadata": {},
   "source": [
    "**Quick and dirty:**"
   ]
  },
  {
   "cell_type": "code",
   "execution_count": 22,
   "id": "727c8358-76aa-4087-8442-b588261be947",
   "metadata": {},
   "outputs": [
    {
     "data": {
      "image/png": "[encoded data removed]",
      "text/plain": [
       "<Figure size 576x396 with 1 Axes>"
      ]
     },
     "metadata": {},
     "output_type": "display_data"
    }
   ],
   "source": [
    "solution['capacityFactor'].unstack('id').plot();"
   ]
  },
  {
   "cell_type": "code",
   "execution_count": 23,
   "id": "d77d2442-fc70-4233-8341-aca6dde2157f",
   "metadata": {},
   "outputs": [
    {
     "data": {
      "image/png": "[encoded data removed]",
      "text/plain": [
       "<Figure size 576x396 with 1 Axes>"
      ]
     },
     "metadata": {},
     "output_type": "display_data"
    }
   ],
   "source": [
    "solution['marginalEconomicValue'].unstack('id').plot();"
   ]
  },
  {
   "cell_type": "markdown",
   "id": "4097414a-5f2e-4657-9e93-c07429248ca6",
   "metadata": {},
   "source": [
    "**Slow but clean:**"
   ]
  },
  {
   "cell_type": "markdown",
   "id": "00dbfc9b-66c3-43a8-9cec-e6038023ceca",
   "metadata": {},
   "source": [
    "Let us start by collecting the data in one dataframe with categories. Because the two variables in question are defined over the same index, this is very simple to do:"
   ]
  },
  {
   "cell_type": "code",
   "execution_count": 24,
   "id": "70fd3c7e-9b62-4f52-b541-67670de8dff4",
   "metadata": {
    "scrolled": true,
    "tags": []
   },
   "outputs": [
    {
     "data": {
      "text/html": [
       "<div>\n",
       "<style scoped>\n",
       "    .dataframe tbody tr th:only-of-type {\n",
       "        vertical-align: middle;\n",
       "    }\n",
       "\n",
       "    .dataframe tbody tr th {\n",
       "        vertical-align: top;\n",
       "    }\n",
       "\n",
       "    .dataframe thead th {\n",
       "        text-align: right;\n",
       "    }\n",
       "</style>\n",
       "<table border=\"1\" class=\"dataframe\">\n",
       "  <thead>\n",
       "    <tr style=\"text-align: right;\">\n",
       "      <th></th>\n",
       "      <th></th>\n",
       "      <th>capacityFactor</th>\n",
       "      <th>marginalEconomicValue</th>\n",
       "    </tr>\n",
       "    <tr>\n",
       "      <th>id</th>\n",
       "      <th>loop</th>\n",
       "      <th></th>\n",
       "      <th></th>\n",
       "    </tr>\n",
       "  </thead>\n",
       "  <tbody>\n",
       "    <tr>\n",
       "      <th rowspan=\"5\" valign=\"top\">id1</th>\n",
       "      <th>0</th>\n",
       "      <td>0.9</td>\n",
       "      <td>24.092022</td>\n",
       "    </tr>\n",
       "    <tr>\n",
       "      <th>1</th>\n",
       "      <td>0.882</td>\n",
       "      <td>24.092022</td>\n",
       "    </tr>\n",
       "    <tr>\n",
       "      <th>2</th>\n",
       "      <td>0.864</td>\n",
       "      <td>24.092022</td>\n",
       "    </tr>\n",
       "    <tr>\n",
       "      <th>3</th>\n",
       "      <td>0.846</td>\n",
       "      <td>24.092022</td>\n",
       "    </tr>\n",
       "    <tr>\n",
       "      <th>4</th>\n",
       "      <td>0.828</td>\n",
       "      <td>24.092022</td>\n",
       "    </tr>\n",
       "    <tr>\n",
       "      <th>...</th>\n",
       "      <th>...</th>\n",
       "      <td>...</td>\n",
       "      <td>...</td>\n",
       "    </tr>\n",
       "    <tr>\n",
       "      <th rowspan=\"5\" valign=\"top\">id4</th>\n",
       "      <th>46</th>\n",
       "      <td>0.404891</td>\n",
       "      <td>2.438099</td>\n",
       "    </tr>\n",
       "    <tr>\n",
       "      <th>47</th>\n",
       "      <td>0.400266</td>\n",
       "      <td>2.438099</td>\n",
       "    </tr>\n",
       "    <tr>\n",
       "      <th>48</th>\n",
       "      <td>0.395833</td>\n",
       "      <td>2.438099</td>\n",
       "    </tr>\n",
       "    <tr>\n",
       "      <th>49</th>\n",
       "      <td>0.391582</td>\n",
       "      <td>2.438099</td>\n",
       "    </tr>\n",
       "    <tr>\n",
       "      <th>50</th>\n",
       "      <td>0.3875</td>\n",
       "      <td>2.438099</td>\n",
       "    </tr>\n",
       "  </tbody>\n",
       "</table>\n",
       "<p>204 rows × 2 columns</p>\n",
       "</div>"
      ],
      "text/plain": [
       "         capacityFactor marginalEconomicValue\n",
       "id  loop                                     \n",
       "id1 0               0.9             24.092022\n",
       "    1             0.882             24.092022\n",
       "    2             0.864             24.092022\n",
       "    3             0.846             24.092022\n",
       "    4             0.828             24.092022\n",
       "...                 ...                   ...\n",
       "id4 46         0.404891              2.438099\n",
       "    47         0.400266              2.438099\n",
       "    48         0.395833              2.438099\n",
       "    49         0.391582              2.438099\n",
       "    50           0.3875              2.438099\n",
       "\n",
       "[204 rows x 2 columns]"
      ]
     },
     "execution_count": 24,
     "metadata": {},
     "output_type": "execute_result"
    }
   ],
   "source": [
    "df = pd.DataFrame({k: solution[k] for k in ('capacityFactor','marginalEconomicValue')})\n",
    "df"
   ]
  },
  {
   "cell_type": "markdown",
   "id": "a23ecbbe-49ec-4134-8886-698e7dc4a90d",
   "metadata": {},
   "source": [
    "Next, we can update the indices to something that is a bit more intuitive. In our model, for instance, the plant ```id```s can be tied to unique 'types' of plants (coal, gas, bio, wind). And, the ```loop``` which is now just integers from 0-50 can be replaced by what we are looping over: The generating capacity of the wind turbine:"
   ]
  },
  {
   "cell_type": "code",
   "execution_count": 25,
   "id": "5540ead4-40cc-4d6b-acd7-ba8fc5dd72a0",
   "metadata": {
    "scrolled": true,
    "tags": []
   },
   "outputs": [
    {
     "data": {
      "text/html": [
       "<div>\n",
       "<style scoped>\n",
       "    .dataframe tbody tr th:only-of-type {\n",
       "        vertical-align: middle;\n",
       "    }\n",
       "\n",
       "    .dataframe tbody tr th {\n",
       "        vertical-align: top;\n",
       "    }\n",
       "\n",
       "    .dataframe thead th {\n",
       "        text-align: right;\n",
       "    }\n",
       "</style>\n",
       "<table border=\"1\" class=\"dataframe\">\n",
       "  <thead>\n",
       "    <tr style=\"text-align: right;\">\n",
       "      <th></th>\n",
       "      <th></th>\n",
       "      <th>capacityFactor</th>\n",
       "      <th>marginalEconomicValue</th>\n",
       "    </tr>\n",
       "    <tr>\n",
       "      <th>Plant type</th>\n",
       "      <th>$q_W$</th>\n",
       "      <th></th>\n",
       "      <th></th>\n",
       "    </tr>\n",
       "  </thead>\n",
       "  <tbody>\n",
       "    <tr>\n",
       "      <th rowspan=\"5\" valign=\"top\">Coal</th>\n",
       "      <th>0.0</th>\n",
       "      <td>0.9</td>\n",
       "      <td>24.092022</td>\n",
       "    </tr>\n",
       "    <tr>\n",
       "      <th>2.0</th>\n",
       "      <td>0.882</td>\n",
       "      <td>24.092022</td>\n",
       "    </tr>\n",
       "    <tr>\n",
       "      <th>4.0</th>\n",
       "      <td>0.864</td>\n",
       "      <td>24.092022</td>\n",
       "    </tr>\n",
       "    <tr>\n",
       "      <th>6.0</th>\n",
       "      <td>0.846</td>\n",
       "      <td>24.092022</td>\n",
       "    </tr>\n",
       "    <tr>\n",
       "      <th>8.0</th>\n",
       "      <td>0.828</td>\n",
       "      <td>24.092022</td>\n",
       "    </tr>\n",
       "    <tr>\n",
       "      <th>...</th>\n",
       "      <th>...</th>\n",
       "      <td>...</td>\n",
       "      <td>...</td>\n",
       "    </tr>\n",
       "    <tr>\n",
       "      <th rowspan=\"5\" valign=\"top\">Wind</th>\n",
       "      <th>92.0</th>\n",
       "      <td>0.404891</td>\n",
       "      <td>2.438099</td>\n",
       "    </tr>\n",
       "    <tr>\n",
       "      <th>94.0</th>\n",
       "      <td>0.400266</td>\n",
       "      <td>2.438099</td>\n",
       "    </tr>\n",
       "    <tr>\n",
       "      <th>96.0</th>\n",
       "      <td>0.395833</td>\n",
       "      <td>2.438099</td>\n",
       "    </tr>\n",
       "    <tr>\n",
       "      <th>98.0</th>\n",
       "      <td>0.391582</td>\n",
       "      <td>2.438099</td>\n",
       "    </tr>\n",
       "    <tr>\n",
       "      <th>100.0</th>\n",
       "      <td>0.3875</td>\n",
       "      <td>2.438099</td>\n",
       "    </tr>\n",
       "  </tbody>\n",
       "</table>\n",
       "<p>204 rows × 2 columns</p>\n",
       "</div>"
      ],
      "text/plain": [
       "                 capacityFactor marginalEconomicValue\n",
       "Plant type $q_W$                                     \n",
       "Coal       0.0              0.9             24.092022\n",
       "           2.0            0.882             24.092022\n",
       "           4.0            0.864             24.092022\n",
       "           6.0            0.846             24.092022\n",
       "           8.0            0.828             24.092022\n",
       "...                         ...                   ...\n",
       "Wind       92.0        0.404891              2.438099\n",
       "           94.0        0.400266              2.438099\n",
       "           96.0        0.395833              2.438099\n",
       "           98.0        0.391582              2.438099\n",
       "           100.0         0.3875              2.438099\n",
       "\n",
       "[204 rows x 2 columns]"
      ]
     },
     "execution_count": 25,
     "metadata": {},
     "output_type": "execute_result"
    }
   ],
   "source": [
    "idTypes = dict(id1 = 'Coal', id2 = 'Gas', id3 = 'Bio', id4 = 'Wind') # create a map from old-to-new plant id names\n",
    "loopNames = windGrid.droplevel('id') # create a map from old-to-new loop index names\n",
    "df.index = df.index.set_levels([df.index.levels[0].map(idTypes),  # update the index using the maps\n",
    "                                df.index.levels[1].map(loopNames)])\n",
    "df.index.names = ['Plant type', '$q_W$'] # update the names of the index\n",
    "df"
   ]
  },
  {
   "cell_type": "markdown",
   "id": "25960ab1-480f-4cdd-bfba-95b00ca48374",
   "metadata": {},
   "source": [
    "Now, let us plot the two variables in two separate ```subplots```. The following is a somewhat standardized way of creating multiple plots with control over a lot of things. You can try and have a look at the options used here to control axes, limits etc.:"
   ]
  },
  {
   "cell_type": "code",
   "execution_count": 26,
   "id": "d8b616f7-207d-40e6-8921-49aa3a3b750c",
   "metadata": {},
   "outputs": [
    {
     "data": {
      "image/png": "[encoded data removed]",
      "text/plain": [
       "<Figure size 864x288 with 2 Axes>"
      ]
     },
     "metadata": {},
     "output_type": "display_data"
    }
   ],
   "source": [
    "# 1: Control size of the total figure, number of subplots etc.:\n",
    "nplots = 2\n",
    "nrows = math.ceil(nplots/2)\n",
    "fig, axes = plt.subplots(nrows, min(nplots, 2), figsize = (12, (4*nrows)));\n",
    "plt.subplots_adjust(hspace=0.35) # create a bit of extra space between subplots\n",
    "\n",
    "# 2: Plot capacityFactor:\n",
    "ax = plt.subplot(nrows, min(nplots,2), 1) # access subplot 1\n",
    "df_i = df['capacityFactor'].unstack('Plant type')\n",
    "df_i.plot(ax=ax, legend=False, linewidth=3); # drop the legend from this specific subplot\n",
    "ax.set_xlabel('$q_W$', labelpad=10); # set label on the x-axis; labelpad specifies distance from axis to edges of the plot \n",
    "ax.set_ylabel(\"$CF$\", labelpad=10); # set label on the y-axis\n",
    "ax.set_xlim([df_i.index.min(), df_i.index.max()]); # set limits on x-axis\n",
    "ax.set_ylim([0, 1]); # set limits on the y-axis\n",
    "\n",
    "# 3: Plot marginalEconomicValue; repeat from subplot 1\n",
    "ax = plt.subplot(nrows, min(nplots,2), 2) # access subplot 2\n",
    "df_i = df['marginalEconomicValue'].unstack('Plant type')\n",
    "df_i.plot(ax=ax, legend=False, linewidth=3);\n",
    "ax.set_xlabel('$q_W$', labelpad=10);\n",
    "ax.set_ylabel(\"$\\partial \\mathcal{L}^B/\\partial q_i$\",labelpad=10); \n",
    "ax.set_xlim([df_i.index.min(), df_i.index.max()]); # set limits on x-axis\n",
    "ax.set_ylim([0, math.ceil(df['marginalEconomicValue'].max()/5) * 5]); # set upper limit on the y-axis as the nearest integer larger than max that is divisible by 5 \n",
    "\n",
    "# 4: Add one legend for the whole figure; this can be nice to use this when subplots share the same legend.\n",
    "fig.legend(df_i.columns, loc = 9, ncol = 4, frameon=True) # add columns as legends above the plot\n",
    "fig.tight_layout(); # auxiliary function that often makes the plot look a bit nicer\n",
    "fig.subplots_adjust(top=0.9); # make room for the legends to be above the plot"
   ]
  },
  {
   "cell_type": "markdown",
   "id": "8c41a161-2fea-4f66-af35-cfb10d22cfb6",
   "metadata": {
    "tags": []
   },
   "source": [
    "#### 4.3. *Explain results:*"
   ]
  },
  {
   "cell_type": "markdown",
   "id": "494a6506-ef35-4eeb-bc85-0bc530716415",
   "metadata": {},
   "source": [
    "It is very useful to have the merit order curves present in order to explain the results here - so, they are printed here again for convenience:"
   ]
  },
  {
   "cell_type": "code",
   "execution_count": 27,
   "id": "97346434-ed7b-419c-a352-2f56a7115a46",
   "metadata": {},
   "outputs": [
    {
     "data": {
      "text/html": [
       "\n",
       "        <iframe\n",
       "            width=\"600\"\n",
       "            height=\"300\"\n",
       "            src=\"Misc/Figs/mBasicInt_MeritOrder.pdf\"\n",
       "            frameborder=\"0\"\n",
       "            allowfullscreen\n",
       "            \n",
       "        ></iframe>\n",
       "        "
      ],
      "text/plain": [
       "<IPython.lib.display.IFrame at 0x202f9f9d100>"
      ]
     },
     "execution_count": 27,
     "metadata": {},
     "output_type": "execute_result"
    }
   ],
   "source": [
    "IFrame(\"Misc/Figs/mBasicInt_MeritOrder.pdf\", width=600, height=300)"
   ]
  },
  {
   "cell_type": "markdown",
   "id": "9b718187-913f-4f14-87f4-a7d69efa23ee",
   "metadata": {},
   "source": [
    "We could for example comment on:\n",
    "* **When there is little wind generation**: The marginal supply most often comes from the coal plant, but also sometimes from the biomass plant. If we compare to the merit order curve for the four hours of the model, this makes pretty good sense: \n",
    "    * For $h=1,4$ the base load is covered by wind and coal only. Thus, when we introduce wind here, coal is crowded out; this results in a lower capacity factor for the coal-fired plant. \n",
    "    * For $h=2$, the peak load is covered by the more expensive biomass powered plant. Thus, when we introduce wind in these hours, the capacity factor drops here. \n",
    "    * For $h=4$, all plants work at full capacity; equilibrium is etablished through load shedding. Thus, when we introduce wind here, the capacity factors of the other plants do not change.\n",
    "* **When wind generation exceeds $40$ and $50$ GJ/h**: Wind starts to cover *more* than the base load in hours $h=1,4$. Thus, the capacity factor of the wind technology drops and with it the marginal economic value of generation capacity. \n",
    "* **When wind generation exceeds $80$ GJ/h**: The marginal supply with peak load $h=2$ shifts from the biomass plant to the gas plant. Thus, the marginal system costs decreases. As wind, coal, and gas plants are all active in this hour, this affects the profitability of all these plants: Now they are no longer crowding out the very expensive biomass plant, but instead the less expensive natural gas plant. "
   ]
  }
 ],
 "metadata": {
  "kernelspec": {
   "display_name": "Python 3 (ipykernel)",
   "language": "python",
   "name": "python3"
  },
  "language_info": {
   "codemirror_mode": {
    "name": "ipython",
    "version": 3
   },
   "file_extension": ".py",
   "mimetype": "text/x-python",
   "name": "python",
   "nbconvert_exporter": "python",
   "pygments_lexer": "ipython3",
   "version": "3.9.7"
  }
 },
 "nbformat": 4,
 "nbformat_minor": 5
}
