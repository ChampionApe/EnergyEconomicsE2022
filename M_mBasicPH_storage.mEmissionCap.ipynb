{
 "cells": [
  {
   "cell_type": "code",
   "execution_count": 1,
   "id": "c9624e82-434b-440e-ab71-5e5c7904727d",
   "metadata": {},
   "outputs": [],
   "source": [
    "%run stdPackages.ipynb\n",
    "read = {'variables': ['Fundamentals', 'LoadVariables', 'TransmissionLines', 'GeneratorsVariables','StorageVariables','Regulation'],\n",
    "        'maps': ['LoadMaps','GeneratorsMaps','StorageMaps'],\n",
    "        'variable2D': ['HourlyVariation'],\n",
    "        'scalars': ['Scalars']}\n",
    "db = dbFromWB(os.path.join(d['data'],'E5.xlsx'), read)\n",
    "readSets(db)"
   ]
  },
  {
   "cell_type": "markdown",
   "id": "59051523-050b-417a-9924-4d67c588c062",
   "metadata": {
    "tags": []
   },
   "source": [
    "# The ```mBasicPH_storage.mEmissionCap``` model"
   ]
  },
  {
   "cell_type": "markdown",
   "id": "219cb493-ded1-42b6-b1cb-86b378eeec00",
   "metadata": {},
   "source": [
    "*Extension is identical to the one in ```mBasicPH.mEmissionCap```*"
   ]
  },
  {
   "cell_type": "markdown",
   "id": "c1dfdd0e-1f9b-4945-92e1-8dec08d0f2cf",
   "metadata": {},
   "source": [
    "Test with common cap on emissions:"
   ]
  },
  {
   "cell_type": "code",
   "execution_count": 2,
   "id": "b45c028e-9b43-4db2-8e4f-154e4a63130c",
   "metadata": {},
   "outputs": [
    {
     "name": "stdout",
     "output_type": "stream",
     "text": [
      "Solution status 0: Optimization terminated successfully.\n"
     ]
    }
   ],
   "source": [
    "m = mBasicPH_storage.mEmissionCap(db, commonCap = True)\n",
    "m.solve()"
   ]
  },
  {
   "cell_type": "markdown",
   "id": "4d4ed78b-7afc-4316-aa9e-aab846ab48c1",
   "metadata": {},
   "source": [
    "Test with geographic-specific cap:"
   ]
  },
  {
   "cell_type": "code",
   "execution_count": 3,
   "id": "d4ad53eb-0641-4200-b526-2d4ed6e7b27d",
   "metadata": {},
   "outputs": [
    {
     "name": "stdout",
     "output_type": "stream",
     "text": [
      "Solution status 0: Optimization terminated successfully.\n"
     ]
    }
   ],
   "source": [
    "m.commonCap = False\n",
    "m.solve()"
   ]
  }
 ],
 "metadata": {
  "kernelspec": {
   "display_name": "Python 3 (ipykernel)",
   "language": "python",
   "name": "python3"
  },
  "language_info": {
   "codemirror_mode": {
    "name": "ipython",
    "version": 3
   },
   "file_extension": ".py",
   "mimetype": "text/x-python",
   "name": "python",
   "nbconvert_exporter": "python",
   "pygments_lexer": "ipython3",
   "version": "3.9.13"
  }
 },
 "nbformat": 4,
 "nbformat_minor": 5
}
