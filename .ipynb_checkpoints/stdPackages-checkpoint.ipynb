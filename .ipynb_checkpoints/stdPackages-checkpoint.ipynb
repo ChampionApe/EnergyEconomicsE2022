{
 "cells": [
  {
   "cell_type": "code",
   "execution_count": 1,
   "id": "0d6d5e60-6298-4433-a01d-350457b05a10",
   "metadata": {},
   "outputs": [],
   "source": [
    "import os, pandas as pd, numpy as np, pickle, math\n",
    "from scipy import optimize\n",
    "from IPython.display import IFrame\n",
    "_repo = 'EnergyEconomicsE2022'\n",
    "d = {'main': os.path.join(os.getcwd().split(_repo,1)[0],_repo),\n",
    "     'curr': os.getcwd()}\n",
    "d.update({'py': os.path.join(d['main'], 'py'),\n",
    "          'data': os.path.join(d['main'], 'Data')})\n",
    "os.chdir(d['py'])\n",
    "import database, standardPlots, lpCompiler, lpModels, mBasic, mBasicInt, mBasicTrade, mBasicPH, mBasicPH_storage, mGF_Trade, mGF_PH\n",
    "from _mixedTools import *\n",
    "from databaseAux import readSets, addGrid, applyMult\n",
    "from subsetPandas import rc_AdjPd, rc_pd\n",
    "from readDatabase import dbFromWB\n",
    "os.chdir(d['curr'])"
   ]
  },
  {
   "cell_type": "markdown",
   "id": "1e4d6cc2-70c9-42a8-b354-5800f89422e6",
   "metadata": {},
   "source": [
    "*Plotting:*"
   ]
  },
  {
   "cell_type": "code",
   "execution_count": 1,
   "id": "0245e1a9-0905-4644-8475-896e9aee763b",
   "metadata": {},
   "outputs": [],
   "source": [
    "import matplotlib as mpl, matplotlib.pyplot as plt, seaborn\n",
    "from matplotlib import cm\n",
    "from matplotlib.ticker import LinearLocator\n",
    "%matplotlib inline\n",
    "plt.style.use('seaborn-whitegrid')\n",
    "mpl.style.use('seaborn')\n",
    "plt.rcParams['font.family'] = 'Palatino Linotype'\n",
    "prop_cycle = plt.rcParams[\"axes.prop_cycle\"]\n",
    "colors = prop_cycle.by_key()[\"color\"]\n",
    "long_colors = ['#1f78b4','#a6cee3','#b2df8a','#33a02c','#fb9a99','#e31a1c','#fdbf6f','#ff7f00','#cab2d6','#6a3d9a','#ffff99','#b15928']"
   ]
  }
 ],
 "metadata": {
  "kernelspec": {
   "display_name": "Python 3 (ipykernel)",
   "language": "python",
   "name": "python3"
  },
  "language_info": {
   "codemirror_mode": {
    "name": "ipython",
    "version": 3
   },
   "file_extension": ".py",
   "mimetype": "text/x-python",
   "name": "python",
   "nbconvert_exporter": "python",
   "pygments_lexer": "ipython3",
   "version": "3.9.13"
  }
 },
 "nbformat": 4,
 "nbformat_minor": 5
}
