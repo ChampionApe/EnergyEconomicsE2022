{
 "cells": [
  {
   "cell_type": "code",
   "execution_count": 1,
   "id": "6cb2ed60-b510-49ae-a498-2aa7a3ccf974",
   "metadata": {},
   "outputs": [],
   "source": [
    "%run stdPackages.ipynb\n",
    "slides = False # print to slides format if True\n",
    "out_folder = os.path.join(d['curr'], 'energyDataPackage', 'Figs')\n",
    "d['data'] = os.path.join(d['curr'],'energyDataPackage','Data')"
   ]
  },
  {
   "cell_type": "markdown",
   "id": "406cd259-8e9e-44f3-99bd-71d88c5b4b71",
   "metadata": {},
   "source": [
    "#### Test without heat storage:"
   ]
  },
  {
   "cell_type": "markdown",
   "id": "8de58415-e9f9-4e4f-8af7-ff9d70c65e44",
   "metadata": {},
   "source": [
    "Load data without storage:"
   ]
  },
  {
   "cell_type": "code",
   "execution_count": 2,
   "id": "a7eabc19-f19a-4800-84bd-9029d730538d",
   "metadata": {},
   "outputs": [
    {
     "name": "stderr",
     "output_type": "stream",
     "text": [
      "C:\\Users\\sxj477\\Documents\\GitHub\\EnergyEconomicsE2022\\py\\readDatabase.py:47: FutureWarning: In a future version, the Index constructor will not infer numeric dtypes when passed object-dtype sequences (matching Series behavior)\n",
      "  index = pd.MultiIndex.from_frame(pd_temp.iloc[1:,:-1],)\n",
      "C:\\Users\\sxj477\\Documents\\GitHub\\EnergyEconomicsE2022\\py\\readDatabase.py:47: FutureWarning: In a future version, the Index constructor will not infer numeric dtypes when passed object-dtype sequences (matching Series behavior)\n",
      "  index = pd.MultiIndex.from_frame(pd_temp.iloc[1:,:-1],)\n",
      "C:\\Users\\sxj477\\Documents\\GitHub\\EnergyEconomicsE2022\\py\\readDatabase.py:63: FutureWarning: In a future version, the Index constructor will not infer numeric dtypes when passed object-dtype sequences (matching Series behavior)\n",
      "  var = pd.DataFrame(pd_sheet.iloc[1:,1:].values, index = pd.Index(pd_sheet.iloc[1:,0],name=domains[1]), columns = pd.Index(pd_sheet.iloc[0,1:], name = domains[2])).stack()\n"
     ]
    }
   ],
   "source": [
    "read = {'variables': ['Fundamentals','LoadVariation','Load','TransmissionLines','Generators'],\n",
    "        'variable2D': ['FuelMix','hourlyVariation'],\n",
    "        'scalars': ['scalars'],\n",
    "        'maps': ['LoadMaps','GeneratorMaps']}\n",
    "db = dbFromWB(os.path.join(d['data'],'EnergyDataPackage.xlsx'), read)\n",
    "readSets(db)"
   ]
  },
  {
   "cell_type": "markdown",
   "id": "134cd68a-00f1-45de-8501-43c577de449b",
   "metadata": {},
   "source": [
    "Subset data to only cover a few hours:"
   ]
  },
  {
   "cell_type": "code",
   "execution_count": 3,
   "id": "326a4cf8-66d6-47f9-b309-219d88da6830",
   "metadata": {},
   "outputs": [],
   "source": [
    "[db.__setitem__(k,rc_pd(db[k], db['h'][0:3])) for k in db.variableDomains('h', types=['set','variable'])];"
   ]
  },
  {
   "cell_type": "markdown",
   "id": "a06b43bd-b762-4454-9da3-6d4cf44eaf60",
   "metadata": {},
   "source": [
    "Test model:"
   ]
  },
  {
   "cell_type": "code",
   "execution_count": 4,
   "id": "851854d1-c315-4a2f-b6a7-56ab4f2e3060",
   "metadata": {},
   "outputs": [],
   "source": [
    "m = mBasicPH.mSimple(db)"
   ]
  },
  {
   "cell_type": "markdown",
   "id": "8ccd2aa4-dffa-40d1-87db-285c337cbd04",
   "metadata": {},
   "source": [
    "Test solve:"
   ]
  },
  {
   "cell_type": "code",
   "execution_count": 5,
   "id": "476feb86-3329-488c-8cb4-dffcaa2da4c7",
   "metadata": {},
   "outputs": [
    {
     "name": "stdout",
     "output_type": "stream",
     "text": [
      "Solution status 0: Optimization terminated successfully. (HiGHS Status 7: Optimal)\n"
     ]
    }
   ],
   "source": [
    "m.solve()"
   ]
  },
  {
   "cell_type": "markdown",
   "id": "a441dcec-2f72-4afe-939c-9b0b044f479b",
   "metadata": {
    "tags": []
   },
   "source": [
    "#### Test with heat storage:"
   ]
  },
  {
   "cell_type": "markdown",
   "id": "941f9c7c-40ce-45f0-80ad-0b56e59f80d3",
   "metadata": {},
   "source": [
    "Load data with storage:"
   ]
  },
  {
   "cell_type": "code",
   "execution_count": 6,
   "id": "de1151d4-11b2-48f8-bbcf-90394d05499b",
   "metadata": {},
   "outputs": [
    {
     "name": "stderr",
     "output_type": "stream",
     "text": [
      "C:\\Users\\sxj477\\Documents\\GitHub\\EnergyEconomicsE2022\\py\\readDatabase.py:47: FutureWarning: In a future version, the Index constructor will not infer numeric dtypes when passed object-dtype sequences (matching Series behavior)\n",
      "  index = pd.MultiIndex.from_frame(pd_temp.iloc[1:,:-1],)\n",
      "C:\\Users\\sxj477\\Documents\\GitHub\\EnergyEconomicsE2022\\py\\readDatabase.py:47: FutureWarning: In a future version, the Index constructor will not infer numeric dtypes when passed object-dtype sequences (matching Series behavior)\n",
      "  index = pd.MultiIndex.from_frame(pd_temp.iloc[1:,:-1],)\n",
      "C:\\Users\\sxj477\\Documents\\GitHub\\EnergyEconomicsE2022\\py\\readDatabase.py:63: FutureWarning: In a future version, the Index constructor will not infer numeric dtypes when passed object-dtype sequences (matching Series behavior)\n",
      "  var = pd.DataFrame(pd_sheet.iloc[1:,1:].values, index = pd.Index(pd_sheet.iloc[1:,0],name=domains[1]), columns = pd.Index(pd_sheet.iloc[0,1:], name = domains[2])).stack()\n"
     ]
    }
   ],
   "source": [
    "read['variables'] += ['StorageVariables']\n",
    "read['maps'] += ['StorageMaps']\n",
    "dbStorage = dbFromWB(os.path.join(d['data'],'EnergyDataPackage.xlsx'), read)\n",
    "readSets(dbStorage)"
   ]
  },
  {
   "cell_type": "markdown",
   "id": "b632c866-512b-43b8-a89e-5745f65dd446",
   "metadata": {},
   "source": [
    "Subset data to only cover a few hours:"
   ]
  },
  {
   "cell_type": "code",
   "execution_count": 7,
   "id": "2efed1fe-9503-4efe-92f2-37f59be3b724",
   "metadata": {},
   "outputs": [],
   "source": [
    "[dbStorage.__setitem__(k,rc_pd(dbStorage[k], dbStorage['h'][0:3])) for k in dbStorage.variableDomains('h', types=['set','variable'])];"
   ]
  },
  {
   "cell_type": "markdown",
   "id": "1ca15fa9-92b3-4be9-99ee-613e78bc9281",
   "metadata": {},
   "source": [
    "Set up model with storage:"
   ]
  },
  {
   "cell_type": "code",
   "execution_count": 8,
   "id": "f22d2f37-2d5f-468d-a7ec-1bea14eb4f76",
   "metadata": {},
   "outputs": [],
   "source": [
    "mStorage = mBasicPH_storage.mSimple(dbStorage)"
   ]
  },
  {
   "cell_type": "markdown",
   "id": "9c47a0a3-9200-4753-899f-f3bb04fd7340",
   "metadata": {},
   "source": [
    "Solve:"
   ]
  },
  {
   "cell_type": "code",
   "execution_count": 9,
   "id": "b36763ed-476a-495f-82d8-b13933769b77",
   "metadata": {},
   "outputs": [
    {
     "name": "stdout",
     "output_type": "stream",
     "text": [
      "Solution status 0: Optimization terminated successfully. (HiGHS Status 7: Optimal)\n"
     ]
    }
   ],
   "source": [
    "mStorage.solve()"
   ]
  }
 ],
 "metadata": {
  "kernelspec": {
   "display_name": "Python 3 (ipykernel)",
   "language": "python",
   "name": "python3"
  },
  "language_info": {
   "codemirror_mode": {
    "name": "ipython",
    "version": 3
   },
   "file_extension": ".py",
   "mimetype": "text/x-python",
   "name": "python",
   "nbconvert_exporter": "python",
   "pygments_lexer": "ipython3",
   "version": "3.9.7"
  }
 },
 "nbformat": 4,
 "nbformat_minor": 5
}
